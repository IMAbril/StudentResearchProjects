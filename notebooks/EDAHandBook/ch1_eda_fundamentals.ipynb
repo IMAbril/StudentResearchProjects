{
 "cells": [
  {
   "cell_type": "markdown",
   "id": "ff21fbe4-b1b4-4817-9fcb-64606aac5887",
   "metadata": {},
   "source": [
    "# Exploratory Data Analysis Fundamentals"
   ]
  },
  {
   "cell_type": "markdown",
   "id": "7ac4fb8b-c497-4ab9-9ec9-d5e4495b64fa",
   "metadata": {},
   "source": [
    "**Chapter overview**:\n",
    "Exploratory data analysis fundamentals will help us learn and revise the fundamental aspects of EDA. We will dig into the importance of EDA and the main data analysis tasks, and try to make sense out of data. In addition to that, we will use Python to explore different types of data, including numerical data, time series-data, geospatial data, categorical data, and others.\n",
    "\n",
    "**EDA**: Is a process of examining the available dataset to discover patterns, spot anomalies, test hypotheses, and check assumptions using statistical measures. The primary aim for EDA is to examine what data can tell us before actually going through formal modeling or hypothesis formulation. \n",
    "\n",
    "**Chapter topics**\n",
    "- Understanding data science.\n",
    "- The significance of EDA.\n",
    "- Making sense of data.\n",
    "- Comparing EDA with classical and Bayesian analysis."
   ]
  },
  {
   "cell_type": "markdown",
   "id": "bf08f50f-2f50-41b2-bcc0-26b35e9ee90d",
   "metadata": {},
   "source": [
    "## Understanding data science"
   ]
  },
  {
   "cell_type": "markdown",
   "id": "eb898eee-d159-4066-9238-5a6879d5da2d",
   "metadata": {},
   "source": [
    "**Stages of EDA**\n",
    "\n",
    "- **Data requirements**: What type of data is required for the organization to be collected, curated, and stored. In addition to this, it is required to categorize the data, numerical or categorical, and the format of storage and dissemination.\n",
    "- **Data collection**: Data collected from several sources must be stored in the correct format and transferred to the right information technology personnel within company. Data can be collected from several objects on several events using different types of sensors and storage tools.\n",
    "- **Data processing**: Preprocessing involves the process of pre-curating the dataset before actual analysis. Common tasks involve correctly exporting the dataset, placing them under the right tables, structuring them, and exporting them in the correct format.\n",
    "- **Data cleaning**: Preprocessed data is still not ready for detailed analysis. It must be correctly transformed for an incompleteness check, duplicates check, error check, and missing value check. These tasks are performed in the data cleaning stage, which involves responsibilities such as matching the correct record, finding inaccuracies in the dataset, understanding the overall data quality, removing duplicate items, and filling in the missing values. Data cleaning is dependent on the types of data under study. Finding data issues on any dataset requires us to perform some analytical techniques, we call it *Data Transformation*.\n",
    "- **EDA**: Is the stage where we actually start to understand the message contained in the data. Several types of data transformation techniques might be required during the process of exploration.\n",
    "- **Modelling and algorithm**: In general, a model always describes the relationship between independent and dependent variables. Inferential statistics deals with quantifying relationships between particular variables. An example of inferential statistic would be regression analysis.\n",
    "- **Data product**: Any computer software that uses data as inputs, produces outputs, and provides feedback based on the output to control the environment is referred to as a data product. A data product is generally based on a model developed during data analysis, for example, a recommendation model that inputs user purchase history and recommends a related item that the user is highly likely to buy.\n",
    "- **Communication**: This stage deals with dissemination the results to end *stakeholders* to use the result for *business intelligence*. One of the most notable steps in this stage is data visualization. Visualization deals with information relay techniques such as tables, charts and summary diagrams to show the analyzed result. "
   ]
  },
  {
   "cell_type": "markdown",
   "id": "7d944f8c-b4af-459e-81a8-5d2dccaa5445",
   "metadata": {},
   "source": [
    "## The significance of EDA"
   ]
  },
  {
   "cell_type": "markdown",
   "id": "f1994414-d0e0-4867-b323-f02bdf4751d0",
   "metadata": {},
   "source": [
    "To be certain of the insights that the collected data provides and to make further decisions, data mining is performed where we go through distinctive analysis processes. Exploratory Data Analysis is key, and usually the first exercise in data mining. It allow us to visualize data to understand it as well as to create hypotheses for further analysis. The exploratory analysis centers around creating a synopsis of data or insights for the next steps in a data mining project. EDA actually reveals ground truth about the content without making any underlying assumptions. This is the fact that data scientist use this process to actually understand what type of modeling and and hypotheses can be created. Key components of EDA include *summarizing data*, *statistical analysis*, and *visualization of data*."
   ]
  },
  {
   "cell_type": "markdown",
   "id": "55b177dc-c45e-442c-9025-ac18f9a1792e",
   "metadata": {},
   "source": [
    "### Steps in EDA"
   ]
  },
  {
   "cell_type": "markdown",
   "id": "c2ed48f7-26a5-44f4-ab3a-174457ab8b9d",
   "metadata": {},
   "source": [
    "- **Problem definition**: The problem definition works as the driving force for a data analysis plan execution. The main tasks involved in problem definition are defining the main objective of the analysis, defining the main deliverables, outlining the main roles and responsibilities, obtaining the current status of the data, defining the timetable, and performing cost/benefits analysis.\n",
    "- **Data preparation**: This step involves methods for preparing the dataset before actual analysis. In this step, we define the sources of the data, define data schemas and tables, understand the main characteristics of the data, clean the dataset, delete non-relevant datasets, trasform the data, and divide the data into required chunks for analysis.\n",
    "- **Data analysis**: This is one of the most crucial steps that deals with descriptive statistics and analysis of the data. The main tasks involve *summarizing the data*, *finding the hidden correlation and relationships among the data*, *developing predictive models*, *evaluating the models*, and *calculating the accuracies*. Some of the techniques used for data summarization are summary tables, graphs, descriptive statistics, inferential statistics, correlation statistics, searching, grouping, and mathematical models.\n",
    "- **Development and representation of the results**: This step involves presenting the dataset to the target audience in the form of graphs, summary tables, maps, and diagrams. This is also an essential step as the result analyzed from the dataset should be interpretable by the business stakeholders, which is one of the major steps of EDA. Most of the graphical analysis techiques include scattering plots, character plots, histograms, box plots, residual plots, mean plots, and others. "
   ]
  },
  {
   "cell_type": "markdown",
   "id": "b6f0479c-b5b3-4e9a-8c2c-7cf02c9aa9a4",
   "metadata": {},
   "source": [
    "## Making sense of data"
   ]
  },
  {
   "cell_type": "markdown",
   "id": "b0c87483-4472-4641-b829-58ac4fe9ae4d",
   "metadata": {},
   "source": [
    "Different disciplines store different kinds of data for different purposes. A dataset contains many observations about a particular object. For instance a dataset about patients in a hospital can contain many observations. A *patient* can be *described* by a patient identifier (ID), name, address, weight, date of birth, email and gender. Each of these features that describes a patient is a *variable*. Each observation (a patient) can have a specific value for each of these variables. \n",
    "\n",
    "Most of this data is stored in some sort of database management system in tables/schema. Most of the datasets broadly falls in two groups: numerical and categorical data.\n",
    "\n",
    "Understanding the type of data is relevant in understanding what type of computation you can perform, what type of model you should fit on the dataset, and what type of visualization you can generate. "
   ]
  },
  {
   "cell_type": "markdown",
   "id": "34c56040-a612-40c3-a0d9-c6195406bca1",
   "metadata": {},
   "source": [
    "### Numerical data\n"
   ]
  },
  {
   "cell_type": "markdown",
   "id": "66090949-ee85-4952-bb4a-4b0e810ffe24",
   "metadata": {},
   "source": [
    "This data is often referred to as quantitative data in statistics. The numerical data can be either discrete or continuous types.\n",
    "- **Discrete data**: This is data that is countable and its values can be listed out (finite possible values). \n",
    "- **Continuous data**: A variable that can have an infinite number of numerical values within a specific range is classified as continuous data. Continuous data can follow an interval measure of scale or ratio measure of scale. "
   ]
  },
  {
   "cell_type": "markdown",
   "id": "bf5f73c1-6ed1-458e-98e3-9bb23c79ee0b",
   "metadata": {},
   "source": [
    "### Categorical data"
   ]
  },
  {
   "cell_type": "markdown",
   "id": "a240bf6c-f0ae-4f6a-9855-0dba84bff295",
   "metadata": {},
   "source": [
    "This data is often referred to as qualitative data in statistics. A variable describing categorical data is referred to as a categorical variable. These type of variables can have one of a limited number of values. There are different types of categorical variables: \n",
    "- A **binary categorical variable** can take exactly two values and is also referred to as a **dichotomous variable**.\n",
    "- **Polytomous variables** are categorical variables that can take more than two possible values.\n",
    "\n",
    "Most of the categorical dataset follows either nominal or ordinal measurement scales."
   ]
  },
  {
   "cell_type": "markdown",
   "id": "bbaa8bcf-654a-4f1c-b0ca-b96aa271bf37",
   "metadata": {},
   "source": [
    "### Measurement scales"
   ]
  },
  {
   "cell_type": "markdown",
   "id": "82aee779-0d22-4ef8-b0b7-4765e9236b40",
   "metadata": {},
   "source": [
    "There are four different types of measurement scales described in statistics: nominal, ordinal, interval, and ratio. These scales are used more in academic industries.\n",
    "\n",
    "$$\n",
    "\\begin{array}{|c|c|c|c|c|}\n",
    "\\hline\n",
    "\\textbf{Provides: } & \\textbf{Nominal} & \\textbf{Ordinal} & \\textbf{Interval} & \\textbf{Ratio} \\\\ \\hline\n",
    "\\text{The \"order\" of values is known} &  & ✓ & ✓ & ✓ \\\\ \\hline\n",
    "\\text{\"Counts\", aka \"Frequency of Distribution\"} & ✓ & ✓ & ✓ & ✓ \\\\ \\hline\n",
    "\\text{Mode} & ✓ & ✓ & ✓ & ✓ \\\\ \\hline\n",
    "\\text{Median} &  & ✓ & ✓ & ✓ \\\\ \\hline\n",
    "\\text{Mean} &  &  & ✓ & ✓ \\\\ \\hline\n",
    "\\text{Can quantify the difference between each value} &  &  & ✓ & ✓ \\\\ \\hline\n",
    "\\text{Can add or substract values} &  &  & ✓ & ✓ \\\\ \\hline\n",
    "\\text{Can multiply and divide values} &  &  &  & ✓ \\\\ \\hline\n",
    "\\text{Has \"true zero\"} &  &  & & ✓ \\\\ \\hline\n",
    "\\end{array}\n",
    "$$\n"
   ]
  },
  {
   "cell_type": "markdown",
   "id": "3993caaa-6b10-4bc7-961f-867248720471",
   "metadata": {},
   "source": [
    "#### Nominal"
   ]
  },
  {
   "cell_type": "markdown",
   "id": "a5e6eac1-c38c-4bd2-bd3d-ac0dbfddbb00",
   "metadata": {},
   "source": [
    "These are practiced for labeling variables without any quantitative value. The scales are generally referred to as **labels**. And these scales are mutually exclusive and do not carry any numerical importance. Examples:\n",
    "- What is your gender?\n",
    "    - Male\n",
    "    - Female\n",
    "    - Third gender/Non binary\n",
    "    - I prefer not to answer\n",
    "    - Other\n",
    "Other examples include the following: the languages that are spoken in a particular country, biological species, parts of speech in grammar(noun, pronoun, adjective, and so on), taxonomic ranks in biology (Archea, Bacteria, and Eukarya).\n",
    "\n",
    "Nominal scales are considered qualitative scales and the measurements that are taken using qualitative scales are considered qualitative data. No form of arithmetic calculation can be made on nominal measures. \n",
    "\n",
    "In the case of a nominal dataset, you can certainly know the following:\n",
    "- **Frequency** is the rate at which a label occurs over a period of time within the dataset.\n",
    "- **Proportion** can be calculated by dividing the frequency by the total number of events.\n",
    "- Then, you could complete the **percentage** of each proportion.\n",
    "- And to **visualize** the nominal dataset, you can use either a pie chart or a bar chart.\n"
   ]
  },
  {
   "cell_type": "markdown",
   "id": "10c67189-05ca-4c20-a46e-9c432f3080bd",
   "metadata": {},
   "source": [
    "#### Ordinal"
   ]
  },
  {
   "cell_type": "markdown",
   "id": "26c3ba07-b220-4eb4-bc51-55cd12d20d98",
   "metadata": {},
   "source": [
    "The main difference in the ordinal and nominal scale is the order. In ordinal scales, the order of the values is a significant factor. For example: the answer to the question *Wordpress is making content managers' lives easier* is scaled down to five different ordinal values: Strongly Agree, Agree, Neutral, Disagree, and Strongly Disagree. Scales like these are referred to as the *Likert Scale*. \n",
    "\n",
    "Consider ordinal scales as an order of ranking (1st, 2nd, 3rd, 4th, and so on). The **median** item is allowed as the measure of central tendency; however, the **average** is not permitted. \n",
    "\n"
   ]
  },
  {
   "cell_type": "markdown",
   "id": "b1a1153f-65c4-4b60-aaba-d2ab3cf6379c",
   "metadata": {},
   "source": [
    "#### Interval"
   ]
  },
  {
   "cell_type": "markdown",
   "id": "12ff21cc-f1a4-476a-b5b4-c575efdf7459",
   "metadata": {},
   "source": [
    "In interval scales, both the order and exact differences between the values are significant. Interval scales are widely used in statistics, for example, in the measure of central tendencies-mean, median, mode, and standard deviations. Examples include location in Cartesian coordinates and direction measured in degrees from magnetic north. The mean, median, and mode are allowed on interval data."
   ]
  },
  {
   "cell_type": "markdown",
   "id": "00cfdd95-9072-4b16-a9c5-fa0761b44beb",
   "metadata": {},
   "source": [
    "#### Ratio"
   ]
  },
  {
   "cell_type": "markdown",
   "id": "689298ac-9960-4162-8dfc-a965a1259ac7",
   "metadata": {},
   "source": [
    "Ratio scales contain order, exact values, and absolute zero, which makes it possible to be used in descriptive and inferential statistics. These scales provide numerous possibilities for statistical analysis. Mathematical operations, the measure of central tendencies, and the **measure of dispersion** and **coefficient of variation**  can also be computed from such scales. Examples include a measure of energy, mass, length, duration, electrical energy, plan angle, and volume. "
   ]
  },
  {
   "cell_type": "markdown",
   "id": "a19e8524-41a2-4aac-bbea-fdd906d80534",
   "metadata": {},
   "source": [
    "## Comparing EDA with classical and Bayesian analysis"
   ]
  },
  {
   "cell_type": "markdown",
   "id": "52e25133-c643-4b0e-bd9d-6d5cb174acc0",
   "metadata": {},
   "source": [
    "There are several approaches to data analysis. Three of them are:\n",
    "\n",
    "- **Classical data analysis**: For the classical data analysis approach, the problem definition and data collection step are followed by model development, which is followed by analysis and result communication.\n",
    "\n",
    "- **Exploratory data analysis approach**: For the EDA approach, it follows the same approach as classical data analysis except the model imposition and the data analysis steps are swapped. The main focus is on the data, its structure, outliers, models, and visualizations. Generally, in EDA we do not impose any deterministic or probabilistic models on the data.\n",
    "\n",
    "- **Bayesian data analysis approach**: The bayesian approach incorporates *prior probability distribution* knowledge into the analysis steps, after model development and before data analysis. Prior probability distribution of any quantity expresses the belief about that particular quantity before considering some evidence.\n",
    "\n",
    "Data analyst and data scientist freely mix steps mentioned in the preceding approaches to get meaningful insights from the data. In addition to that, it is essentially difficult to judge or estimate which model is best for data analysis. All of them have their paradigms and are suitable for different types of data analysis. "
   ]
  }
 ],
 "metadata": {
  "kernelspec": {
   "display_name": "Python 3 (ipykernel)",
   "language": "python",
   "name": "python3"
  },
  "language_info": {
   "codemirror_mode": {
    "name": "ipython",
    "version": 3
   },
   "file_extension": ".py",
   "mimetype": "text/x-python",
   "name": "python",
   "nbconvert_exporter": "python",
   "pygments_lexer": "ipython3",
   "version": "3.12.4"
  }
 },
 "nbformat": 4,
 "nbformat_minor": 5
}

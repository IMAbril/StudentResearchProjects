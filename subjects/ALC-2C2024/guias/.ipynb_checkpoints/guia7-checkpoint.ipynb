{
 "cells": [
  {
   "cell_type": "markdown",
   "id": "004c7768-fffd-4613-a209-81385abbee20",
   "metadata": {},
   "source": [
    "# Guía 7: Métodos iterativos para sistemas lineales"
   ]
  },
  {
   "cell_type": "code",
   "execution_count": 384,
   "id": "116dac08-29c0-4ae5-b1ae-9fabb6510c65",
   "metadata": {},
   "outputs": [],
   "source": [
    "import sympy as sp\n",
    "import numpy as np\n",
    "from sympy import *\n",
    "from numpy.linalg import *"
   ]
  },
  {
   "cell_type": "markdown",
   "id": "90c8240a-898d-4cc9-a0ae-0338b8bb431a",
   "metadata": {},
   "source": [
    "**Métodos iterativos**\n",
    "\n",
    "Supongamos que queremos resolver $Ax=b$, pero la matriz $A$ es difícil de invertir. Entonces proponemos una descomposición $A = B+C$, donde $B$ es elegida de modo que sea *fácil* de invertir y escribimos: $Bx = -Cx+b$, o equivalentemente $x=-B^{-1}Cx+B^{-1}b$.\n",
    "\n",
    "Llamando $M_I = -B^{-1}C$ (denominada *matriz de iteraciones*) y $B^{-1}b = \\widetilde{b}$, resolver el sistema equivale a hallar $x$ tal que: $x = M_Ix + \\widetilde{b}$.\n",
    "\n",
    "La idea es tomar un vector inicial $x_0$ e iterar: \n",
    "\n",
    "$x_{n+1}= M_Ix_n + \\widetilde{b}$, con la esperanza de que $x_k \\rightarrow x$.\n",
    "\n",
    "Si llamamos al error $e_k = x-x_k \\implies e_{k+1}=M_Ie_k=M_I^{k+1}e_0 \\implies (e_k \\rightarrow 0 \\iff M_I^{k} \\rightarrow 0 \\iff \\rho(M_I)<1)$\n",
    "\n",
    "Más aún $||e_k|| \\leq C \\rho(M_I)^k$ lo que nos da la velocidad de convergencia del algoritmo."
   ]
  },
  {
   "cell_type": "markdown",
   "id": "5a78ab2c-34b3-4571-b137-e7a6ddfd948c",
   "metadata": {},
   "source": [
    "## Ejercicio 1"
   ]
  },
  {
   "cell_type": "markdown",
   "id": "d8cbae0a-6e43-4635-8df3-77ec8d931746",
   "metadata": {},
   "source": [
    "Escribir un programa que implemente el método de Jacobi y otro que implemente el método de Gauss-Seidel para la resolución de un sistema lineal $Ax = b$, con las siguientes condiciones:\n",
    "\n",
    "- que finalice si el método se estaciona.\n",
    "- que finalice con una advertencia si se excede cierto tope de iteraciones.\n",
    "\n",
    "*Sugerencia: investigar los comandos np.tril , np.triu y np.diag*\n",
    "\n",
    "Si tomamos $A = L + D + U$ (triangular inferior + diagonal + triangular superior), podemos ensayar varias descomposiciones $A= B + C$"
   ]
  },
  {
   "cell_type": "markdown",
   "id": "5f4dc7de-9d28-4027-b0ef-e04bc5c10b36",
   "metadata": {},
   "source": [
    "### Método de Jacobi\n",
    "\n",
    "Tomamos $B=D \\implies M_J = -D^{-1}(L+U)$ es la matriz de iteración. \n",
    "Notemos que $a_{ii} \\neq 0 \\forall i$, sino $D$ no sería inversible (si tomaramos $D$ con la diagonal igual a la de $A$).\n",
    "\n",
    "$\\implies \\forall i,\\ 1 \\leq i \\leq n, \\ \\sum_{j=1}^{n}a_{ij}x_j = b_i \\implies x_i = \\frac{b_i - \\sum_{j=1, j \\neq i}^{n}a_{ij}x_j}{a_{ii}}$\n",
    "\n",
    "La iteración quedaría:\n",
    "\n",
    "$ \\Large x_i^{(k+1)} = \\frac{b_i - \\sum_{j=1, j \\neq i}^{n}a_{ij}x_j^{(k)}}{a_{ii}}$\n",
    "\n"
   ]
  },
  {
   "cell_type": "code",
   "execution_count": 615,
   "id": "2f78dcf6-2f85-4782-9589-2d1f829d6a7e",
   "metadata": {},
   "outputs": [],
   "source": [
    "def f_jacobi(A, b, max_k):\n",
    "    n = len(b)\n",
    "    x = np.random.rand(n)  # Vector inicial con valores aleatorios\n",
    "    stationed = False  # Variable para controlar la convergencia\n",
    "    k = 0\n",
    "\n",
    "    while k < max_k and not stationed:\n",
    "        x_k = np.copy(x)  # Crear una copia de x para la iteración\n",
    "        for i in range(n):\n",
    "            # Calcular las sumas necesarias para la fórmula del método de Jacobi\n",
    "            sum1 = np.dot(A[i, :i], x[:i])  # Suma para j < i\n",
    "            sum2 = np.dot(A[i, i+1:], x[i+1:])  # Suma para j > i\n",
    "            x_k[i] = (b[i] - sum1 - sum2) / A[i, i]  # Actualización de x_k[i]\n",
    "        \n",
    "        # Verificar si x_k y x son lo suficientemente cercanos\n",
    "        if np.allclose(x_k, x, atol=1e-8):\n",
    "            stationed = True\n",
    "        else:\n",
    "            x = x_k  # Actualizar x para la siguiente iteración\n",
    "\n",
    "        k += 1  # Incrementar el contador de iteraciones\n",
    "\n",
    "    # Verificar si se alcanzó el tope de iteraciones sin convergencia\n",
    "    if not stationed:\n",
    "        print(\"Se excedió el tope de iteraciones\")\n",
    "\n",
    "    return x"
   ]
  },
  {
   "cell_type": "markdown",
   "id": "c2d05e11-da21-4f19-8784-134b83415973",
   "metadata": {},
   "source": [
    "### Método de Gauss Seidel\n",
    "\n",
    "Tomamos $B=L+D \\implies M_{GS} = -(L+D)^{-1}U$ es la matriz de iteración.\n",
    "\n",
    "$\\Large x_i^{(k+1)} = \\left( - \\sum_{j=i+1}^{n}a_{ij}x_j^{(k)} - \\sum_{j=1}^{i-1}a_{ij}x_j^{(k+1)} + b_i \\right)/a_{ii}$"
   ]
  },
  {
   "cell_type": "code",
   "execution_count": 185,
   "id": "65318e62-a2a3-4946-97e9-6fb1b0df1479",
   "metadata": {},
   "outputs": [],
   "source": [
    "def f_gauss_seidel(A, b, max_k):\n",
    "    n = len(b)\n",
    "    x = np.random.rand(n)  # Vector inicial con valores aleatorios\n",
    "    stationed = False  # Variable para controlar la convergencia\n",
    "    k = 0\n",
    "\n",
    "    while k < max_k and not stationed:\n",
    "        x_k = np.copy(x)  # Crear una copia de x para la iteración\n",
    "        for i in range(n):\n",
    "            # Calcular las sumas necesarias para la fórmula del método de Gauss Seidel\n",
    "            sum1 = np.dot(A[i, :i], x_k[:i])  # Suma para j < i\n",
    "            sum2 = np.dot(A[i, i+1:], x[i+1:])  # Suma para j > i\n",
    "            x_k[i] = (b[i] - sum1 - sum2) / A[i, i]  # Actualización de x_k[i]\n",
    "        \n",
    "        # Verificar si x_k y x son lo suficientemente cercanos\n",
    "        if np.allclose(x_k, x, atol=1e-8):\n",
    "            stationed = True\n",
    "        else:\n",
    "            x = x_k  # Actualizar x para la siguiente iteración\n",
    "\n",
    "        k += 1  # Incrementar el contador de iteraciones\n",
    "\n",
    "    # Verificar si se alcanzó el tope de iteraciones sin convergencia\n",
    "    if not stationed:\n",
    "        print(\"Se excedió el tope de iteraciones\")\n",
    "\n",
    "    return x"
   ]
  },
  {
   "cell_type": "markdown",
   "id": "6117fca5-8f8a-44a6-94e1-eb3aa105d9ca",
   "metadata": {},
   "source": [
    "## Ejercicio 2"
   ]
  },
  {
   "cell_type": "markdown",
   "id": "8d1c273a-fd43-41e9-887f-2af8fd5ec223",
   "metadata": {},
   "source": [
    "*El objetivo de este ejercicio es probar que el radio espectral de una matriz $A\\in \\mathbb{R}^{n \\times n}$ acota inferiormente a toda norma de $A$, sin utilizar normas complejas.*\n",
    "\n",
    "Dada $A \\in \\mathbb{R}^{n \\times n}$, sea $\\lambda = a + ib$ un autovalor de $A$ y sea $u + iv$ el autovector correspondiente, con $a, b \\in \\mathbb{R}$, $u,v \\in \\mathbb{R}^n$"
   ]
  },
  {
   "cell_type": "markdown",
   "id": "4bf8fc6e-b419-46b7-b4ed-573fa708e8f0",
   "metadata": {},
   "source": [
    "a) Calcular $Au$ y $Av$ y probar que: $||Au||_2^2 + ||Av||_2^2 = (a^2 + b^2)(||u||_2^2 + ||v||_2^2)$\n",
    "\n",
    "**Demostración:**\n",
    "\n",
    "$A(u+iv) = (a+ib)(u+iv) \\implies Au + iAv = (a+ib)u + (a+ib)iv = au-bv +i(bu+av)$\n",
    "\n",
    "$\\implies \\begin{cases} Au = au-bv \\\\ Av = bu+av \\end{cases} \\implies \\begin{cases} ||Au||_2^2 = ||au-bv||_2^2 = a^2||u||_2^2 -2ab v^tu + b^2||v||_2^2 \\\\ ||Av||_2^2 = ||bu+av||_2^2 = b^2||u||_2^2 +2ab v^tu + a^2||v||_2^2 \\end{cases} \\implies ||Au||_2^2 + ||Av||_2^2 = (a^2 + b^2)(||u||_2^2 + ||v||_2^2)$"
   ]
  },
  {
   "cell_type": "markdown",
   "id": "76e3d671-e7a2-4233-b6b1-3affe377ee56",
   "metadata": {},
   "source": [
    "b) Concluir que: $|\\lambda| \\leq ||A||_2$\n",
    "\n",
    "(1): $|\\lambda|^2 = a^2 + b^2$ \n",
    "\n",
    "(2): $ \\begin{cases} ||Av||_2\\leq ||A||_2||v||_2 \\\\ ||Au||_2\\leq ||A||_2||u||_2 \\end{cases} \\implies \\begin{cases} ||Av||_2^2 \\leq ||A||_2^2||v||_2^2 \\\\ ||Au||_2^2 \\leq ||A||_2^2||u||_2^2 \\end{cases}$\n",
    "\n",
    "Por el ítem (a), (1) y (2) se tiene:\n",
    "\n",
    "$||Av||_2^2 + ||Au||_2^2 = |\\lambda|^2(||u||_2^2 + ||v||_2^2) \\leq ||A||_2^2(||v||_2^2 + ||u||_2^2)$\n",
    "\n",
    "Si $(||v||_2^2 + ||u||_2^2) = 0$ es trivial, supongamos que $(||v||_2^2 + ||u||_2^2) \\neq 0$:\n",
    "\n",
    "$\\implies |\\lambda|^2 \\leq ||A||_2^2 \\implies |\\lambda| \\leq ||A||_2$"
   ]
  },
  {
   "cell_type": "markdown",
   "id": "4bdd30bf-d9fc-4649-88f9-b63aaa9f27dd",
   "metadata": {},
   "source": [
    "c) Probar que dada una norma cualquiera $|| \\ .||$ en $\\mathbb{R}^{n \\times n}$ vale que $|\\lambda| \\leq ||A||$.\n",
    "\n",
    "*Sugerencia: Usar la equivalencia de normas. Notar que si $B = A^m$, entonces $\\lambda^m$ es autovalor de $B$.*\n",
    "\n",
    "Por la equivalencia de normas, vale que \n",
    "\n",
    "$c||A||_2 \\leq ||A|| \\leq C||A||_2$ con $c, C$ constantes positivas.\n",
    "\n",
    "Por el ítem anterior, sabemos que $||\\lambda||\\leq c||A||_2$. Luego, vale que $||\\lambda||\\leq ||A||$."
   ]
  },
  {
   "cell_type": "markdown",
   "id": "f154c41f-94b6-42d1-bb91-e06b71bd2142",
   "metadata": {},
   "source": [
    "## Ejercicio 3"
   ]
  },
  {
   "cell_type": "markdown",
   "id": "49b3e2d7-d9d4-4bcc-84e2-faad40b2d32a",
   "metadata": {},
   "source": [
    "Considerar el sistema $Ax=b$ para $A= \\begin{pmatrix} 64 & -6 \\\\ 6 & -1 \\end{pmatrix}$ y $b= \\begin{pmatrix}1 & 2 \\end{pmatrix}^t$."
   ]
  },
  {
   "cell_type": "markdown",
   "id": "b5ae2fc9-2033-4196-a24a-87345c7ace06",
   "metadata": {},
   "source": [
    "a) Demostrar que el método de Jacobi converge para todo dato inicial.\n",
    "\n",
    "Sea $J$ la matriz de iteraciones del método de Jacobi, esto equivale a mostrar que $\\lim_{k \\rightarrow \\infty} J^k = 0 $\n",
    "\n",
    "$A = \\begin{pmatrix} 64 & -6 \\\\ 6 & -1 \\end{pmatrix} \\implies J= -D^{-1}(L+U)=-\\begin{pmatrix}\\frac{1}{64} & 0 \\\\ 0 & -1 \\end{pmatrix}\\left( \\begin{pmatrix}0 & 0 \\\\ 6 & 0 \\end{pmatrix} + \\begin{pmatrix}0 & -6 \\\\ 0 & 0\\end{pmatrix} \\right)$\n",
    "\n",
    "$\\implies J = \\begin{pmatrix}-\\frac{6}{64} & 0 \\\\ 0 & 6\\end{pmatrix}\\cdot \\begin{pmatrix}0 & -1 \\\\ 1 & 0\\end{pmatrix}= \\begin{pmatrix}0 & \\frac{3}{32} \\\\ 6 & 0\\end{pmatrix}$\n",
    "\n",
    "Como los autovalores son $-\\frac{3}{4}$ y $\\frac{3}{4}$, considerando la descomposición de schur de $J$ tenemos que $\\lim_{k \\rightarrow \\infty} J^k = 0 $."
   ]
  },
  {
   "cell_type": "code",
   "execution_count": 316,
   "id": "fee4e4c3-1b66-4909-b520-d444836a92ad",
   "metadata": {},
   "outputs": [
    {
     "data": {
      "text/plain": [
       "{-3/4: 1, 3/4: 1}"
      ]
     },
     "execution_count": 316,
     "metadata": {},
     "output_type": "execute_result"
    }
   ],
   "source": [
    "J = Matrix([[0, sp.Rational(3/32)],[6,0]])\n",
    "J.eigenvals() "
   ]
  },
  {
   "cell_type": "markdown",
   "id": "34c8b59a-120e-4935-986a-ac3f035d4a3b",
   "metadata": {},
   "source": [
    "b) Sea $J$ la matriz de iteración. Hallar las normas $1, \\infty$ y $2$ de $J$. ¿Contradice la convergencia del método?\n",
    "\n",
    "Por el ítem anterior sabemos que $J =\\begin{pmatrix}0 & \\frac{3}{32} \\\\ 6 & 0\\end{pmatrix}$\n",
    "\n",
    "$||J||_{\\infty}= max_{1 \\leq i \\leq n}\\{ \\sum_{j=1}^{n} |J_{ij}| \\}=6$\n",
    "\n",
    "$||J||_1 = max_{1 \\leq j \\leq n}\\{ \\sum_{i=1}^{n} |J_{ij}| \\} = 6$\n",
    "\n",
    "$||J||_2 = \\sigma_1 = 6$\n",
    "\n",
    "Estas normas no contradicen la convergencia del método. La convergencia del método de Jacobi depende de los autovalores de la matriz de iteración, no de sus normas. Sin embargo hay un teorema que dice que el radio espectral de la matriz de iteración es igual al ínfimo de todas las normas subordinadas. Entonces: $\\rho(J) = inf_{||.||}||J||$.\n",
    "\n",
    "Por el ítem (a) sabemos que Jacobi converge para todo dato inicial en este caso, luego $\\rho(J)<1$. Por lo tanto existe una norma subordinada para la cual $||J||<1$."
   ]
  },
  {
   "cell_type": "markdown",
   "id": "511dcd03-4a53-4d35-bbc4-a640c5b9141e",
   "metadata": {},
   "source": [
    "c) Hallar una norma $||.||$ en la cual $||J||$ sea $<1$. *Sugerencia: Considerar una base de autovectores de J*\n",
    "\n",
    "Por definición $||J|| = max_{||x||=1}||Jx||$\n",
    "\n",
    "$\\implies ||Jx|| \\leq ||J||$\n",
    "\n",
    "Queremos hallar $||.||_*$ tal que $\\frac{3}{4} = |\\lambda_{max}|=\\rho(J)= inf_{||.||}||J|| = ||J||_* = max_{||x||_*=1}||Jx||_*$\n",
    "\n",
    "Construimos la norma considerando una base de autovectores de J: $base=\\{ (\\frac{1}{8}, 1),(-\\frac{1}{8}, 1)\\}$  \n",
    "\n",
    "Definimos la nueva norma $||x||_∗$ como la norma euclidiana (norma 2) pero aplicada a los vectores transformados por la matriz de autovectores como columna (llamemosla $C$). Es decir: $||x||_∗=||Cx||_2$.\n",
    "\n",
    "Sea $x$ tal que $||x||_* =1$. Si escribimos a $x$ en la base de autovectores: $x= \\alpha_1v_1 + \\alpha_2v_2 \\implies Jx = \\alpha_1\\lambda_1v_1 + \\alpha_2\\lambda_2v_2$\n",
    "\n",
    "**SIN TERMINAR**"
   ]
  },
  {
   "cell_type": "code",
   "execution_count": 329,
   "id": "5ebfbdda-f69f-45cd-b8d8-6c492bf7de4c",
   "metadata": {},
   "outputs": [
    {
     "data": {
      "text/latex": [
       "$\\displaystyle \\left[\\begin{matrix}\\frac{1}{8}\\\\1\\end{matrix}\\right]$"
      ],
      "text/plain": [
       "Matrix([\n",
       "[1/8],\n",
       "[  1]])"
      ]
     },
     "execution_count": 329,
     "metadata": {},
     "output_type": "execute_result"
    }
   ],
   "source": [
    "avecs = J.eigenvects()\n",
    "base = [avecs[1][2][0],avecs[0][2][0]]\n",
    "C = base[0].row_join(base[1])\n",
    "D = Matrix([[sp.Rational(3,4), 0],[0,sp.Rational(-3,4)]])\n",
    "x = Matrix([[1],[0]])\n",
    "\n"
   ]
  },
  {
   "cell_type": "markdown",
   "id": "a6e12a32-0f41-4393-8f4e-569a02b05db6",
   "metadata": {},
   "source": [
    "## Ejercicio 4"
   ]
  },
  {
   "cell_type": "markdown",
   "id": "8ce81882-de81-469b-9ec3-a566f6b6c0e7",
   "metadata": {},
   "source": [
    "Decidir para cada una de las siguientes matrices si los métodos de Jacobi y de Gauss-Seidel convergen.\n",
    "\n",
    "$A = \\begin{pmatrix} 1 & 1 & 0 \\\\ -1 & 2 & 1 \\\\ 0 & 0 & 1 \\end{pmatrix}$\n",
    "\n",
    "$B = \\begin{pmatrix} 1 & 0 & -1 \\\\ -2 & 1 & 1 \\\\ -1 & 0 & 1 \\end{pmatrix}$\n",
    "\n",
    "$C = \\begin{pmatrix} 3 & -1 & -4 \\\\ -1 & 5 & 7 \\\\ -4 & 7 & 14 \\end{pmatrix}$\n",
    "\n",
    "**Criterios de convergencia:**\n",
    "\n",
    "- Jacobi:\n",
    "  Converge si la matriz de iteración $J=-D^{−1}(L+U)$ tiene $\\rho(J)<1$, donde:\n",
    "  \n",
    "  -D: diagonal de A,\n",
    "  \n",
    "  -L: componentes estrictamente inferiores de A,\n",
    "\n",
    "  -U: componentes estrictamente superiores de A.\n",
    "\n",
    "  Criterio práctico: Si A es estrictamente diagonalmente dominante, entonces Jacobi converge.\n",
    "\n",
    "- Gauss-Seidel:\n",
    "  Converge si la matriz de iteración $G=-(D+L)^{−1}U$ tiene $\\rho(G)<1$.\n",
    "  \n",
    "  Criterio práctico: Si A es estrictamente diagonalmente dominante o hermitiana y definida positiva, entonces Gauss-Seidel converge."
   ]
  },
  {
   "cell_type": "markdown",
   "id": "8f7ebe73-7b5b-4852-a470-75a5c7034f5c",
   "metadata": {},
   "source": [
    "A: A no es estrictamente diagonal dominante. "
   ]
  },
  {
   "cell_type": "code",
   "execution_count": 472,
   "id": "e4d8cff8-c40a-4858-826d-a1e19cd8359f",
   "metadata": {},
   "outputs": [
    {
     "name": "stdout",
     "output_type": "stream",
     "text": [
      "rho(J): 0.7071067811865476\n",
      "rho(GS): 0.5\n"
     ]
    }
   ],
   "source": [
    "A = np.array([[1, 1, 0], \n",
    "              [-1, 2, 1], \n",
    "              [0, 0, 1]])\n",
    "\n",
    "L = np.tril(A, -1)  # Parte inferior (sin la diagonal)\n",
    "U = np.triu(A, 1)   # Parte superior (sin la diagonal)\n",
    "D = np.diag(np.diag(A))  # Extraer la diagonal\n",
    "\n",
    "# Calcular la matriz de Jacobi: J = -(D + L)_inv * U\n",
    "D_inv = np.linalg.inv(D)  # Inversa de D\n",
    "J = -np.dot(D_inv, (L + U))\n",
    "\n",
    "# Calcular los autovalores de J\n",
    "eigenvalues_J = np.linalg.eigvals(J)\n",
    "\n",
    "# Calcular el radio espectral de J\n",
    "spectral_radius_J = max(abs(ev) for ev in eigenvalues_J)\n",
    "print(f\"rho(J): {spectral_radius_J}\")\n",
    "\n",
    "# Calcular la matriz de Gauss-Seidel: GS = -D_inv * (L + U)\n",
    "GS = -np.linalg.inv(L + D).dot(U)\n",
    "\n",
    "# Calcular los autovalores de GS\n",
    "eigenvalues_GS = np.linalg.eigvals(GS)\n",
    "\n",
    "# Calcular el radio espectral de GS\n",
    "spectral_radius_GS = max(abs(ev) for ev in eigenvalues_GS)\n",
    "print(f\"rho(GS): {spectral_radius_GS}\")\n"
   ]
  },
  {
   "cell_type": "markdown",
   "id": "c3659f2f-9046-4551-8b8a-20e1099f73d1",
   "metadata": {},
   "source": [
    "B no es estrictamente diagonal dominante."
   ]
  },
  {
   "cell_type": "code",
   "execution_count": 470,
   "id": "6bc2f2b5-b5a3-4ec2-be9d-057079e4fe4d",
   "metadata": {},
   "outputs": [
    {
     "name": "stdout",
     "output_type": "stream",
     "text": [
      "rho(J): 1.0\n",
      "rho(GS): 1.0\n"
     ]
    }
   ],
   "source": [
    "B = np.array([[1, 0, -1], \n",
    "              [-2, 1, 1], \n",
    "              [-1, 0, -1]])\n",
    "\n",
    "L = np.tril(B, -1)  # Parte inferior (sin la diagonal)\n",
    "U = np.triu(B, 1)   # Parte superior (sin la diagonal)\n",
    "D = np.diag(np.diag(B))  # Extraer la diagonal\n",
    "\n",
    "# Calcular la matriz de Jacobi: J = -(D + L)_inv * U\n",
    "D_inv = np.linalg.inv(D)  # Inversa de D\n",
    "J = -np.dot(D_inv, (L + U))\n",
    "\n",
    "# Calcular los autovalores de J\n",
    "eigenvalues_J = np.linalg.eigvals(J)\n",
    "\n",
    "# Calcular el radio espectral de J\n",
    "spectral_radius_J = max(abs(ev) for ev in eigenvalues_J)\n",
    "print(f\"rho(J): {spectral_radius_J}\")\n",
    "\n",
    "# Calcular la matriz de Gauss-Seidel: GS = -D_inv * (L + U)\n",
    "GS = -np.linalg.inv(L + D).dot(U)\n",
    "\n",
    "# Calcular los autovalores de GS\n",
    "eigenvalues_GS = np.linalg.eigvals(GS)\n",
    "\n",
    "# Calcular el radio espectral de GS\n",
    "spectral_radius_GS = max(abs(ev) for ev in eigenvalues_GS)\n",
    "print(f\"rho(GS): {spectral_radius_GS}\")\n"
   ]
  },
  {
   "cell_type": "markdown",
   "id": "95494bd4-b909-4405-9f02-94ac293b4464",
   "metadata": {},
   "source": [
    "C no es estrictamente diagonal dominante pero es simétrica."
   ]
  },
  {
   "cell_type": "code",
   "execution_count": 479,
   "id": "544f3dc9-b2fa-489b-a804-ef0b79aa9236",
   "metadata": {},
   "outputs": [
    {
     "name": "stdout",
     "output_type": "stream",
     "text": [
      "rho(J): 1.1726169935203983\n",
      "rho(GS): 0.8590811247661537\n"
     ]
    }
   ],
   "source": [
    "C = np.array([[3, -1, -4], \n",
    "              [-1, 5, 7], \n",
    "              [-4, 7, 14]])\n",
    "\n",
    "L = np.tril(C, -1)  # Parte inferior (sin la diagonal)\n",
    "U = np.triu(C, 1)   # Parte superior (sin la diagonal)\n",
    "D = np.diag(np.diag(C))  # Extraer la diagonal\n",
    "\n",
    "# Calcular la matriz de Jacobi: J = -(D + L)_inv * U\n",
    "D_inv = np.linalg.inv(D)  # Inversa de D\n",
    "J = -np.dot(D_inv, (L + U))\n",
    "\n",
    "# Calcular los autovalores de J\n",
    "eigenvalues_J = np.linalg.eigvals(J)\n",
    "\n",
    "# Calcular el radio espectral de J\n",
    "spectral_radius_J = max(abs(ev) for ev in eigenvalues_J)\n",
    "print(f\"rho(J): {spectral_radius_J}\")\n",
    "\n",
    "# Calcular la matriz de Gauss-Seidel: GS = -D_inv * (L + U)\n",
    "GS = -np.linalg.inv(L + D).dot(U)\n",
    "\n",
    "# Calcular los autovalores de GS\n",
    "eigenvalues_GS = np.linalg.eigvals(GS)\n",
    "\n",
    "# Calcular el radio espectral de GS\n",
    "spectral_radius_GS = max(abs(ev) for ev in eigenvalues_GS)\n",
    "print(f\"rho(GS): {spectral_radius_GS}\")\n"
   ]
  },
  {
   "cell_type": "markdown",
   "id": "24535cbc-3cdd-4950-9699-a5b9145c6b88",
   "metadata": {},
   "source": [
    "## Ejercicio 5"
   ]
  },
  {
   "cell_type": "markdown",
   "id": "f2065685-08c1-4b6c-ba9c-e2c132dc9e52",
   "metadata": {},
   "source": [
    "Decidir para cada uno de los siguientes sistemas, si los métodos de Jacobi y de Gauss-Seidel son convergentes. En caso afirmativo usarlos para resolver el sistema. Si ambos métodos convergen, determinar cuál converge más rápido ¿Es la matriz del sistema diagonal dominante? ¿Y simétrica y definida positiva?\n",
    "\n",
    "El método que converge más rápido es el de menor radio espectral."
   ]
  },
  {
   "cell_type": "markdown",
   "id": "fed876c5-6d56-453d-a17d-78e4c0334a08",
   "metadata": {},
   "source": [
    "a) $\\begin{pmatrix} 3 & 1 & 1 \\\\ 2 & 6 & 1 \\\\ 1 & 1 & 4 \\end{pmatrix}\\begin{pmatrix}x_1 \\\\ x_2 \\\\ x_3 \\end{pmatrix} = \\begin{pmatrix} 5 \\\\ 9 \\\\ 6 \\end{pmatrix}$ \n",
    "\n",
    "$A=\\begin{pmatrix} 3 & 1 & 1 \\\\ 2 & 6 & 1 \\\\ 1 & 1 & 4 \\end{pmatrix}=\\begin{pmatrix} 0 & 0 & 0 \\\\ 2 & 0 & 0 \\\\ 1 & 1 & 0 \\end{pmatrix} + \\begin{pmatrix} 3 & 0 & 0 \\\\ 0 & 6 & 0 \\\\ 0 & 0 & 4 \\end{pmatrix}+\\begin{pmatrix} 0 & 1 & 1 \\\\ 0 & 0 & 1 \\\\ 0 & 0 & 0 \\end{pmatrix}= L+D+U $\n",
    "\n",
    "Como $A$ es estrictamente diagonal dominante, Jacobi y Gauss-Seidel convergen. $A$ no es simétrica definida positiva. \n",
    "\n",
    "*Jacobi*\n",
    "\n",
    "$J = -D^{-1}(L+U) = \\begin{pmatrix} -\\frac{1}{3} & 0 & 0 \\\\ 0 & -\\frac{1}{6} & 0 \\\\ 0 & 0 & -\\frac{1}{4} \\end{pmatrix} \\begin{pmatrix} 0 & 1 & 1 \\\\ 2 & 0 & 1 \\\\ 1 & 1 & 0 \\end{pmatrix} = \\begin{pmatrix} 0 & -\\frac{1}{3} & -\\frac{1}{3} \\\\ -\\frac{1}{3} & 0 & -\\frac{1}{6} \\\\ -\\frac{1}{4} & -\\frac{1}{4} & 0\\end{pmatrix} \\implies \\rho(J)\\approx 0.558$\n",
    "\n",
    "*Gauss-Seidel*\n",
    "\n",
    "$GS = -(L+D)^{-1}U = -\\begin{pmatrix} 3 & 0 & 0 \\\\ 2 & 6 & 0 \\\\ 1 & 1 & 4 \\end{pmatrix}^{-1} \\begin{pmatrix} 0 & 1 & 1 \\\\ 0 & 0 & 1 \\\\ 0 & 0 & 0 \\end{pmatrix} = \\begin{pmatrix} 0 & -\\frac{1}{3} & -\\frac{1}{3} \\\\ 0 & \\frac{1}{9} & -\\frac{1}{18} \\\\ 0 & \\frac{1}{18} & \\frac{7}{72} \\end{pmatrix} \\implies \\rho(GS) \\approx 0.118$\n",
    "\n",
    "$$\n",
    "\\therefore \\text{Gauss-Seidel converge más rápido}\n",
    "$$"
   ]
  },
  {
   "cell_type": "code",
   "execution_count": 598,
   "id": "c70a0bc5-0a6a-4495-b2b6-01e2fa13293a",
   "metadata": {},
   "outputs": [
    {
     "name": "stdout",
     "output_type": "stream",
     "text": [
      "Matriz de iteración T_GS:\n"
     ]
    },
    {
     "data": {
      "text/latex": [
       "$\\displaystyle \\left[\\begin{matrix}0 & - \\frac{1}{3} & - \\frac{1}{3}\\\\0 & \\frac{1}{9} & - \\frac{1}{18}\\\\0 & \\frac{1}{18} & \\frac{7}{72}\\end{matrix}\\right]$"
      ],
      "text/plain": [
       "Matrix([\n",
       "[0, -1/3,  -1/3],\n",
       "[0,  1/9, -1/18],\n",
       "[0, 1/18,  7/72]])"
      ]
     },
     "metadata": {},
     "output_type": "display_data"
    },
    {
     "name": "stdout",
     "output_type": "stream",
     "text": [
      "\n",
      "Autovalores de T_GS:\n"
     ]
    },
    {
     "data": {
      "text/plain": [
       "{5/48 - sqrt(7)*I/48: 1, 5/48 + sqrt(7)*I/48: 1, 0: 1}"
      ]
     },
     "metadata": {},
     "output_type": "display_data"
    },
    {
     "name": "stdout",
     "output_type": "stream",
     "text": [
      "\n",
      "Radio espectral de T_GS: sqrt(2)/12\n"
     ]
    }
   ],
   "source": [
    "# Cálculo simbólico de GS\n",
    "A = sp.Matrix([[3, 1, 1],\n",
    "               [2, 6, 1],\n",
    "               [1, 1, 4]])\n",
    "\n",
    "# Separar A en D, L y U\n",
    "D = sp.Matrix(np.diag(np.diag(A)))\n",
    "L = sp.Matrix(np.tril(A,-1))\n",
    "U = sp.Matrix(np.triu(A, 1))          # Triangular superior estricta\n",
    "\n",
    "# Calcular la matriz de iteración para Gauss-Seidel\n",
    "L_plus_D_inv = (L + D).inv()  # Inversa de (L + D)\n",
    "T_GS = -L_plus_D_inv * U      # Matriz de iteración\n",
    "\n",
    "# Calcular los autovalores simbólicamente\n",
    "eigenvalues = T_GS.eigenvals()\n",
    "\n",
    "# Radio espectral (máximo valor absoluto de los autovalores)\n",
    "spectral_radius = max([abs(val) for val in eigenvalues.keys()])\n",
    "\n",
    "# Mostrar los resultados\n",
    "print(\"Matriz de iteración T_GS:\")\n",
    "display(T_GS)\n",
    "print(\"\\nAutovalores de T_GS:\")\n",
    "display(eigenvalues)\n",
    "print(f\"\\nRadio espectral de T_GS: {spectral_radius}\")\n",
    "\n"
   ]
  },
  {
   "cell_type": "code",
   "execution_count": 601,
   "id": "1accf032-4e52-4e79-abac-64c8907d191f",
   "metadata": {},
   "outputs": [
    {
     "name": "stdout",
     "output_type": "stream",
     "text": [
      "rho(J): 0.5575346466519526\n",
      "rho(GS): 0.1178511301977579\n"
     ]
    }
   ],
   "source": [
    "#Calculo de los radios espectrales \n",
    "\n",
    "A = np.array([[3,1,1],[2,6,1],[1,1,4]])\n",
    "L = np.tril(A, -1)\n",
    "D = np.diag(np.diag(A))\n",
    "U = np.triu(A,1)\n",
    "\n",
    "# Calcular la matriz de Jacobi: J = -(D + L)_inv * U\n",
    "D_inv = np.linalg.inv(D)  # Inversa de D\n",
    "J = -np.dot(D_inv, (L + U))\n",
    "\n",
    "# Calcular los autovalores de J\n",
    "eigenvalues_J = np.linalg.eigvals(J)\n",
    "\n",
    "# Calcular el radio espectral de J\n",
    "spectral_radius_J = max(abs(ev) for ev in eigenvalues_J)\n",
    "print(f\"rho(J): {spectral_radius_J}\")\n",
    "\n",
    "# Calcular la matriz de Gauss-Seidel: GS = -D_inv * (L + U)\n",
    "GS = -np.linalg.inv(L + D).dot(U)\n",
    "\n",
    "# Calcular los autovalores de GS\n",
    "eigenvalues_GS = np.linalg.eigvals(GS)\n",
    "\n",
    "# Calcular el radio espectral de GS\n",
    "spectral_radius_GS = max(abs(ev) for ev in eigenvalues_GS)\n",
    "print(f\"rho(GS): {spectral_radius_GS}\")\n"
   ]
  },
  {
   "cell_type": "code",
   "execution_count": 625,
   "id": "38a26c92-a302-4ece-b2a8-0b688a0fdca4",
   "metadata": {},
   "outputs": [
    {
     "name": "stdout",
     "output_type": "stream",
     "text": [
      "[1.00000383 1.00000324 1.00000317]\n",
      "[0.99999967 1.00000168 0.99999966]\n"
     ]
    },
    {
     "name": "stderr",
     "output_type": "stream",
     "text": [
      "/tmp/ipykernel_251980/2248560032.py:13: DeprecationWarning: Conversion of an array with ndim > 0 to a scalar is deprecated, and will error in future. Ensure you extract a single element from your array before performing this operation. (Deprecated NumPy 1.25.)\n",
      "  x_k[i] = (b[i] - sum1 - sum2) / A[i, i]  # Actualización de x_k[i]\n"
     ]
    }
   ],
   "source": [
    "# Uso de las funciones del ejercicio 1 para resolver el sistema\n",
    "A = np.array([[3,1,1],[2,6,1],[1,1,4]])\n",
    "b = np.array([[5],[9],[6]])\n",
    "\n",
    "x_j = f_jacobi(A,b,200)\n",
    "x_gs = f_gauss_seidel(A,b,200)\n",
    "\n",
    "print(x_j)\n",
    "print(x_gs)"
   ]
  },
  {
   "cell_type": "markdown",
   "id": "caddf208-aa8b-4427-b3e8-5836ba7efc53",
   "metadata": {},
   "source": [
    "b) $\\begin{pmatrix}5 &7& 6& 5 \\\\ 7 & 10& 8 & 7 \\\\ 6 & 8 & 10 & 9 \\\\ 5 & 7 & 9 & 10 \\end{pmatrix}\\begin{pmatrix}x_1 \\\\ x_2 \\\\ x_3 \\\\ x_4 \\end{pmatrix} = \\begin{pmatrix}23 \\\\ 32 \\\\ 33 \\\\ 31 \\end{pmatrix}$\n",
    "\n",
    "No es estrictamente diagonal dominante pero es simétrica, para saber si es definida positiva calculo los menores principales y veo si son positivos: "
   ]
  },
  {
   "cell_type": "code",
   "execution_count": 647,
   "id": "38586d5f-33c0-41b7-92ed-607e0c391a0e",
   "metadata": {},
   "outputs": [
    {
     "name": "stdout",
     "output_type": "stream",
     "text": [
      "True\n"
     ]
    }
   ],
   "source": [
    "B = np.array([[5,7,6,5],[7,10,8,7],[6,8,10,9],[5,7,9,10]])\n",
    "\n",
    "def_pos = det(B[:1,:1]) >0 and det(B[:2,:2])>0 and det(B[:3,:3])>0 and det(B[:4,:4])>0  \n",
    "print(def_pos)"
   ]
  },
  {
   "cell_type": "markdown",
   "id": "ed899da8-a5dc-4d0e-899a-e4813fbfdab2",
   "metadata": {},
   "source": [
    "Como es simétrica definida positiva, Gauss-Seidel converge. Jacobi podría o no converger."
   ]
  },
  {
   "cell_type": "code",
   "execution_count": 650,
   "id": "b1a66131-dd48-41a1-b259-811454f2992a",
   "metadata": {},
   "outputs": [
    {
     "name": "stdout",
     "output_type": "stream",
     "text": [
      "rho(J): 2.4757914511516166\n",
      "rho(GS): 0.9968975928986463\n"
     ]
    }
   ],
   "source": [
    "#Calculo de los radios espectrales \n",
    "L = np.tril(B, -1)\n",
    "D = np.diag(np.diag(B))\n",
    "U = np.triu(B,1)\n",
    "\n",
    "# Calcular la matriz de Jacobi: J = -(D + L)_inv * U\n",
    "D_inv = np.linalg.inv(D)  # Inversa de D\n",
    "J = -np.dot(D_inv, (L + U))\n",
    "\n",
    "# Calcular los autovalores de J\n",
    "eigenvalues_J = np.linalg.eigvals(J)\n",
    "\n",
    "# Calcular el radio espectral de J\n",
    "spectral_radius_J = max(abs(ev) for ev in eigenvalues_J)\n",
    "print(f\"rho(J): {spectral_radius_J}\")\n",
    "\n",
    "# Calcular la matriz de Gauss-Seidel: GS = -D_inv * (L + U)\n",
    "GS = -np.linalg.inv(L + D).dot(U)\n",
    "\n",
    "# Calcular los autovalores de GS\n",
    "eigenvalues_GS = np.linalg.eigvals(GS)\n",
    "\n",
    "# Calcular el radio espectral de GS\n",
    "spectral_radius_GS = max(abs(ev) for ev in eigenvalues_GS)\n",
    "print(f\"rho(GS): {spectral_radius_GS}\")\n"
   ]
  },
  {
   "cell_type": "markdown",
   "id": "eb690624-d174-4c18-bdbf-c85ec5089ce4",
   "metadata": {},
   "source": [
    "Como $\\rho(J) \\approx 2.48 >= 1$, Jacobi no converge.\n",
    "Confirmamos que $\\rho(GS) < 1$."
   ]
  },
  {
   "cell_type": "code",
   "execution_count": 654,
   "id": "c7cd7003-d01e-4e13-b8f7-451e692bb1f9",
   "metadata": {},
   "outputs": [
    {
     "name": "stdout",
     "output_type": "stream",
     "text": [
      "Se excedió el tope de iteraciones\n",
      "[1.22584218 0.86426019 0.9426581  1.03370449]\n"
     ]
    },
    {
     "name": "stderr",
     "output_type": "stream",
     "text": [
      "/tmp/ipykernel_251980/3409270281.py:13: DeprecationWarning: Conversion of an array with ndim > 0 to a scalar is deprecated, and will error in future. Ensure you extract a single element from your array before performing this operation. (Deprecated NumPy 1.25.)\n",
      "  x_k[i] = (b[i] - sum1 - sum2) / A[i, i]  # Actualización de x_k[i]\n"
     ]
    }
   ],
   "source": [
    "b = np.array([[23],[32],[33],[31]])\n",
    "\n",
    "x_gs = f_gauss_seidel(B,b,200)\n",
    "\n",
    "print(x_gs)"
   ]
  },
  {
   "cell_type": "markdown",
   "id": "c4a69785-171e-460e-83d9-b0205d72a2cb",
   "metadata": {},
   "source": [
    "## Ejercicio 6"
   ]
  },
  {
   "cell_type": "markdown",
   "id": "da489607-7801-4c38-88d8-37621775becb",
   "metadata": {},
   "source": [
    "a) Mostrar que toda matriz $B \\in \\mathbb{R}^{n\\times n}$ con $|det(B)| > 1$ tiene un autovalor $\\lambda$, real o complejo, con $|\\lambda| > 1$.\n",
    "\n",
    "Demo por el contrarrecíproco:\n",
    "\n",
    "Sea $|\\lambda|$ autovalor de $B$ tal que $|\\lambda| \\leq 1$ con autovector asociado $v \\implies \\ $ $||Bv|| =||\\lambda v|| = |\\lambda | ||v|| \\leq ||v|| $.\n",
    "\n",
    "Como la transformación lineal dada por $B$ reduce o mantiene la norma de $v$, se tiene que $|det(B)| \\leq 1$ ya que el determinante de la matriz nos dice cuánto escala el espacio transformado.\n",
    "\n",
    "$\\therefore |det(B)|>1 \\implies |\\lambda|>1$\n",
    "\n",
    "obs: Vale que $|\\lambda|>1  \\implies |det(B)|>1$. Es decir es un si y solo si.\n",
    "\n",
    "obs: Vale que $|det(B)|<1 \\implies |\\lambda|<1 $ pero esto no implica que Gauss-Seidel y Jacobi convergen, solo nos dice que hay un autovalor con módulo menor a 1. "
   ]
  },
  {
   "cell_type": "markdown",
   "id": "1aeef82a-e3dd-4138-bde3-77542d9d530f",
   "metadata": {},
   "source": [
    "b) Decidir si el método de Jacobi converge o no para un sistema dado por la matriz:\n",
    "\n",
    "$A = \\begin{pmatrix} −1 & 1 & 2 \\\\\n",
    "4 & −1 & 3 \\\\\n",
    "5 & 6 & −1\\end{pmatrix}$\n",
    "\n",
    "Calculo la matriz de iteración y calculo su determinante, si es mayor a 1 por el ítem anterior vale que Jacobi diverge."
   ]
  },
  {
   "cell_type": "code",
   "execution_count": 679,
   "id": "ef2097c3-23c4-49da-b7de-f791a95a0548",
   "metadata": {},
   "outputs": [
    {
     "name": "stdout",
     "output_type": "stream",
     "text": [
      "62.99999999999999\n"
     ]
    }
   ],
   "source": [
    "A = np.array([[-1,1,2],[4,-1,3],[5,6,-1]])\n",
    "L = np.tril(A,-1)\n",
    "D = np.diag(np.diag(A))\n",
    "U = np.triu(A, 1)\n",
    "\n",
    "J = -inv(D) @ (L+U)\n",
    "print(det(J))"
   ]
  },
  {
   "cell_type": "markdown",
   "id": "4b8b36b2-24ca-42ef-8285-01b5151f3cdf",
   "metadata": {},
   "source": [
    "Como $|det(J)|>1$ Jacobi diverge."
   ]
  },
  {
   "cell_type": "markdown",
   "id": "c9e20712-dd40-4b7f-a17c-393c5889d067",
   "metadata": {},
   "source": [
    "## Ejercicio 7"
   ]
  },
  {
   "cell_type": "markdown",
   "id": "c59f2d30-4678-4431-bc7c-ae5091517431",
   "metadata": {},
   "source": [
    "Probar que el método de Jacobi converge para todo sistema de 2×2 dado por una matriz simétrica y definida positiva.\n",
    "\n",
    "Sea $A = \\begin{pmatrix} a & b \\\\ b & c\\end{pmatrix}, a,b,c \\in \\mathbb{R}$. Notamos que es simétrica y como es definida positiva sus menores principales son positivos, es decir que $a>0$ y $ac - b^2>0 \\implies ac > b^2 > 0 \\implies c>0 \\implies J = -D^{⁻1}(L+U)= \\begin{pmatrix} 0 & -\\frac{b}{a} \\\\ -\\frac{b}{c} & 0 \\end{pmatrix} \\implies $ los autovalores son $\\frac{b}{\\sqrt{ac}}$ y $-\\frac{b}{\\sqrt{ac}} \\implies \\rho(J)<1$ \n"
   ]
  },
  {
   "cell_type": "markdown",
   "id": "8147d6b5-71d9-4990-9454-02eba7c90e42",
   "metadata": {},
   "source": [
    "## Ejercicio 8"
   ]
  },
  {
   "cell_type": "markdown",
   "id": "d0d9bd59-fafd-45cb-a092-be308e9ae254",
   "metadata": {},
   "source": [
    "Sean $A, B \\in \\mathbb{R}^{3\\times 3}$ las matrices\n",
    "\n",
    "$A= \\begin{pmatrix} \n",
    "a & c & 0 \\\\\n",
    "c & a & c \\\\\n",
    "0 & c & a \\\\\n",
    "\\end{pmatrix}$\n",
    "\n",
    "$B= \\begin{pmatrix}\n",
    "0 & b & 0 \\\\\n",
    "b & 0 & b \\\\\n",
    "0 & b & 0 \\\\\n",
    "\\end{pmatrix}$"
   ]
  },
  {
   "cell_type": "markdown",
   "id": "5ce08499-2e91-4cce-9f11-9c6658f8046a",
   "metadata": {},
   "source": [
    "a) Probar que $\\lim_{n\\rightarrow \\infty} B^n = 0 $ si y sólo si $|b| < \\sqrt{2}/2$.\n",
    "\n",
    "El límite tiende a 0 si $|\\lambda_{max}|<1$. Calculando los autovalores de $B$ vemos que son $0, \\sqrt{2}b$ y $-\\sqrt{2}b$ $\\implies |\\lambda_{max}| = max\\{0, |\\sqrt{2}b|, |-\\sqrt{2}b|\\}= |\\sqrt{2}b|= \\sqrt{2}|b| < 1 \\iff |b| < \\frac{\\sqrt{2}}{2}$\n",
    "\n"
   ]
  },
  {
   "cell_type": "markdown",
   "id": "9284b54a-b9cb-4951-b4cf-b72d2fdcf4fd",
   "metadata": {},
   "source": [
    "b) Dar condiciones necesarias y suficientes sobre $a,c \\in \\mathbb{R}$ para la convergencia del método de Jacobi aplicado a la resolución de $Ax = v$.\n",
    "\n",
    "$J= \\begin{pmatrix} -\\frac{1}{a} & 0 & 0 \\\\ 0 & -\\frac{1}{a} & 0 \\\\ 0 & 0 & -\\frac{1}{a} \\end{pmatrix} \\begin{pmatrix}0 & c & 0 \\\\\n",
    "c & 0 & c \\\\\n",
    "0 & c & 0 \\\\\n",
    "\\end{pmatrix} = \\begin{pmatrix}0 & -\\frac{c}{a} & 0 \\\\ -\\frac{c}{a} & 0 & -\\frac{c}{a} \\\\ 0 & -\\frac{c}{a} & 0 \\\\ \\end{pmatrix}$\n",
    "\n",
    "Primero que nada $a\\neq 0$ para que $D$ sea invertible. Luego, por el item anterior debe ser $|\\frac{c}{a}| < \\frac{\\sqrt{2}}{2} \\implies |c|<\\frac{\\sqrt{2}|a|}{2}$"
   ]
  },
  {
   "cell_type": "markdown",
   "id": "1c459118-e8fb-4f7e-904f-c2006b47b9f4",
   "metadata": {},
   "source": [
    "## Ejercicio 9"
   ]
  },
  {
   "cell_type": "markdown",
   "id": "c29622b8-2e6a-4f1e-b10b-fbf19c68cb51",
   "metadata": {},
   "source": [
    "a) Sean $M, N \\in \\mathbb{R}^{n\\times n}$, con $M$ inversible. Probar que los autovalores de $−M^{−1}N$ son las raíces del polinomio $det(\\lambda M + N)$\n",
    "\n",
    "Sea $\\lambda$ autovalor de $−M^{−1}N$ con autovector $v \\neq 0$, $ \\implies −M^{−1}Nv = \\lambda v  \\implies −MM^{−1}Nv = -Nv = \\lambda Mv  \\implies 0 = (\\lambda M + N)v$\n",
    "\n",
    "Es decir que $v \\in Nu(\\lambda M+N)$, como $v\\neq 0$ para que esto ocurra $\\lambda M + N$ debe ser singular es decir que $det(\\lambda M + N)= 0$, por lo tanto $\\lambda$ anula el polinomio."
   ]
  },
  {
   "cell_type": "markdown",
   "id": "98d496f4-220f-45c7-85b4-2099480282cb",
   "metadata": {},
   "source": [
    "b) Sean \n",
    "\n",
    "$A = \\begin{pmatrix} 0 & 1 & 1+\\frac{1}{\\alpha} \\\\ 1 & \\frac{1}{\\alpha} & 0 \\\\ 1+\\frac{1}{\\alpha} & 1 & 0 \\end{pmatrix}$\n",
    "\n",
    "$M = \\begin{pmatrix} 0 & 0 & \\frac{1}{\\alpha} \\\\ 0 & \\frac{1}{\\alpha} & 0 \\\\ \\frac{1}{\\alpha} & 0 & 0 \\end{pmatrix}$\n",
    "\n",
    "Para resolver un sistema $Ax=b$ se propone el método iterativo: \n",
    "$$x_{n+1}=-M^{-1}Nx_n + M^{-1}b, \\ \\ \\ \\ \\ \\ \\ \\ \\ \\ (1)$$ siendo $N=A-M$. \n",
    "\n",
    "Probar que si el método $(1)$ converge a $x$, entonces $x$ es solución del sistema $Ax=b$. \n",
    "\n",
    "**Demostración**:\n",
    "\n",
    "Si el método $(1)$ converge a $x \\implies x = -M^{-1}Nx + M^{-1}b = M^{-1}(-Nx+b) \\implies Mx = -Nx+b \\implies (M+N)x=b $\n",
    "\n",
    "Como $N= A-M \\implies M+N = A \\implies x$ es solución de $Ax=b$."
   ]
  },
  {
   "cell_type": "markdown",
   "id": "6d8dc4cc-9bf1-4300-a500-9010f7da6865",
   "metadata": {},
   "source": [
    "c) Hallar todos los valores de $\\alpha$ para los cuales el método propuesto converge.\n",
    "\n",
    "Dado que la matriz de iteración del método es $I= -M^{-1}N$, debo ver para cuáles $\\alpha$ se tiene que $\\rho(I)<1$. Entonces calculo el máximo de los módulos de los autovalores de la matriz $I$ y veo para cuales $\\alpha$ es menor a 1."
   ]
  },
  {
   "cell_type": "code",
   "execution_count": 153,
   "id": "d1c7268e-f005-4f18-a175-d077cfcd02d9",
   "metadata": {},
   "outputs": [
    {
     "data": {
      "text/latex": [
       "$\\displaystyle - \\left(\\alpha + \\lambda\\right) \\left(\\alpha^{2} - \\alpha \\lambda - \\lambda^{2}\\right)$"
      ],
      "text/plain": [
       "-(alpha + lambda)*(alpha**2 - alpha*lambda - lambda**2)"
      ]
     },
     "metadata": {},
     "output_type": "display_data"
    },
    {
     "name": "stdout",
     "output_type": "stream",
     "text": [
      "Raíces\n"
     ]
    },
    {
     "data": {
      "text/latex": [
       "$\\displaystyle - \\alpha$"
      ],
      "text/plain": [
       "-alpha"
      ]
     },
     "metadata": {},
     "output_type": "display_data"
    },
    {
     "data": {
      "text/latex": [
       "$\\displaystyle \\frac{\\alpha \\left(-1 + \\sqrt{5}\\right)}{2}$"
      ],
      "text/plain": [
       "alpha*(-1 + sqrt(5))/2"
      ]
     },
     "metadata": {},
     "output_type": "display_data"
    },
    {
     "data": {
      "text/latex": [
       "$\\displaystyle - \\frac{\\alpha \\left(1 + \\sqrt{5}\\right)}{2}$"
      ],
      "text/plain": [
       "-alpha*(1 + sqrt(5))/2"
      ]
     },
     "metadata": {},
     "output_type": "display_data"
    }
   ],
   "source": [
    "#Obtengo el polinomio característico de I\n",
    "alpha = symbols('alpha')\n",
    "lamda = symbols('lambda')\n",
    "\n",
    "A = Matrix([\n",
    "    [0, 1, 1 + 1/alpha], \n",
    "    [1, 1/alpha, 0], \n",
    "    [1 + 1/alpha, 1, 0]\n",
    "])\n",
    "\n",
    "M = Matrix([\n",
    "    [0, 0, 1/alpha],\n",
    "    [0, 1/alpha, 0],\n",
    "    [1/alpha, 0 , 0]\n",
    "])\n",
    "\n",
    "M_inv = Matrix([\n",
    "    [0, 0, alpha],\n",
    "    [0, alpha, 0],\n",
    "    [alpha, 0 , 0]\n",
    "])\n",
    "\n",
    "N = A-M\n",
    "\n",
    "I = -M_inv*N\n",
    "\n",
    "char_poly = I.charpoly(lamda)\n",
    "char_expr = char_poly.as_expr()  \n",
    "factored_poly = char_expr.factor()\n",
    "\n",
    "display(factored_poly) #Visualizo el polinomio factorizado\n",
    "#Calculo las raices del factor cuadrático\n",
    "quadratic = alpha**2 - alpha*lamda - lamda**2\n",
    "roots = sp.solve(quadratic, lamda)\n",
    "\n",
    "#Muestro las raíces\n",
    "print(\"Raíces\")\n",
    "display(-alpha)\n",
    "display(roots[0])\n",
    "display(roots[1])\n",
    "\n"
   ]
  },
  {
   "cell_type": "markdown",
   "id": "79552c01-18ad-4348-a6c2-b5f3481a3175",
   "metadata": {},
   "source": [
    "Como el autovalor de mayor módulo es siempre $\\lambda = -\\frac{\\alpha(1+\\sqrt{5})}{2}$, los $\\alpha$ tales que $\\rho(I)<1$ satisfacen:\n",
    "\n",
    "$|-\\frac{\\alpha(1+\\sqrt{5})}{2}| < 1 \\iff |\\alpha(1+\\sqrt{5})| < 2 \\iff |\\alpha|< \\frac{2}{1 + \\sqrt{5}} \\iff -\\frac{2}{1 + \\sqrt{5}} < \\alpha < \\frac{2}{1 + \\sqrt{5}}$"
   ]
  },
  {
   "cell_type": "markdown",
   "id": "c91c9f3b-1ae4-4358-907f-e50fa3dc170d",
   "metadata": {},
   "source": [
    "d) ¿Qué restricción impondrı́an sobre $\\alpha$ si se quiere garantizar que el error $e_n = x_n −x$ satisfaga: $||e_n|| < \\left( \\frac{1}{n} \\right)^n ||e_0||$ para alguna norma $|| \\ .||$? **SIN TERMINAR**"
   ]
  },
  {
   "cell_type": "markdown",
   "id": "4ac4ca0c-b045-46ab-ae98-d5a27c153ab8",
   "metadata": {},
   "source": [
    "## Ejercicio 10"
   ]
  },
  {
   "cell_type": "markdown",
   "id": "1a6bf910-ae93-4142-9f8b-2ce5b102f583",
   "metadata": {},
   "source": [
    "Utilizar la iteración de Gauss-Seidel para resolver el sistema $A_nx = b_n$ para\n",
    "\n",
    "$A_n = \\begin{pmatrix} 1 & 2 \\\\ 2 & 4+\\frac{1}{n^2} \\end{pmatrix}$\n",
    "\n",
    "$b_n = \\begin{pmatrix} 1 & 2-\\frac{1}{n^2}\\end{pmatrix}^t$\n",
    "\n",
    "¿Cómo es la convergencia? ¿Tiene esto que ver con el mal condicionamiento de $A$? Dar un ejemplo de una matriz mal condicionada para la cual la convergencia sea rápida.\n",
    "\n",
    "La convergencia la obtenemos viendo el radio espectral de la matriz de iteraciones, es decir viendo el módulo del autovalor de máximo módulo de la matriz $M_{GS}= -\\begin{pmatrix} 1 & 2 \\\\ 0 & 4+\\frac{1}{n^2} \\end{pmatrix}^{-1}\\begin{pmatrix}0 & 0 \\\\ 2 & 0 \\end{pmatrix} = \\begin{pmatrix} -1 & 2(4+1/n^2)^{-1} \\\\ 0 & -(4+1/n^2)^{-1}\\end{pmatrix}\\begin{pmatrix}0 & 0 \\\\ 2 & 0 \\end{pmatrix} = \\begin{pmatrix} 4(4+1/n^2)^{-1} & 0 \\\\ -2(4+1/n^2)^{-1} & 0\\end{pmatrix}$\n",
    "\n",
    "Su polinomio característico es $\\lambda(\\lambda -4(4+1/n^2)^{-1}) \\implies$ el radio espectral es $\\rho(M_{GS})= 4(4+1/n^2)^{-1}$ que siempre es menor a 1.\n",
    "\n",
    "Luego, Gauss-Seidel siempre converge.\n",
    "\n",
    "Se observa que a medida que n crece en módulo el determinante de $A_n$ se acerca a 0, por lo que la matriz se acerca a una matriz singular. A su vez, a medida que n crece en módulo el radio espectral de la matriz de iteraciones de Gauss-Seidel es más grande por lo que la velocidad de convergencia es menor. En este caso podemos relacionar el mal condicionamiento de A con la lenta velocidad de convergencia, aunque no siempre sucede. Por ejemplo una matriz para la cual los valores singulares más chico y más grande difieren mucho en magnitud pero para la cual Gauss-Seidel converge rápidamente (es decir que los autovalores de la matriz de iteraciones son muy chicos en módulo) es:\n",
    "\n",
    "\n",
    "$B =\\begin{pmatrix}10^{6} & 0 \\\\ 0 & 10^{2} \\end{pmatrix}$\n",
    "\n",
    "Como los valores singulares son $10^{12}$ y $12^4$, el número de condición es $10^{12}/10^4 = 10^8 >> 1$.\n",
    "Como los autovalores de la matriz de iteraciones son $-10^{-6}$ y $-10^{-2}$, el radio espectral es $10^{-2} <1$."
   ]
  },
  {
   "cell_type": "code",
   "execution_count": 223,
   "id": "7b3b8feb-4888-46f0-9627-d264d6ae340e",
   "metadata": {},
   "outputs": [
    {
     "name": "stdout",
     "output_type": "stream",
     "text": [
      "A medida que n aumenta, la velocidad de convergencia disminuye, a partir de n=8 vemos que se exceden las 1000 iteraciones\n",
      "2.0\n",
      "[ 2.99964008 -0.99983063]\n",
      "4.0\n",
      "[ 2.99868586 -0.99935304]\n",
      "6.0\n",
      "Se excedió el tope de iteraciones\n",
      "[ 2.99699049 -0.99850562]\n",
      "8.0\n"
     ]
    },
    {
     "name": "stderr",
     "output_type": "stream",
     "text": [
      "/tmp/ipykernel_5132/3409270281.py:13: DeprecationWarning: Conversion of an array with ndim > 0 to a scalar is deprecated, and will error in future. Ensure you extract a single element from your array before performing this operation. (Deprecated NumPy 1.25.)\n",
      "  x_k[i] = (b[i] - sum1 - sum2) / A[i, i]  # Actualización de x_k[i]\n"
     ]
    },
    {
     "name": "stdout",
     "output_type": "stream",
     "text": [
      "Se excedió el tope de iteraciones\n",
      "[ 2.92229135 -0.96129686]\n",
      "10.0\n",
      "Se excedió el tope de iteraciones\n",
      "[ 2.83337552 -0.91689552]\n"
     ]
    }
   ],
   "source": [
    "n_array= np.linspace(2,10,5)\n",
    "print(\"A medida que n aumenta, la velocidad de convergencia disminuye, a partir de n=8 vemos que se exceden las 1000 iteraciones\")\n",
    "for n in n_array:\n",
    "    A_n = np.array([[1,2],[2,4+1/(n**2)]])\n",
    "    b_n = np.array([[1],[2-1/(n**2)]])\n",
    "    print(n)\n",
    "    x= f_gauss_seidel(A_n, b_n, 1000)\n",
    "    print(x)"
   ]
  },
  {
   "cell_type": "markdown",
   "id": "6db970a4-f60c-42c5-82d3-27c5f1c4f699",
   "metadata": {},
   "source": [
    "## Ejercicio 11"
   ]
  },
  {
   "cell_type": "markdown",
   "id": "b4456db3-c8d3-4bca-a76d-0e03c595a91b",
   "metadata": {},
   "source": [
    "**Método SOR (Successive Over Relaxation)**\n",
    "\n",
    "El método de sobre-relajación sucesiva (SOR), es una variante del método de Gauss-Seidel para estimar la solución de un sistema lineal de ecuaciones, permitiendo una convergencia más rápida. \n",
    "\n",
    "Dada $A \\in \\mathbb{R}^{n \\times n} \\ \\ $ con $ \\ \\ a_{ii}\\neq 0, \\ 1 \\leq i \\leq n, \\ A=L+D+U $"
   ]
  },
  {
   "cell_type": "markdown",
   "id": "512b8c08-e1fe-4bc9-bcd9-92d4d3118623",
   "metadata": {},
   "source": [
    "a) Demostrar que el sistema $Ax = b$ es equivalente al sistema $(D + \\omega L)x = ((1 − \\omega )D − \\omega U )x + \\omega b$, cualquiera sea $\\omega \\neq 0$.\n",
    "\n",
    "$Ax=b \\iff \\omega Ax = \\omega b \\iff \\omega (L+D+U)x = \\omega b$\n",
    "\n",
    "$\\iff \\omega L x = -\\omega Dx -\\omega Ux +\\omega b \\iff Dx + \\omega L x = Dx -\\omega Dx -\\omega Ux +\\omega b \\iff (D + \\omega L)x = ((1 − \\omega )D − \\omega U )x + \\omega b$\n",
    "\n",
    "Vale multiplicar por $\\omega$ y por $Dx$ porque $\\omega, a_{ii} \\neq 0$\n",
    "\n"
   ]
  },
  {
   "cell_type": "markdown",
   "id": "9c1da74f-64a4-4916-b51e-65e41adbe5f0",
   "metadata": {},
   "source": [
    "b) Considere el método iterativo $x^{k+1} = B(\\omega)x^k + c$ con $B(\\omega)=(D+\\omega L)^{-1}((1-\\omega)D - \\omega U)$.\n",
    "\n",
    "Probar que $det(B(\\omega))=(1-\\omega)^n$ y concluir que si el método converge $\\implies \\omega \\in (0,2)$\n",
    "\n",
    "$B(\\omega)=(D+\\omega L)^{-1}((1-\\omega)D - \\omega U) \\implies det(B(\\omega)) = det((D+\\omega L)^{-1}((1-\\omega)D - \\omega U))= \\frac{det((1-\\omega)D - \\omega U))}{det(D+\\omega L)} = \\frac{det((1-\\omega)D)}{det(D)}= (1-\\omega)^n$.\n",
    "\n",
    "Probemos por el contrarrecíproco que si el método converge entonces $\\omega \\in (0,2)$. Es decir, probemos $\\omega < 0 \\ \\lor \\ \\omega>2 \\implies$ el método diverge. \n",
    "\n",
    "Por el ejercicio 6 sabemos que $|det(B(\\omega))|>1 \\iff \\exists \\lambda \\ \\text{autovalor}: |\\lambda| > 1 $.\n",
    "\n",
    "$\\begin{cases} \\omega>2 \\implies -\\omega < -2 \\implies 1-\\omega<-1 \\\\ \\omega<0 \\implies -\\omega > 0 \\implies 1-\\omega>1 \\end{cases} \\implies |1- \\omega|>1 \\implies |det(B(\\omega))|=|(1-\\omega)^n| = |1-\\omega|^n>1 \\implies$ el método diverge.\n"
   ]
  },
  {
   "cell_type": "markdown",
   "id": "ccdc5c1a-c64a-4ba7-a703-3a224670eb15",
   "metadata": {},
   "source": [
    "c) Sea $A= \\begin{pmatrix}1 & \\frac{2}{3} \\\\ \\frac{2}{3} & 1  \\end{pmatrix}$. Compare los métodos para $\\omega = \\frac{3}{2}$ y $\\omega = 1$. ¿Cuál elegiría y por qué?"
   ]
  },
  {
   "cell_type": "code",
   "execution_count": 346,
   "id": "66215bb9-6a77-4d8e-9926-a9e05e7505af",
   "metadata": {},
   "outputs": [
    {
     "name": "stdout",
     "output_type": "stream",
     "text": [
      "[[-0.5 -1. ]\n",
      " [ 0.5  0.5]]\n",
      "[[ 0.         -0.66666667]\n",
      " [ 0.          0.44444444]]\n"
     ]
    }
   ],
   "source": [
    "A = np.array([[1, 2/3],[2/3, 1]])\n",
    "b = np.array([[1+ 2/3],[1+ 2/3]]) #Elijo un vector de la imagen de A arbitrariamente \n",
    "L = np.tril(A,-1)\n",
    "D = np.diag(np.diag(A))\n",
    "U = np.triu(A,1)\n",
    "\n",
    "omega = 3/2\n",
    "B = np.linalg.inv(D+omega*L)@((1-omega)*D-omega*U)\n",
    "c = np.linalg.inv(D+omega*L)@(omega*b)\n",
    "print(B)\n",
    "omega = 1\n",
    "B = np.linalg.inv(D+omega*L)@((1-omega)*D-omega*U)\n",
    "c = np.linalg.inv(D+omega*L)@(omega*b)\n",
    "print(B)"
   ]
  },
  {
   "cell_type": "markdown",
   "id": "15cf8e3b-c7b5-4654-8b86-260fb570bfc8",
   "metadata": {},
   "source": [
    "Si $\\omega = 1$ entonces $B(\\omega)$ es una matriz singular, esto no ocurre con $\\omega = \\frac{3}{2}$ por lo que es preferible este último valor de $\\omega$."
   ]
  },
  {
   "cell_type": "markdown",
   "id": "1f6aaee4-5367-40b0-89d0-e78719c543f4",
   "metadata": {},
   "source": [
    "## Ejercicio 12\n",
    "\n",
    "Considerar la forma cuadrática $f(x,y)=\\alpha x^2 + \\beta y^2 + \\gamma xy + \\delta x + \\varepsilon y + \\eta$"
   ]
  },
  {
   "cell_type": "markdown",
   "id": "c55354d7-ce77-4a6f-b06f-6d8cce3f2444",
   "metadata": {},
   "source": [
    "a) Probar que si $\\mathbf{x}=(x,y)^t$, entonces $f$ puede escribirse en forma matricial como: $\\frac{1}{2}\\mathbf{x^t Ax-x^t b}+ \\eta$, para cierta $\\mathbf{A}$ simétrica.\n",
    "\n",
    "$f(x,y)=\\alpha x^2 + \\beta y^2 + \\gamma xy + \\delta x + \\varepsilon y + \\eta \\iff \\frac{1}{2}\\begin{pmatrix}x & y \\end{pmatrix}\\begin{pmatrix}2\\alpha & \\gamma \\\\ \\gamma & 2\\beta \\end{pmatrix}\\begin{pmatrix}x \\\\ y \\end{pmatrix} - \\begin{pmatrix}x & y \\end{pmatrix}\\begin{pmatrix}-\\delta \\\\ -\\varepsilon \\end{pmatrix}$\n"
   ]
  },
  {
   "cell_type": "markdown",
   "id": "970d524f-9ebf-4025-8db3-0327ff72f247",
   "metadata": {},
   "source": [
    "b) Probar que los puntos crı́ticos de $f$ son las soluciones del sistema $A\\mathbf{x} = b$.\n",
    "\n",
    "Los puntos críticos anulan el gradiente\n",
    "\n",
    "$\\implies \\nabla f(\\mathbf{x}) = ( 2\\alpha x + \\gamma y + \\delta, 2\\beta y + \\gamma x + \\varepsilon)^t = A\\mathbf{x} - b = 0 \\implies A\\mathbf{x}=b$"
   ]
  },
  {
   "cell_type": "markdown",
   "id": "0be23a4e-0666-4b69-9bea-474fddd42fa6",
   "metadata": {},
   "source": [
    "c) Probar que $f$ tiene un mı́nimo (único) si y sólo si $A$ es definida positiva (estricta). Inversamente: $f$ tiene un máximo (único) si y sólo si $A$ es definida negativa (estricta).\n",
    "\n",
    "Para que haya un único punto crítico (de modo que solo haya un mínimo o un máximo) debemos ver que $A$ sea inversible, porque de esa manera el sistema tiene solución única. Para que sea mínimo debemos ver que el determinante Hessiano evaluado en cualquier punto sea siempre positivo (curvatura positiva), para que sea máximo debemos ver que el determinante del Hessiano evaluado en cualquier punto sea siempre negativo (curvatura negativa). \n",
    "\n",
    "La curvatura en la dirección $v$ está determinada por la segunda derivada direccional:\n",
    "\n",
    "$D_v^2f=v^tHv,$\n",
    "\n",
    "$D_v^2​f=v^tHv,$\n",
    "\n",
    "donde $H$ es la matriz Hessiana de $f$. Este valor indica cómo cambia $f$ cuando nos movemos en la dirección $v$:\n",
    "\n",
    "Si $v^tHv>0$ para todas las $v\\neq0$, $f$ tiene curvatura positiva en todas las direcciones. Esto es Hessiano definido positivo.\n",
    "Si $v^tHv<0$ para todas las $v\\neq0$, $f$ tiene curvatura negativa en todas las direcciones. Esto es Hessiano definido negativo.\n",
    "\n",
    "En este caso $A$ coincide con el Hessiano.\n",
    "\n"
   ]
  },
  {
   "cell_type": "markdown",
   "id": "2ea79282-6d47-40a3-9fd1-99c646e5d9ee",
   "metadata": {},
   "source": [
    "d) Probar que si $A$ tiene autovalores $\\lambda_1 < 0 < \\lambda_2$ entonces $f$ tiene un punto silla (hallar una dirección en la que tenga un máximo y una dirección en la que tenga un mı́nimo).\n",
    "\n",
    "Sea $A$ la matriz Hessiana de $f$.\n",
    "\n",
    "Si $A$ tiene autovalores $\\lambda_1 < 0$ y $\\lambda_2 > 0$, esto implica que $A$ tiene una mezcla de curvaturas positivas y negativas. Este es el caso característico de un punto silla.\n",
    "\n",
    "Dado que $A$ es simétrica, existe una base ortonormal de autovectores correspondientes a $\\lambda_1$ y $\\lambda_2$. Llamemos $\\mathbf{v}_1 $ y $\\mathbf{v}_2$ a los autovectores asociados a $\\lambda_1$ y $\\lambda_2$, respectivamente. Entonces, tenemos que:\n",
    "\n",
    "$$\n",
    "A \\mathbf{v}_1 = \\lambda_1 \\mathbf{v}_1, \\quad A \\mathbf{v}_2 = \\lambda_2 \\mathbf{v}_2\n",
    "$$\n",
    "\n",
    "Análisis de las curvaturas en las direcciones $\\mathbf{v}_1$  y $\\mathbf{v}_2 $:\n",
    "\n",
    "En la dirección $\\mathbf{v}_1$, donde $ A $ tiene el autovalor $\\lambda_1 < 0 $, la función tiene una curvatura negativa, es decir, un máximo.\n",
    "\n",
    "En la dirección $\\mathbf{v}_2 $, donde $ A $ tiene el autovalor $ \\lambda_2 > 0 $, la función tiene una curvatura positiva, es decir, un mínimo.\n",
    "\n",
    "Conclusión:\n",
    "\n",
    "Como existe una dirección en la que la función tiene un máximo (en $ \\mathbf{v}_1 $) y otra en la que tiene un mínimo (en $ \\mathbf{v}_2 $), se concluye que el punto crítico asociado a $A$ es un punto silla.\n"
   ]
  },
  {
   "cell_type": "markdown",
   "id": "fb612278-0a1b-4db6-91b9-505a7aea23b2",
   "metadata": {},
   "source": [
    "e) ¿Cambia algo si la cuadrática está definida sobre $n$ variables $x_1, \\cdots, x_n$ ?\n",
    "\n",
    "El cambio principal cuando se pasa de dos a $n$ variables es que la matriz Hessiana $A$ tendrá más autovalores y autovectores, lo que aumenta la complejidad del análisis de las curvaturas en distintas direcciones. Sin embargo, el principio básico sigue siendo el mismo: un punto silla ocurre cuando hay una mezcla de autovalores positivos y negativos.\n",
    "\n",
    "Si $A$ tiene autovalores negativos y positivos, entonces hay un punto silla en el origen, con máximos en las direcciones asociadas a los autovalores negativos y mínimos en las direcciones asociadas a los autovalores positivos. Si hay autovalores cero, la situación puede ser más compleja y depende de la estructura de esos autovalores."
   ]
  },
  {
   "cell_type": "markdown",
   "id": "60ad21e0-6afb-4309-afc6-b3bcf24360f3",
   "metadata": {},
   "source": [
    "## Ejercicio 13"
   ]
  },
  {
   "cell_type": "markdown",
   "id": "fa0ee557-d194-4b3b-b6ce-779983e360b7",
   "metadata": {},
   "source": [
    "Dada la analogı́a delineada en el ejercicio anterior, cuando $A$ es simétrica y definida positiva, tiene sentido pensar el problema $Ax = b$ como un problema de minimización. Los **métodos de descenso** toman un vector inicial $x^{(0)}$ y realizan la iteración: $x^{(k+1)} = x^{(k)} +t^k v^{(k)}$ , donde $v^{(k)}$ es una *dirección de descenso* elegida en cada paso y $t^k$ es un parámetro que indica cuánto moverse lo largo de la dirección $v^{(k)}$."
   ]
  },
  {
   "cell_type": "markdown",
   "id": "e01e2500-a5bd-4f85-8cde-b76a05738ccc",
   "metadata": {},
   "source": [
    "a) Probar que la dirección de máximo descenso de una función $f$ en un punto $x^{(0)}$ está dada por: $- \\nabla f(x^{(0)})$. \n",
    "\n",
    "*Sug: recordar la derivada direccional de $f$ en la dirección de $v$ puede calcularse como $\\frac{\\partial f}{\\partial v}(x)= \\nabla f(x) \\cdot v$*\n",
    "\n",
    "El gradiente $\\nabla f(x)$ es el vector que apunta en la dirección de mayor incremento de la función $f$ en el punto $x$. Luego, el vector que apunta en la dirección de menor incremento (o de máximo descenso) de la función es simplemente el opuesto: $- \\nabla f(x)$.\n"
   ]
  },
  {
   "cell_type": "markdown",
   "id": "ae766490-4ef2-4069-af65-267c42037b84",
   "metadata": {},
   "source": [
    "b) Mostrar que para una función cuadrática como la del ejercicio anterior el gradiente negativo es el residuo: $−\\nabla f(x) = r := b − Ax$.\n",
    "\n",
    "Vimos en el ejercicio anterior que $\\nabla f(x) = Ax - b $. Entonces tenemos que $-\\nabla f(x)= b - Ax$."
   ]
  },
  {
   "cell_type": "markdown",
   "id": "d6a015d7-71a9-4bd0-a134-fa8982e4ce7c",
   "metadata": {},
   "source": [
    "c) El **método del gradiente** es un método de descenso en el que se elige como dirección de descenso el gradiente negativo: $v^{(k)}= -\\nabla f(x^{(k)}) = r^{(k)}$. Probar que para $f$ cuadrática, la función $\\varphi (t) = f(x^{(k)}+tr^{(k)})$ alcanza un mínimo en $t=\\frac{r^{(k)t}r^{(k)}}{r^{(k)t}Ar^{(k)}}$. [Obs.: la función $\\varphi$ es la cuadrática restringida a la recta con vector director $r^{(k)}$ que pasa por $x^{(k)}$ ]\n",
    "\n",
    "$f(x)= \\frac{1}{2}x^t Ax-x^t b+ \\eta$\n",
    "\n",
    "$\\implies \\varphi (t) = f(x^{(k)}+tr^{(k)}) = \\frac{1}{2}(x^{(k)}+tr^{(k)})^t A(x^{(k)}+tr^{(k)})-(x^{(k)}+tr^{(k)})^t b+ \\eta$\n",
    "\n",
    "$\\implies \\varphi (t) = \\frac{1}{2}(x^{(k)t}+tr^{(k)t}) A(x^{(k)}+tr^{(k)})-(x^{(k)t}+tr^{(k)t}) b+ \\eta  $\n",
    "\n",
    "$\\implies \\varphi (t) = \\frac{1}{2}(x^{(k)t}A+tr^{(k)t}A)(x^{(k)}+tr^{(k)})-(x^{(k)t}b+tr^{(k)t}b)+ \\eta  $\n",
    "\n",
    "$\\implies \\varphi (t) = \\frac{1}{2}(x^{(k)t}A(x^{(k)}+tr^{(k)})+tr^{(k)t}A(x^{(k)}+tr^{(k)}))-x^{(k)t}b-tr^{(k)t}b+ \\eta  $\n",
    "\n",
    "$\\implies \\varphi (t) = \\frac{1}{2}x^{(k)t}Ax^{(k)}+\\frac{t}{2}x^{(k)t}Ar^{(k)}+\\frac{t}{2}r^{(k)t}Ax^{(k)}+\\frac{t^2}{2}r^{(k)t}Ar^{(k)}-x^{(k)t}b-tr^{(k)t}b+ \\eta  $\n",
    "\n",
    "$\\implies \\varphi (t) = \\frac{t^2}{2}r^{(k)t}Ar^{(k)}+\\frac{t}{2}x^{(k)t}Ar^{(k)}+\\frac{t}{2}r^{(k)t}Ax^{(k)}-tr^{(k)t}b+\\frac{1}{2}x^{(k)t}Ax^{(k)}-x^{(k)t}b+ \\eta  $\n",
    "\n",
    "Como A es simétrica, $x^{(k)t}Ar^{(k)} = r^{(k)t}Ax^{(k)} \\implies \\frac{t}{2}x^{(k)t}Ar^{(k)}+\\frac{t}{2}r^{(k)t}Ax^{(k)} = tx^{(k)t}Ar^{(k)}$ \n",
    "\n",
    "$\\implies \\varphi (t) = \\frac{t^2}{2}r^{(k)t}Ar^{(k)}+t(x^{(k)t}Ar^{(k)} - r^{(k)t}b)+\\frac{1}{2}x^{(k)t}Ax^{(k)}-x^{(k)t}b+ \\eta  $\n",
    "\n",
    "Derivamos para minimizar la función:\n",
    "\n",
    "$\\frac{d \\varphi}{dt} = tr^{(k)t}Ar^{(k)}+x^{(k)t}Ar^{(k)} - r^{(k)t}b$\n",
    "\n",
    "$\\implies \\frac{d \\varphi}{dt} = 0 \\iff t= \\frac{r^{(k)t}b - x^{(k)t}Ar^{(k)}}{r^{(k)t}Ar^{(k)}}$\n",
    "\n",
    "Como $r^{(k)}=-\\nabla f(x^{(k)}) = b - Ax^{(k)}$\n",
    "\n",
    "$\\implies \\frac{d \\varphi}{dt} = 0 \\iff t= \\frac{r^{(k)t}(r^{(k)} + Ax^{(k)}) - x^{(k)t}Ar^{(k)}}{r^{(k)t}Ar^{(k)}} = \\frac{r^{(k)t}r^{(k)} + r^{(k)t}Ax^{(k)} - x^{(k)t}Ar^{(k)}}{r^{(k)t}Ar^{(k)}} = \\frac{r^{(k)t}r^{(k)}}{r^{(k)t}Ar^{(k)}}$"
   ]
  },
  {
   "cell_type": "markdown",
   "id": "fda2c836-9abd-4479-8d4c-0f07a64dd0ff",
   "metadata": {},
   "source": [
    "## Ejercicio 14"
   ]
  },
  {
   "cell_type": "markdown",
   "id": "2cbc0a8d-61dd-4565-9a6e-5828f1aefa8e",
   "metadata": {},
   "source": [
    "En el contexto del Ejercicio 13, mostrar que si la función $\\varphi$ se define como $\\varphi (t)= f(x^{(k)} + td^{(k)})$, donde $d^{(k)}$ es una dirección cualquiera, entonces el mínimo de $\\varphi$ se alcanza en $t= \\frac{r^{(k)t}r^{(k)}}{d^{(k)t}Ad^{(k)}}$.\n",
    "\n",
    "Queremos minimizar $\\varphi (t)= f(x^{(k)} + td^{(k)})$.\n",
    "\n",
    "La forma cuadrática de $f$ es $f(x)= \\frac{1}{2}x^t Ax-x^t b+ \\eta$, donde $A$ es simétrica y definida positiva.\n",
    "\n",
    "Reemplazando $x$ por $x^{(k)} + td^{(k)}$ en $f(x)$ nos queda lo siguiente:\n",
    "\n",
    "$\\varphi (t) = \\frac{1}{2}(x^{(k)} + td^{(k)})^t A(x^{(k)} + td^{(k)})-(x^{(k)} + td^{(k)})^t b+ \\eta$\n",
    "\n",
    "Expandimos los términos:\n",
    "\n",
    "- $\\frac{1}{2}(x^{(k)} + td^{(k)})^t A(x^{(k)}+ td^{(k)}) = \\frac{1}{2}(x^{(k)t} + td^{(k)t}) A(x^{(k)} + td^{(k)}) = \\frac{1}{2}( x^{(k)t}Ax^{(k)} +t x^{(k)t}Ad^{(k)} + td^{(k)t}Ax^{(k)} + t^2 d^{(k)t}Ad^{(k)})$\n",
    "\n",
    "  Como $A$ es simétrica se tiene que $d^{(k)t}Ax^{(k)} = x^{(k)t}Ad^{(k)}$ Luego el primer término queda:\n",
    "\n",
    "  $\\frac{1}{2}( x^{(k)t}Ax^{(k)} +2t d^{(k)t}Ax^{(k)} + t^2 d^{(k)t}Ad^{(k)})$\n",
    "\n",
    "- $-(x^{(k)} + td^{(k)})^t b = -(x^{(k)t} + td^{(k)t}) b = -td^{(k)t}b - x^{(k)t}b$\n",
    "\n",
    "Derivamos $\\varphi (t)$:\n",
    "\n",
    "$\\varphi '(t) = t d^{(k)t}Ad^{(k)} + d^{(k)t}Ax^{(k)} - d^{(k)t}b$\n",
    "\n",
    "Igualamos a 0 y despejamos t para obtener un punto crítico.\n",
    "\n",
    "$0 = t d^{(k)t}Ad^{(k)} + d^{(k)t}Ax^{(k)} - d^{(k)t}b \\implies t = \\frac{- d^{(k)t}Ax^{(k)} + d^{(k)t}b}{d^{(k)t}Ad^{(k)}} = \\frac{d^{(k)t}(b-Ax^{(k)})}{d^{(k)t}Ad^{(k)}} = \\frac{d^{(k)t} r^{(k)}}{d^{(k)t}Ad^{(k)}}$"
   ]
  },
  {
   "cell_type": "markdown",
   "id": "5b4bb94d-2899-48cb-b035-4b89c000ba06",
   "metadata": {},
   "source": [
    "## Ejercicio 15"
   ]
  },
  {
   "cell_type": "markdown",
   "id": "bfa79172-f1c6-4c8a-9647-b61dc6ebede0",
   "metadata": {},
   "source": [
    "Implementar el método del gradiente descripto en el Ejercicio 13, eligiendo en cada paso el valor de $t$ óptimo. El algoritmo debe detenerse cuando la diferencia entre dos iteraciones sucesivas es menor que una tolerancia dada. Además, debe almacenar toda la sucesión de puntos generada y devolverla en forma de matriz de $N \\times n$, donde $n$ es el tamaño del problema y $N$ el número de iteraciones realizadas."
   ]
  },
  {
   "cell_type": "code",
   "execution_count": 54,
   "id": "bc3358b1-9490-4507-9349-639bf0ca8e05",
   "metadata": {},
   "outputs": [],
   "source": [
    "import numpy as np\n",
    "\n",
    "def gradiente_descendente(A, b, x0, tol=1e-6, max_iter=1000):\n",
    "    \"\"\"\n",
    "    Método del gradiente para resolver Ax = b.\n",
    "    Recibe:\n",
    "    A: Matriz simétrica y definida positiva.\n",
    "    b: Vector independiente.\n",
    "    x0: Vector inicial.\n",
    "    tol: Tolerancia para detener el método.\n",
    "\n",
    "    Retorna:\n",
    "    puntos: Matriz de Nxn con los puntos de tamaño n generados en las N iteraciones\n",
    "    \"\"\"\n",
    "    x_k = x0\n",
    "    puntos = []\n",
    "    for _ in range(max_iter):\n",
    "        r_k = b - A @ x_k  # Residuo = - GRADIENTE\n",
    "        \n",
    "        # Calcular t óptimo\n",
    "        t_k = r_k.T @ r_k / (r_k.T @ A @ r_k)\n",
    "        \n",
    "        # Actualizar x\n",
    "        x_k1 = x_k + t_k * r_k\n",
    "        \n",
    "        # Almacenar punto de la iteración \n",
    "        puntos.append(x_k1)\n",
    "        \n",
    "        # Verificar tolerancia\n",
    "        if np.linalg.norm(x_k1 - x_k) < tol:\n",
    "            break\n",
    "        \n",
    "        x_k = x_k1\n",
    "\n",
    "    return np.vstack(puntos)\n"
   ]
  },
  {
   "cell_type": "markdown",
   "id": "b8144d57-b191-4033-ab95-581384560539",
   "metadata": {},
   "source": [
    "## Ejercicio 16"
   ]
  },
  {
   "cell_type": "markdown",
   "id": "d07e7048-ca92-421e-a48e-ef3fb5958d86",
   "metadata": {},
   "source": [
    "a) Aplicar el método del gradiente a la resolución del sistema: $Ax=b$ siendo:\n",
    "\n",
    "$A = \\begin{pmatrix} 2 & 1 \\\\ 1 & 12 \\end{pmatrix}$\n",
    "\n",
    "$b = \\begin{pmatrix} 7 \\\\ -5 \\end{pmatrix}$"
   ]
  },
  {
   "cell_type": "code",
   "execution_count": 68,
   "id": "7a418727-f99f-4427-bc29-76cacde7684e",
   "metadata": {},
   "outputs": [],
   "source": [
    "A = np.array([[2,1],[1,12]])\n",
    "b = np.array([[7],[-5]])\n",
    "x0 =  np.random.rand(2)\n",
    "\n",
    "X = gradiente_descendente(A,b, x0)\n"
   ]
  },
  {
   "cell_type": "markdown",
   "id": "c3de422d-79e7-4b83-87fc-fb85433f3ae1",
   "metadata": {},
   "source": [
    "b) Si X es la matriz que devuelve el método (cada fila es una iteración), correr el siguiente código:\n",
    "\n",
    "El código siguiente genera un gráfico de contornos de la función cuadrática dada por A y b y superpone la trayectoria dada por los puntos obtenidos con el método del gradient(que están en X)."
   ]
  },
  {
   "cell_type": "code",
   "execution_count": 137,
   "id": "79ca9c48-37f3-454f-99aa-70cff09aaada",
   "metadata": {},
   "outputs": [
    {
     "name": "stderr",
     "output_type": "stream",
     "text": [
      "/tmp/ipykernel_66322/1707669431.py:13: DeprecationWarning: Conversion of an array with ndim > 0 to a scalar is deprecated, and will error in future. Ensure you extract a single element from your array before performing this operation. (Deprecated NumPy 1.25.)\n",
      "  zz[i, j] = 0.5 * vec.T @ A @ vec - b.T @ vec #Obtiene la derivada direccional en la direccion de vec\n"
     ]
    },
    {
     "data": {
      "image/png": "[encoded data removed]",
      "text/plain": [
       "<Figure size 640x480 with 1 Axes>"
      ]
     },
     "metadata": {},
     "output_type": "display_data"
    }
   ],
   "source": [
    "import numpy as np\n",
    "import matplotlib.pyplot as plt\n",
    "\n",
    "x = np.linspace(0, 6, 100) #Crea 100 puntos x entre 0 y 6\n",
    "y = np.linspace(-2, 2, 100) #Crea 100 puntos y entre -2 y 2\n",
    "xx, yy = np.meshgrid(x, y) #Toma el producto cartesiano de los dos conjuntos de entrada.\n",
    "                        #xx tiene len(y) filas con x repetido \n",
    "                        #yy tiene len(x) columnas con y repetido\n",
    "zz = np.zeros(xx.shape) #Genera una matriz nula del tamaño de xx\n",
    "for i in range(xx.shape[0]): #Por cada fila\n",
    "    for j in range(yy.shape[1]): #Por cada columna\n",
    "        vec = np.array([[xx[i, j]], [yy[i, j]]]) #Asigna a vec un punto del producto cartesiano\n",
    "        zz[i, j] = 0.5 * vec.T @ A @ vec - b.T @ vec #Obtiene la derivada direccional en la direccion de vec\n",
    "\n",
    "plt.contour(xx, yy, zz) #Dibuja líneas de contorno \n",
    "plt.plot(X[:, 0], X[:, 1], '*-')\n",
    "plt.show()\n"
   ]
  },
  {
   "cell_type": "markdown",
   "id": "49ebb985-02d8-44bd-a459-f5392ff22068",
   "metadata": {},
   "source": [
    "c) ¿Qué se muestra en el gráfico obtenido? ¿Qué se observa?"
   ]
  }
 ],
 "metadata": {
  "kernelspec": {
   "display_name": "Python 3 (ipykernel)",
   "language": "python",
   "name": "python3"
  },
  "language_info": {
   "codemirror_mode": {
    "name": "ipython",
    "version": 3
   },
   "file_extension": ".py",
   "mimetype": "text/x-python",
   "name": "python",
   "nbconvert_exporter": "python",
   "pygments_lexer": "ipython3",
   "version": "3.12.4"
  }
 },
 "nbformat": 4,
 "nbformat_minor": 5
}

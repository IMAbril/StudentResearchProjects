{
 "cells": [
  {
   "cell_type": "markdown",
   "id": "b1dfc8ce-6c09-42a1-977c-4284e767ced1",
   "metadata": {},
   "source": [
    "# Descriptive Statistics"
   ]
  },
  {
   "cell_type": "markdown",
   "id": "fa2e0c44-5404-436a-902a-a02cac760bce",
   "metadata": {},
   "source": [
    "**Topics**\n",
    "\n",
    "- Understanding statistics\n",
    "- Measures of central tendency\n",
    "- Measures of dispersion\n",
    "\n",
    " "
   ]
  },
  {
   "cell_type": "markdown",
   "id": "009a16d0-51de-4a6b-898e-05705a5bb563",
   "metadata": {},
   "source": [
    "## Understanding statistics"
   ]
  },
  {
   "cell_type": "markdown",
   "id": "125a0837-75b2-4660-b81a-6bc12b422d5d",
   "metadata": {},
   "source": []
  }
 ],
 "metadata": {
  "kernelspec": {
   "display_name": "Python 3 (ipykernel)",
   "language": "python",
   "name": "python3"
  },
  "language_info": {
   "codemirror_mode": {
    "name": "ipython",
    "version": 3
   },
   "file_extension": ".py",
   "mimetype": "text/x-python",
   "name": "python",
   "nbconvert_exporter": "python",
   "pygments_lexer": "ipython3",
   "version": "3.12.2"
  }
 },
 "nbformat": 4,
 "nbformat_minor": 5
}

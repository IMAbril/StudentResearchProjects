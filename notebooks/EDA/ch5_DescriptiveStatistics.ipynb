{
 "cells": [
  {
   "cell_type": "markdown",
   "id": "b1dfc8ce-6c09-42a1-977c-4284e767ced1",
   "metadata": {},
   "source": [
    "# Descriptive Statistics"
   ]
  }
 ],
 "metadata": {
  "kernelspec": {
   "display_name": "Python 3 (ipykernel)",
   "language": "python",
   "name": "python3"
  },
  "language_info": {
   "codemirror_mode": {
    "name": "ipython",
    "version": 3
   },
   "file_extension": ".py",
   "mimetype": "text/x-python",
   "name": "python",
   "nbconvert_exporter": "python",
   "pygments_lexer": "ipython3",
   "version": "3.12.4"
  }
 },
 "nbformat": 4,
 "nbformat_minor": 5
}

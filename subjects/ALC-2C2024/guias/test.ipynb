{
 "cells": [
  {
   "cell_type": "code",
   "execution_count": 1,
   "id": "713b21a0-4f98-4606-9d03-ff5a530a0a6c",
   "metadata": {},
   "outputs": [],
   "source": [
    "import sympy as sp\n",
    "from sympy import *"
   ]
  },
  {
   "cell_type": "code",
   "execution_count": 2,
   "id": "aff28487-f10d-4af5-9c3a-e0a5193eac60",
   "metadata": {},
   "outputs": [
    {
     "data": {
      "text/plain": [
       "[(16,\n",
       "  1,\n",
       "  [Matrix([\n",
       "   [0],\n",
       "   [0],\n",
       "   [1]])]),\n",
       " (36,\n",
       "  1,\n",
       "  [Matrix([\n",
       "   [-1],\n",
       "   [ 1],\n",
       "   [ 0]])]),\n",
       " (100,\n",
       "  1,\n",
       "  [Matrix([\n",
       "   [1],\n",
       "   [1],\n",
       "   [0]])])]"
      ]
     },
     "metadata": {},
     "output_type": "display_data"
    }
   ],
   "source": [
    "A = Matrix([[2, 8, 0],[-8,-2,0],[0,0,4]])\n",
    "M = A.T@A\n",
    "display(M.eigenvects())\n",
    "U = Matrix([[1/sqrt(2),-1/sqrt(2),0],[-1/sqrt(2),-1/sqrt(2),0],[0,0,1]])\n",
    "S = Matrix([[10,0,0],[0,6,0],[0,0,4]])\n",
    "Vt = Matrix([[1/sqrt(2),1/sqrt(2),0],[1/sqrt(2),-1/sqrt(2),0],[0,0,1]])\n"
   ]
  },
  {
   "cell_type": "code",
   "execution_count": 3,
   "id": "a13f7818-c3c6-4b83-b290-b7f06ff5545a",
   "metadata": {},
   "outputs": [
    {
     "data": {
      "text/latex": [
       "$\\displaystyle \\left[\\begin{matrix}1.0 & -0.0833333333333333 & 0\\\\-0.333333333333333 & 1.0 & 0\\\\0 & 0 & 1.0\\end{matrix}\\right]$"
      ],
      "text/plain": [
       "Matrix([\n",
       "[               1.0, -0.0833333333333333,   0],\n",
       "[-0.333333333333333,                 1.0,   0],\n",
       "[                 0,                   0, 1.0]])"
      ]
     },
     "execution_count": 3,
     "metadata": {},
     "output_type": "execute_result"
    }
   ],
   "source": [
    "D_inv = Matrix([[1/12,0,0],[0,1/3,0],[0,0,1/2]])\n",
    "A = Matrix([[12,-1,0],[-1,3,0],[0,0,2]])\n",
    "D_inv@A"
   ]
  },
  {
   "cell_type": "code",
   "execution_count": 4,
   "id": "05dbccb5-9b89-4505-9fd6-5e9f0a4ebdd5",
   "metadata": {},
   "outputs": [
    {
     "data": {
      "text/plain": [
       "[Matrix([\n",
       " [ sqrt(6)/6],\n",
       " [-sqrt(6)/6],\n",
       " [ sqrt(6)/3]]),\n",
       " Matrix([\n",
       " [sqrt(30)/30],\n",
       " [ sqrt(30)/6],\n",
       " [sqrt(30)/15]])]"
      ]
     },
     "execution_count": 4,
     "metadata": {},
     "output_type": "execute_result"
    }
   ],
   "source": [
    "v1 = Matrix([[1],[-1],[2]])\n",
    "v2 = Matrix([[0],[1],[0]])\n",
    "cols = [v1,v2]\n",
    "bon = GramSchmidt(cols, orthonormal=True)\n",
    "bon"
   ]
  },
  {
   "cell_type": "code",
   "execution_count": 35,
   "id": "5d3e366b-6d0e-4cdc-af16-92a3a99a4c48",
   "metadata": {},
   "outputs": [],
   "source": [
    "P= Matrix([[1/2,1/2,0],[1/2,0,1/2],[0,1/2,1/2]])\n",
    "v= Matrix([[4],[8],[0]])\n",
    "C,D=P.diagonalize()\n"
   ]
  },
  {
   "cell_type": "code",
   "execution_count": 55,
   "id": "59a6ed01-d6c8-40e2-bfc3-0d1dbcfa6ca2",
   "metadata": {},
   "outputs": [
    {
     "data": {
      "text/plain": [
       "(Matrix([\n",
       " [1, 0, 0],\n",
       " [0, 0, 1],\n",
       " [0, 1, 0]]),\n",
       " Matrix([\n",
       " [1, 0, 0],\n",
       " [0, 2, 0],\n",
       " [0, 0, 3]]),\n",
       " Matrix([\n",
       " [0, -sqrt(2)/2, sqrt(2)/2],\n",
       " [0,  sqrt(2)/2, sqrt(2)/2],\n",
       " [1,          0,         0]]))"
      ]
     },
     "execution_count": 55,
     "metadata": {},
     "output_type": "execute_result"
    }
   ],
   "source": [
    "A = Matrix([[0,0,1],[3*sqrt(2)/2,3*sqrt(2)/2,0],[-sqrt(2),sqrt(2),0]])\n",
    "A.singular_value_decomposition()"
   ]
  },
  {
   "cell_type": "code",
   "execution_count": 63,
   "id": "d4606720-6061-47e4-a6c1-5705bede0ad3",
   "metadata": {},
   "outputs": [
    {
     "data": {
      "text/plain": [
       "[(1,\n",
       "  4,\n",
       "  [Matrix([\n",
       "   [1],\n",
       "   [0],\n",
       "   [0],\n",
       "   [0]]),\n",
       "   Matrix([\n",
       "   [0],\n",
       "   [1],\n",
       "   [0],\n",
       "   [0]]),\n",
       "   Matrix([\n",
       "   [0],\n",
       "   [0],\n",
       "   [1],\n",
       "   [0]]),\n",
       "   Matrix([\n",
       "   [0],\n",
       "   [0],\n",
       "   [0],\n",
       "   [1]])])]"
      ]
     },
     "execution_count": 63,
     "metadata": {},
     "output_type": "execute_result"
    }
   ],
   "source": [
    "P= Matrix([[0,0,0,1],[1,0,0,0],[0,1,0,0],[0,0,1,0]])\n",
    "P = Matrix([[1,0,0,0],[0,1,0,0],[0,0,1,0],[0,0,0,1]])\n",
    "P.eigenvects()"
   ]
  }
 ],
 "metadata": {
  "kernelspec": {
   "display_name": "Python 3 (ipykernel)",
   "language": "python",
   "name": "python3"
  },
  "language_info": {
   "codemirror_mode": {
    "name": "ipython",
    "version": 3
   },
   "file_extension": ".py",
   "mimetype": "text/x-python",
   "name": "python",
   "nbconvert_exporter": "python",
   "pygments_lexer": "ipython3",
   "version": "3.12.4"
  }
 },
 "nbformat": 4,
 "nbformat_minor": 5
}

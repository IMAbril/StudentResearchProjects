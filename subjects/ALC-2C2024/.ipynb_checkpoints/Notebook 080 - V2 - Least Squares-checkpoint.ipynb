{
 "cells": [
  {
   "cell_type": "markdown",
   "id": "e94f6fa8-4461-4916-be61-fa07b8fe161a",
   "metadata": {},
   "source": [
    "# Mínimos cuadrados\n",
    "\n",
    "## Contenido\n",
    "\n",
    "### 1. **Introducción a los Mínimos Cuadrados**\n",
    "\n",
    "### 2. **Ajuste de Modelos Cuadráticos a Datos Experimentales**\n",
    "\n",
    "### 3. **Ajustes Ponderados. Ajuste de Sumas de Funciones**\n",
    "\n",
    "### 4. **Mas Ejemplos: Producto Interno, Regresión Lineal en Economía**\n"
   ]
  },
  {
   "cell_type": "code",
   "execution_count": 6,
   "id": "d4df1434-bbba-4d0e-9c0b-971ffb48a829",
   "metadata": {},
   "outputs": [],
   "source": [
    "import numpy as np\n",
    "import matplotlib.pyplot as plt"
   ]
  },
  {
   "cell_type": "markdown",
   "id": "609f0c01-3eb4-4079-b75c-843f2414e81d",
   "metadata": {},
   "source": [
    "### 1. **Introducción a los Mínimos Cuadrados**\n",
    "\n",
    "### 2. **Ajuste de Modelos Cuadráticos a Datos Experimentales**\n",
    "\n",
    "#### Problema 1\n",
    "\n",
    "Una pelota es arrojada hacia arriba. Una cámara de fotos toma fotos cada 0.1 segundos y a partir de esas fotos se calcula la altura de la pelota en cada instante.\n",
    "En el archivo `altura_pelota.csv` se encuentran las mediciones obtenidas.\n",
    "\n",
    "Sabiendo que la altura de la pelota depende del tiempo en forma cuadrática \n",
    "$h(t) = c_0 + c_1 t + c_2 t^2,$ estimar los valores de $c_0, c_1, c_2$ ajustando los datos por mínimos cuadrados.\n",
    "\n",
    "Resolvemos el problema mediante las ecuaciones normales\n",
    "$\n",
    "A^tA c = A^ty\n",
    "$\n",
    "para una matriz $A$ apropiada.\n"
   ]
  },
  {
   "cell_type": "markdown",
   "id": "1bb1d263-857d-49e9-8f82-cf60f1cba0ad",
   "metadata": {},
   "source": [
    "**Ejercicios**\n",
    "\n",
    "1. Obtener la matriz A.\n",
    "2. Resolver por mínimos cuadrados utilizando la función de escalonamiento utilizada en el laboratorio de ALC (no utilizar el solve de numpy o scipy, etc.)\n",
    "3. Graficar la nube de puntos y la función encontrada.\n",
    "4. Es posible saber en que punto la pelota toca el suelo para los valores encontrados?"
   ]
  },
  {
   "cell_type": "code",
   "execution_count": 7,
   "id": "61a4f2cf-bd93-49cd-b53a-ef2115e1d0d2",
   "metadata": {},
   "outputs": [
    {
     "data": {
      "text/html": [
       "<div>\n",
       "<style scoped>\n",
       "    .dataframe tbody tr th:only-of-type {\n",
       "        vertical-align: middle;\n",
       "    }\n",
       "\n",
       "    .dataframe tbody tr th {\n",
       "        vertical-align: top;\n",
       "    }\n",
       "\n",
       "    .dataframe thead th {\n",
       "        text-align: right;\n",
       "    }\n",
       "</style>\n",
       "<table border=\"1\" class=\"dataframe\">\n",
       "  <thead>\n",
       "    <tr style=\"text-align: right;\">\n",
       "      <th></th>\n",
       "      <th>tiempo</th>\n",
       "      <th>altura</th>\n",
       "    </tr>\n",
       "  </thead>\n",
       "  <tbody>\n",
       "    <tr>\n",
       "      <th>0</th>\n",
       "      <td>0.0</td>\n",
       "      <td>13.335240</td>\n",
       "    </tr>\n",
       "    <tr>\n",
       "      <th>1</th>\n",
       "      <td>0.1</td>\n",
       "      <td>15.936852</td>\n",
       "    </tr>\n",
       "    <tr>\n",
       "      <th>2</th>\n",
       "      <td>0.2</td>\n",
       "      <td>23.846084</td>\n",
       "    </tr>\n",
       "  </tbody>\n",
       "</table>\n",
       "</div>"
      ],
      "text/plain": [
       "   tiempo     altura\n",
       "0     0.0  13.335240\n",
       "1     0.1  15.936852\n",
       "2     0.2  23.846084"
      ]
     },
     "execution_count": 7,
     "metadata": {},
     "output_type": "execute_result"
    }
   ],
   "source": [
    "import pandas as pd   \n",
    "# Los datos están en español! \n",
    "datos = pd.read_csv(\"altura_pelota.csv\", sep=\";\", decimal=\",\")   # dataFrame\n",
    "datos.head(3)"
   ]
  },
  {
   "cell_type": "code",
   "execution_count": 8,
   "id": "1124795f-60a3-403d-a78a-d1676c0e46c8",
   "metadata": {},
   "outputs": [
    {
     "name": "stdout",
     "output_type": "stream",
     "text": [
      "(101, 2)\n"
     ]
    }
   ],
   "source": [
    "# Convertimos los datos a np.array\n",
    "datosNP = datos.to_numpy()\n",
    "print(datosNP.shape)"
   ]
  },
  {
   "cell_type": "code",
   "execution_count": 9,
   "id": "b8e7e44d-f2d3-4212-883f-8c2b454acba4",
   "metadata": {},
   "outputs": [
    {
     "data": {
      "text/plain": [
       "<matplotlib.collections.PathCollection at 0x77b0c823fd50>"
      ]
     },
     "execution_count": 9,
     "metadata": {},
     "output_type": "execute_result"
    },
    {
     "data": {
      "image/png": "[encoded data removed]",
      "text/plain": [
       "<Figure size 640x480 with 1 Axes>"
      ]
     },
     "metadata": {},
     "output_type": "display_data"
    }
   ],
   "source": [
    "# Graficamos\n",
    "plt.scatter(datosNP[:,0], datosNP[:,1])"
   ]
  },
  {
   "cell_type": "markdown",
   "id": "373aabdc-a70c-4758-a2a4-c5f97a013672",
   "metadata": {},
   "source": [
    "Resolver a partir de aqui.\n",
    "\n",
    "1. Definir A\n",
    "2. Calcular A^T * A and A^T * y\n",
    "3. Resolver el sistema de ecuaciones normales (Cholesky o LU)\n",
    "4. Graficar la nube de puntos junto con la función encontrada."
   ]
  },
  {
   "cell_type": "markdown",
   "id": "6cc0df71",
   "metadata": {},
   "source": [
    "### 3. **Ajustes Ponderados. Ajuste de Sumas de Funciones**"
   ]
  },
  {
   "cell_type": "markdown",
   "id": "d1870894",
   "metadata": {},
   "source": [
    "**Residuales**\n",
    "\n",
    "$\\sigma^2 \\approx \\frac{1}{N - M} \\sum_{i=1}^N r_i^2$\n"
   ]
  },
  {
   "cell_type": "code",
   "execution_count": 44,
   "id": "a953aa35",
   "metadata": {},
   "outputs": [
    {
     "name": "stdout",
     "output_type": "stream",
     "text": [
      "Magnitud de la desviación estándar de la altura ajustada: 48.79\n"
     ]
    }
   ],
   "source": [
    "N = len(datos) # m, en el apunte de Laplagne\n",
    "sigma_ = np.sqrt(N)*np.mean(abs(y_fit - datos.altura.values))\n",
    "print('Magnitud de la desviación estándar de la altura ajustada: {:.2f}'.format(sigma_))"
   ]
  },
  {
   "cell_type": "markdown",
   "id": "48cd30cd",
   "metadata": {},
   "source": [
    "**Ajustes ponderados**\n",
    "\n",
    "1. **Modelo de ajuste**:\n",
    "\n",
    "Para ajustar los parámetros de un modelo lineal en función de un conjunto de datos con pesos, se utiliza la siguiente ecuación:\n",
    "\n",
    "$$ y(x) = \\sum_{j=0}^{M-1} a_j \\, f_j(x) $$\n",
    "\n",
    "donde $ f_j(x) $ son las funciones base evaluadas en $ x $ y $ a_j $ son los coeficientes a ajustar. La matriz de diseño $ A $ y el vector $ \\beta $ se calculan como sigue:"
   ]
  },
  {
   "cell_type": "markdown",
   "id": "ff1cdb3e",
   "metadata": {},
   "source": [
    "\n",
    "\n",
    "2. **Definición de la matriz de diseño $ A $ y el vector $ \\beta $**:\n",
    "\n",
    "   Para cada punto de datos $ i $ y función base $ j $:\n",
    "\n",
    "   $$ A_{ij} = \\frac{f_j(x_i)}{\\sigma_i^2} $$\n",
    "   $$ \\beta_j = \\sum_{i=0}^{N-1} \\frac{y_i \\, f_j(x_i)}{\\sigma_i^2} $$\n",
    "\n",
    "3. **Ecuaciones normales**:\n",
    "\n",
    "   Resolvemos el sistema de ecuaciones normales para obtener los coeficientes $ a $:\n",
    "\n",
    "   $$ A^T A \\, a = A^T y $$\n",
    "\n",
    "4. **Bondad de ajuste ($ \\chi^2 $)**:\n",
    "\n",
    "   El valor de $ \\chi^2 $ (suma de los residuales ponderados al cuadrado) es:\n",
    "\n",
    "   $$ \\chi^2 = \\sum_{i=0}^{N-1} \\left( \\frac{y_i - \\sum_{j=0}^{M-1} a_j \\, f_j(x_i)}{\\sigma_i} \\right)^2 $$\n"
   ]
  },
  {
   "cell_type": "code",
   "execution_count": 73,
   "id": "b04b54c1",
   "metadata": {},
   "outputs": [],
   "source": [
    "import numpy as np\n",
    "\n",
    "def fit_least_squares(x, y, sigma, basis_funcs):\n",
    "    \"\"\"\n",
    "    Ajuste de mínimos cuadrados general con parámetros ajustables y ponderación de errores.\n",
    "\n",
    "    Parámetros:\n",
    "    x - Array de valores independientes.\n",
    "    y - Array de valores dependientes (datos observados).\n",
    "    sigma - Array de errores de cada punto de datos.\n",
    "    basis_funcs - Función que toma x y devuelve un array con las funciones base evaluadas en x.\n",
    "\n",
    "    Retorna:\n",
    "    a - Coeficientes ajustados de las funciones base.\n",
    "    chi2 - Valor de χ² para el ajuste (bondad de ajuste).\n",
    "    \"\"\"\n",
    "    \n",
    "    # Número de puntos de datos\n",
    "    N = len(x)\n",
    "    \n",
    "    # Número de funciones base (número de parámetros a ajustar)\n",
    "    ma = len(basis_funcs(x[0])) # 3, para un ajuste cuadratico\n",
    "\n",
    "    # Construimos la matriz de diseño evaluando todas las funciones base en cada x\n",
    "    A = np.array([basis_funcs(xi) for xi in x])  # Matriz N x ma\n",
    "\n",
    "    # Creamos el vector de pesos (1/sigma^2)\n",
    "    weights = 1.0 / sigma**2\n",
    "    W = np.diag(weights)  # Matriz diagonal de pesos N x N\n",
    "\n",
    "    # Calculamos AtA y AtY de forma vectorizada\n",
    "    AtA = A.T @ W @ A  # Matriz ma x ma\n",
    "    AtY = A.T @ (weights * y)  # Vector ma\n",
    "\n",
    "\n",
    "    # Resolvemos el sistema AtA * a = AtY usando eliminación gaussiana o un solucionador de sistema lineal\n",
    "    # print(AtA.round(2))\n",
    "    a = np.linalg.solve(AtA, AtY)\n",
    "\n",
    "    # Cálculo de χ² como bondad de ajuste\n",
    "    model_y = A @ a  # Predicción de y usando el modelo ajustado\n",
    "    chi2 = np.sum(((y - model_y) / sigma)**2)  # Suma de residuales al cuadrado, ponderada por sigma\n",
    "\n",
    "    # # Cálculo iterando en los puntos\n",
    "    # chi2 = 0.0\n",
    "    # for i in range(N):\n",
    "    #     funcs_eval = basis_funcs(x[i])\n",
    "    #     model_y = np.dot(a, funcs_eval)\n",
    "    #     chi2 += ((y[i] - model_y) / sigma[i])**2  # Suma de residuales al cuadrado, ponderada por sigma\n",
    "    \n",
    "    return a, chi2\n"
   ]
  },
  {
   "cell_type": "code",
   "execution_count": 74,
   "id": "d4f9ef36",
   "metadata": {},
   "outputs": [
    {
     "name": "stdout",
     "output_type": "stream",
     "text": [
      "[[4.000e-02 2.100e-01 1.420e+00]\n",
      " [2.100e-01 1.420e+00 1.072e+01]\n",
      " [1.420e+00 1.072e+01 8.615e+01]]\n",
      "Coeficientes ajustados: [10.44550189 61.46602244 -4.9496809 ]\n",
      "Valor de χ²: 1.3682280749632847\n"
     ]
    }
   ],
   "source": [
    "# Ejemplo de funciones base para un ajuste cuadrático\n",
    "def quadratic_basis(x):\n",
    "    return np.array([1, x, x**2])\n",
    "\n",
    "# Datos de ejemplo\n",
    "x_data = datos.tiempo\n",
    "y_data = datos.altura\n",
    "\n",
    "N = len(datos); sigma_0 = sigma_\n",
    "sigma_data = np.array(N*[sigma_])\n",
    "\n",
    "# Llamada a la función de ajuste\n",
    "a, chi2 = fit_least_squares(x_data, y_data, sigma_data, quadratic_basis)\n",
    "\n",
    "print(\"Coeficientes ajustados:\", a)\n",
    "print(\"Valor de χ²:\", chi2)\n"
   ]
  },
  {
   "cell_type": "markdown",
   "id": "12a99bbe-63e3-40eb-8f6f-6f51df43b2aa",
   "metadata": {},
   "source": [
    "#### **Mínimos cuadrados para sumas de funciones**"
   ]
  },
  {
   "cell_type": "markdown",
   "id": "5c34cd50-8a5e-4040-929a-40f9139b208d",
   "metadata": {},
   "source": [
    "Para datos $(t_j, y_j)$, $1 \\le j \\le m$ queremos ajustar una función del tipo \n",
    "$$\n",
    "y = c_1 f_1(t) + \\dots + c_s f_s(t)\n",
    "$$\n",
    "\n",
    "Ejemplo: $y = a + b t + c t^2$.\n",
    "\n",
    "RECORDAR: reemplazando los valores de $t$ e $y$ por los datos en la tabla obtenemos un sistema **lineal** de ecuaciones, donde las incógnitas son los $c_i$:\n",
    "\n",
    "$$\n",
    "\\begin{align}\n",
    "y_1 &= c_1 f_1(t_1) + \\dots + c_s f_s(t_1) \\\\\n",
    "&\\vdots\\\\\n",
    "y_m &= c_1 f_1(t_m) + \\dots + c_s f_s(t_m)\n",
    "\\end{align}\n",
    "$$\n",
    "\n",
    "Cuando tenemos más datos (ecuaciones) que incógnitas, usamos mínimos cuadrados para obtener una solución aproximada.\n",
    "\n"
   ]
  },
  {
   "cell_type": "markdown",
   "id": "5209986c-3aa4-4dbd-b444-9015fbd0b1ff",
   "metadata": {},
   "source": [
    "#### Problema\n",
    "Ajustar por mínimos cuadrados una función del tipo\n",
    "$$\n",
    "y = c_1 t^2 + c_2 e^t + c_3 t\n",
    "$$\n",
    "a los datos\n",
    "\n",
    "|t|1|2|4|6|8|\n",
    "| --- | --- | --- | --- | --- | --- |\n",
    "|y|6|10|10|8|10|"
   ]
  },
  {
   "cell_type": "code",
   "execution_count": 10,
   "id": "bbdad9c8-b66c-4330-a0f5-24dae28f2de8",
   "metadata": {},
   "outputs": [],
   "source": [
    "# Vectores de datos\n",
    "ti = np.array([1, 2, 4, 6, 8])\n",
    "yi = np.array([6, 10, 10, 8, 10])\n",
    "\n",
    "# a) Definimos las funciones\n",
    "def f1(t):\n",
    "    return(t**2)\n",
    "\n",
    "def f2(t):\n",
    "    return(np.e**t)\n",
    "\n",
    "def f3(t):\n",
    "    return(t)"
   ]
  },
  {
   "cell_type": "markdown",
   "id": "cf0b66ba-e606-48f6-a1f7-d1b09514d13c",
   "metadata": {},
   "source": [
    "**Ejercicios**\n",
    "1. Construir la matriz A a partir de la ecuación de y\n",
    "2. Econtrar por mínimos cuadrados los coeficientes $$c_1, c_2, c_3$$\n",
    "3. Verificar gráficamente imprimiendo los puntos (t,y) y la función contínua obtenida por los mínimos cuadrados.\n"
   ]
  },
  {
   "cell_type": "markdown",
   "id": "c399ccef-9c78-467a-bc64-0fe4fb1cab68",
   "metadata": {},
   "source": [
    "#### Para profundizar:\n",
    "\n",
    " - Estimacion de incertezas en ajuste por Bootstrap (/ Montecarlo)\n"
   ]
  },
  {
   "cell_type": "markdown",
   "id": "cd849f73",
   "metadata": {},
   "source": [
    "### 4. **Mas Ejemplos: Producto Interno, Regresión Lineal en Economía**\n",
    "\n",
    "#### Ajuste de funciones en espacios con producto interno.\n",
    "\n",
    "- ¿Cómo definirías el producto interno entre dos funciones en un intervalo dado?\n",
    "\n",
    "- ¿Por qué es útil el producto interno en el ajuste de funciones como sin(x) usando una combinación de funciones polinómicas?\n",
    "\n",
    "- ¿Qué interpretas de los residuales al ajustar sin(x) con un polinomio de orden bajo en un intervalo específico?"
   ]
  },
  {
   "cell_type": "code",
   "execution_count": 77,
   "id": "1c9ec360",
   "metadata": {},
   "outputs": [
    {
     "name": "stdout",
     "output_type": "stream",
     "text": [
      "Coeficientes: c1 = 0.99998 , c2 = -0.16652 , c3 = 0.00802\n"
     ]
    }
   ],
   "source": [
    "import numpy as np\n",
    "from scipy.integrate import quad\n",
    "\n",
    "# Definimos el producto interno entre dos funciones en un intervalo dado\n",
    "def producto_interno(f, g, a, b):\n",
    "    integrand = lambda x: f(x) * g(x)\n",
    "    result, _ = quad(integrand, a, b)  # Integración numérica en el intervalo [a, b]\n",
    "    return result\n",
    "\n",
    "# Opcion B:\n",
    "# Definimos el producto interno entre dos funciones usando un promedio en puntos discretos en el intervalo\n",
    "def producto_interno_discreto(f, g, a, b, num_puntos=1000):\n",
    "    x_vals = np.linspace(a, b, num_puntos)  # Generamos puntos en el intervalo [a, b]\n",
    "    productos = f(x_vals) * g(x_vals)       # Calculamos el producto de las dos funciones en cada punto\n",
    "    promedio_producto = np.mean(productos)  # Promediamos el producto\n",
    "    return promedio_producto * (b - a)      # Multiplicamos por la longitud del intervalo\n",
    "\n",
    "\n",
    "## Podriamos reemplazar esta función con un producto interno con un valor medio del producto de las dos funciones, en un linspace con suficientes puntos?\n",
    "\n",
    "# Definimos las funciones base\n",
    "def g1(x):\n",
    "    return x\n",
    "\n",
    "def g2(x):\n",
    "    return x**3\n",
    "\n",
    "def g3(x):\n",
    "    return x**5\n",
    "\n",
    "# Definimos la función f(x) = sin(x) que queremos aproximar\n",
    "def f(x):\n",
    "    return np.sin(x)\n",
    "\n",
    "# Limites del intervalo\n",
    "a, b = -1, 1\n",
    "\n",
    "# Creamos la matriz de diseño usando el producto interno\n",
    "A = np.array([\n",
    "    [producto_interno(g1, g1, a, b), producto_interno(g1, g2, a, b), producto_interno(g1, g3, a, b)],\n",
    "    [producto_interno(g2, g1, a, b), producto_interno(g2, g2, a, b), producto_interno(g2, g3, a, b)],\n",
    "    [producto_interno(g3, g1, a, b), producto_interno(g3, g2, a, b), producto_interno(g3, g3, a, b)]\n",
    "])\n",
    "\n",
    "# Creamos el vector de términos independientes\n",
    "B = np.array([\n",
    "    producto_interno(f, g1, a, b),\n",
    "    producto_interno(f, g2, a, b),\n",
    "    producto_interno(f, g3, a, b)\n",
    "])\n",
    "\n",
    "# Resolución del sistema de ecuaciones normales para obtener los coeficientes c1, c2, c3\n",
    "coeficientes = np.linalg.solve(A, B)\n",
    "\n",
    "# Imprimimos los coeficientes encontrados\n",
    "print(\"Coeficientes: c1 =\", coeficientes[0].round(5),\n",
    "       \", c2 =\", coeficientes[1].round(5), \n",
    "       \", c3 =\", coeficientes[2].round(5))\n"
   ]
  },
  {
   "cell_type": "code",
   "execution_count": 78,
   "id": "d5492fdf",
   "metadata": {},
   "outputs": [
    {
     "data": {
      "image/png": "[encoded data removed]",
      "text/plain": [
       "<Figure size 800x600 with 1 Axes>"
      ]
     },
     "metadata": {},
     "output_type": "display_data"
    }
   ],
   "source": [
    "import matplotlib.pyplot as plt\n",
    "\n",
    "# Definimos el polinomio ajustado usando los coeficientes obtenidos\n",
    "def polinomio_aproximado(x):\n",
    "    return coeficientes[0] * g1(x) + coeficientes[1] * g2(x) + coeficientes[2] * g3(x)\n",
    "\n",
    "# Generamos valores de x en el intervalo [-1, 1] para graficar\n",
    "x_vals = np.linspace(a, b, 100)\n",
    "y_original = np.sin(x_vals)\n",
    "y_ajuste = polinomio_aproximado(x_vals)\n",
    "\n",
    "# Graficamos la función original y el ajuste\n",
    "plt.figure(figsize=(8, 6))\n",
    "plt.plot(x_vals, y_original, label=\"Función original: $\\\\sin(x)$\", color=\"blue\")\n",
    "plt.plot(x_vals, y_ajuste, label=\"Ajuste cuadrático\", color=\"red\", linestyle=\"--\")\n",
    "plt.xlabel(\"x\")\n",
    "plt.ylabel(\"y\")\n",
    "plt.title(\"Ajuste de mínimos cuadrados de $\\\\sin(x)$ en el intervalo [-1, 1]\")\n",
    "plt.legend()\n",
    "plt.grid(True)\n",
    "plt.show()\n"
   ]
  },
  {
   "cell_type": "code",
   "execution_count": 82,
   "id": "11335c7c",
   "metadata": {},
   "outputs": [
    {
     "data": {
      "image/png": "[encoded data removed]",
      "text/plain": [
       "<Figure size 800x600 with 1 Axes>"
      ]
     },
     "metadata": {},
     "output_type": "display_data"
    }
   ],
   "source": [
    "\n",
    "# Graficamos la función original y el ajuste\n",
    "plt.figure(figsize=(8, 6))\n",
    "plt.plot(x_vals, y_original - y_ajuste, label=\"Residual\", marker = '.', color=\"red\")\n",
    "# plt.plot(x_vals, y_ajuste, label=\"Ajuste cuadrático\", color=\"red\", linestyle=\"--\")\n",
    "plt.xlabel(\"x\")\n",
    "plt.ylabel(\"y\")\n",
    "plt.title(\"Residuales de ajustar $\\\\sin(x)$ en el intervalo [-1, 1]\")\n",
    "plt.legend()\n",
    "plt.grid(True)\n",
    "plt.show()"
   ]
  },
  {
   "cell_type": "markdown",
   "id": "bc8b8f35",
   "metadata": {},
   "source": [
    "\n",
    "#### 4. **Regresión Lineal en Economía**\n",
    "\n",
    "- ¿Qué podemos concluir sobre la bondad de ajuste a partir de los valores de R2 y Adj. R2 en el resumen de la regresión?\n",
    "\n",
    "- ¿Cómo interpretas el p-value de cada coeficiente en términos de su significancia estadística?\n",
    "\n",
    "- ¿Cuáles podrían ser las consecuencias de la multicolinealidad entre los predictores?\n",
    "\n",
    "- ¿Qué predictor parece tener la mayor influencia en el valor de la casa según el coeficiente estimado?\n",
    "\n",
    "La regresion debajo esta hecha con un dataset (california housing) con sus datos sin procesar. Analizar los datos y la regresion.\n",
    "\n",
    "#### Mejorar el Modelo:\n",
    "   - **Mejorar el R-cuadrado**: Para explicar más la variabilidad, busca predictores que capturen aspectos adicionales del valor de la vivienda o hacer ingeniería de características (feature engineering) sobre las variables existentes.\n",
    "   - **Eliminar Predictores No Relevantes**: `Population` podría ser reconsiderada ya que tiene un valor p alto, lo que indica que puede no aportar mucho al modelo.\n",
    "   - **Abordar la Multicolinealidad**: Reducir la multicolinealidad eliminando o combinando variables altamente correlacionadas, o aplicar técnicas de regularización.\n",
    "   - **Normalidad de los Residuales**: Considerar transformar las variables o utilizar una especificación de modelo diferente si la normalidad de los residuales es crucial para análisis adicionales.\n"
   ]
  },
  {
   "cell_type": "code",
   "execution_count": 83,
   "id": "823c3b4f",
   "metadata": {},
   "outputs": [
    {
     "name": "stdout",
     "output_type": "stream",
     "text": [
      "Requirement already satisfied: statsmodels in /home/matias/anaconda3/envs/base2/lib/python3.11/site-packages (0.14.0)\n",
      "Requirement already satisfied: scikit-learn in /home/matias/anaconda3/envs/base2/lib/python3.11/site-packages (1.3.0)\n",
      "Requirement already satisfied: pandas in /home/matias/anaconda3/envs/base2/lib/python3.11/site-packages (2.2.2)\n",
      "Requirement already satisfied: numpy>=1.18 in /home/matias/anaconda3/envs/base2/lib/python3.11/site-packages (from statsmodels) (1.26.4)\n",
      "Requirement already satisfied: scipy!=1.9.2,>=1.4 in /home/matias/anaconda3/envs/base2/lib/python3.11/site-packages (from statsmodels) (1.10.1)\n",
      "Requirement already satisfied: patsy>=0.5.2 in /home/matias/anaconda3/envs/base2/lib/python3.11/site-packages (from statsmodels) (0.5.3)\n",
      "Requirement already satisfied: packaging>=21.3 in /home/matias/anaconda3/envs/base2/lib/python3.11/site-packages (from statsmodels) (23.1)\n",
      "Requirement already satisfied: joblib>=1.1.1 in /home/matias/anaconda3/envs/base2/lib/python3.11/site-packages (from scikit-learn) (1.3.1)\n",
      "Requirement already satisfied: threadpoolctl>=2.0.0 in /home/matias/anaconda3/envs/base2/lib/python3.11/site-packages (from scikit-learn) (3.2.0)\n",
      "Requirement already satisfied: python-dateutil>=2.8.2 in /home/matias/anaconda3/envs/base2/lib/python3.11/site-packages (from pandas) (2.8.2)\n",
      "Requirement already satisfied: pytz>=2020.1 in /home/matias/anaconda3/envs/base2/lib/python3.11/site-packages (from pandas) (2023.3)\n",
      "Requirement already satisfied: tzdata>=2022.7 in /home/matias/anaconda3/envs/base2/lib/python3.11/site-packages (from pandas) (2023.3)\n",
      "Requirement already satisfied: six in /home/matias/anaconda3/envs/base2/lib/python3.11/site-packages (from patsy>=0.5.2->statsmodels) (1.16.0)\n",
      "Note: you may need to restart the kernel to use updated packages.\n"
     ]
    }
   ],
   "source": [
    "pip install statsmodels scikit-learn pandas"
   ]
  },
  {
   "cell_type": "code",
   "execution_count": 85,
   "id": "6d7f88b1",
   "metadata": {},
   "outputs": [
    {
     "data": {
      "text/html": [
       "<div>\n",
       "<style scoped>\n",
       "    .dataframe tbody tr th:only-of-type {\n",
       "        vertical-align: middle;\n",
       "    }\n",
       "\n",
       "    .dataframe tbody tr th {\n",
       "        vertical-align: top;\n",
       "    }\n",
       "\n",
       "    .dataframe thead th {\n",
       "        text-align: right;\n",
       "    }\n",
       "</style>\n",
       "<table border=\"1\" class=\"dataframe\">\n",
       "  <thead>\n",
       "    <tr style=\"text-align: right;\">\n",
       "      <th></th>\n",
       "      <th>MedInc</th>\n",
       "      <th>HouseAge</th>\n",
       "      <th>AveRooms</th>\n",
       "      <th>AveBedrms</th>\n",
       "      <th>Population</th>\n",
       "      <th>AveOccup</th>\n",
       "      <th>Latitude</th>\n",
       "      <th>Longitude</th>\n",
       "      <th>MedHouseVal</th>\n",
       "    </tr>\n",
       "  </thead>\n",
       "  <tbody>\n",
       "    <tr>\n",
       "      <th>0</th>\n",
       "      <td>8.3252</td>\n",
       "      <td>41.0</td>\n",
       "      <td>6.984127</td>\n",
       "      <td>1.023810</td>\n",
       "      <td>322.0</td>\n",
       "      <td>2.555556</td>\n",
       "      <td>37.88</td>\n",
       "      <td>-122.23</td>\n",
       "      <td>4.526</td>\n",
       "    </tr>\n",
       "    <tr>\n",
       "      <th>1</th>\n",
       "      <td>8.3014</td>\n",
       "      <td>21.0</td>\n",
       "      <td>6.238137</td>\n",
       "      <td>0.971880</td>\n",
       "      <td>2401.0</td>\n",
       "      <td>2.109842</td>\n",
       "      <td>37.86</td>\n",
       "      <td>-122.22</td>\n",
       "      <td>3.585</td>\n",
       "    </tr>\n",
       "    <tr>\n",
       "      <th>2</th>\n",
       "      <td>7.2574</td>\n",
       "      <td>52.0</td>\n",
       "      <td>8.288136</td>\n",
       "      <td>1.073446</td>\n",
       "      <td>496.0</td>\n",
       "      <td>2.802260</td>\n",
       "      <td>37.85</td>\n",
       "      <td>-122.24</td>\n",
       "      <td>3.521</td>\n",
       "    </tr>\n",
       "    <tr>\n",
       "      <th>3</th>\n",
       "      <td>5.6431</td>\n",
       "      <td>52.0</td>\n",
       "      <td>5.817352</td>\n",
       "      <td>1.073059</td>\n",
       "      <td>558.0</td>\n",
       "      <td>2.547945</td>\n",
       "      <td>37.85</td>\n",
       "      <td>-122.25</td>\n",
       "      <td>3.413</td>\n",
       "    </tr>\n",
       "    <tr>\n",
       "      <th>4</th>\n",
       "      <td>3.8462</td>\n",
       "      <td>52.0</td>\n",
       "      <td>6.281853</td>\n",
       "      <td>1.081081</td>\n",
       "      <td>565.0</td>\n",
       "      <td>2.181467</td>\n",
       "      <td>37.85</td>\n",
       "      <td>-122.25</td>\n",
       "      <td>3.422</td>\n",
       "    </tr>\n",
       "  </tbody>\n",
       "</table>\n",
       "</div>"
      ],
      "text/plain": [
       "   MedInc  HouseAge  AveRooms  AveBedrms  Population  AveOccup  Latitude  \\\n",
       "0  8.3252      41.0  6.984127   1.023810       322.0  2.555556     37.88   \n",
       "1  8.3014      21.0  6.238137   0.971880      2401.0  2.109842     37.86   \n",
       "2  7.2574      52.0  8.288136   1.073446       496.0  2.802260     37.85   \n",
       "3  5.6431      52.0  5.817352   1.073059       558.0  2.547945     37.85   \n",
       "4  3.8462      52.0  6.281853   1.081081       565.0  2.181467     37.85   \n",
       "\n",
       "   Longitude  MedHouseVal  \n",
       "0    -122.23        4.526  \n",
       "1    -122.22        3.585  \n",
       "2    -122.24        3.521  \n",
       "3    -122.25        3.413  \n",
       "4    -122.25        3.422  "
      ]
     },
     "metadata": {},
     "output_type": "display_data"
    },
    {
     "name": "stdout",
     "output_type": "stream",
     "text": [
      "                            OLS Regression Results                            \n",
      "==============================================================================\n",
      "Dep. Variable:            MedHouseVal   R-squared:                       0.606\n",
      "Model:                            OLS   Adj. R-squared:                  0.606\n",
      "Method:                 Least Squares   F-statistic:                     3970.\n",
      "Date:                Thu, 07 Nov 2024   Prob (F-statistic):               0.00\n",
      "Time:                        15:40:12   Log-Likelihood:                -22624.\n",
      "No. Observations:               20640   AIC:                         4.527e+04\n",
      "Df Residuals:                   20631   BIC:                         4.534e+04\n",
      "Df Model:                           8                                         \n",
      "Covariance Type:            nonrobust                                         \n",
      "==============================================================================\n",
      "                 coef    std err          t      P>|t|      [0.025      0.975]\n",
      "------------------------------------------------------------------------------\n",
      "const        -36.9419      0.659    -56.067      0.000     -38.233     -35.650\n",
      "MedInc         0.4367      0.004    104.054      0.000       0.428       0.445\n",
      "HouseAge       0.0094      0.000     21.143      0.000       0.009       0.010\n",
      "AveRooms      -0.1073      0.006    -18.235      0.000      -0.119      -0.096\n",
      "AveBedrms      0.6451      0.028     22.928      0.000       0.590       0.700\n",
      "Population -3.976e-06   4.75e-06     -0.837      0.402   -1.33e-05    5.33e-06\n",
      "AveOccup      -0.0038      0.000     -7.769      0.000      -0.005      -0.003\n",
      "Latitude      -0.4213      0.007    -58.541      0.000      -0.435      -0.407\n",
      "Longitude     -0.4345      0.008    -57.682      0.000      -0.449      -0.420\n",
      "==============================================================================\n",
      "Omnibus:                     4393.650   Durbin-Watson:                   0.885\n",
      "Prob(Omnibus):                  0.000   Jarque-Bera (JB):            14087.596\n",
      "Skew:                           1.082   Prob(JB):                         0.00\n",
      "Kurtosis:                       6.420   Cond. No.                     2.38e+05\n",
      "==============================================================================\n",
      "\n",
      "Notes:\n",
      "[1] Standard Errors assume that the covariance matrix of the errors is correctly specified.\n",
      "[2] The condition number is large, 2.38e+05. This might indicate that there are\n",
      "strong multicollinearity or other numerical problems.\n"
     ]
    }
   ],
   "source": [
    "import pandas as pd\n",
    "import numpy as np\n",
    "import statsmodels.api as sm\n",
    "from sklearn.datasets import fetch_california_housing\n",
    "\n",
    "# California Housing dataset\n",
    "data = fetch_california_housing(as_frame=True)\n",
    "df = data.frame\n",
    "\n",
    "# Display head\n",
    "display(df.head())\n",
    "\n",
    "# Definir variables dependientes e independientes\n",
    "# Target variable: Median House Value\n",
    "# Predictors: Average Income, Average House Age, and more\n",
    "\n",
    "X = df[['MedInc', 'HouseAge', 'AveRooms', 'AveBedrms', 'Population', 'AveOccup', 'Latitude', 'Longitude']]\n",
    "y = df['MedHouseVal']\n",
    "\n",
    "# Add a constant term to the predictor variables (intercept)\n",
    "X = sm.add_constant(X)\n",
    "\n",
    "# Fit the regression model using Ordinary Least Squares (OLS)\n",
    "model = sm.OLS(y, X)\n",
    "results = model.fit()\n",
    "\n",
    "# Display the summary table of regression results\n",
    "print(results.summary())\n"
   ]
  },
  {
   "cell_type": "markdown",
   "id": "2ce276ed",
   "metadata": {},
   "source": [
    "\n",
    "**Calidad del Ajuste (R-cuadrado y R-cuadrado Ajustado)**\n",
    "   - **R-cuadrado**: 0.606. Esto significa que aproximadamente el 60.6% de la variabilidad en la variable dependiente (`MedHouseVal`) es explicada por las variables independientes en el modelo. Un 60.6% representa un ajuste moderado, hay espacio para mejorar en su poder predictivo.\n",
    "\n",
    "**Significancia Estadística de los Predictores**\n",
    "   - La mayoría de los predictores tienen un valor **P>|t|** de 0.000, lo que indica que son estadísticamente significativos a niveles de confianza típicos (por ejemplo, 95%).\n",
    "   - **Population** es el único predictor con un valor p elevado (0.402), lo que sugiere que no es estadísticamente significativo para predecir `MedHouseVal`. Esto podría indicar que `Population` podría excluirse del modelo para simplificarlo sin perder poder predictivo. O bien, considerar una transformacion de la variable.\n",
    "\n",
    "**Coeficientes e Interpretaciones**\n",
    "   - El modelo incluye una variedad de predictores, y los **coeficientes** muestran el cambio esperado en `MedHouseVal` por un cambio unitario en cada predictor, manteniendo constantes las demás variables.\n",
    "   - **MedInc (Ingreso Medio)** tiene un coeficiente positivo (0.4367), lo que significa que un mayor ingreso está asociado con valores de vivienda más altos. Esto tiene sentido intuitivo.\n",
    "   - **HouseAge** y **Latitude** también tienen coeficientes positivos, sugiriendo una relación directa con `MedHouseVal`.\n",
    "   - **AveRooms** tiene un coeficiente negativo (-0.1073), lo cual puede parecer contradictorio inicialmente, pero podría estar capturando una relación más compleja donde las casas con menos habitaciones tienen un valor más alto debido a factores que no están incluidos en el modelo.\n",
    "   - **Longitude** y **AveOccup** también tienen efectos negativos significativos en `MedHouseVal`.\n",
    "\n",
    "**Multicolinealidad (Número de Condición)**\n",
    "   - El **número de condición** es muy alto (2.38e+05), lo que indica posibles problemas de multicolinealidad. Esto sugiere que algunos de los predictores pueden estar altamente correlacionados entre sí, lo cual puede hacer que las estimaciones de los coeficientes sean poco fiables. Un número de condición elevado puede indicar que el modelo podría beneficiarse eliminando o combinando variables correlacionadas.\n",
    "\n",
    "**Estadísticas de Bondad de Ajuste**\n",
    "   - **F-estadístico** y **Prob (F-estadístico)**: El F-estadístico (3970) y su valor p asociado de 0.000 indican que el modelo general es estadísticamente significativo, es decir, al menos uno de los predictores está significativamente relacionado con `MedHouseVal`.\n",
    "   - **AIC y BIC**: Tanto el AIC (4.527e+04) como el BIC (4.534e+04) son medidas de bondad de ajuste que penalizan por el número de predictores. Valores más bajos generalmente indican un mejor ajuste. Estas métricas pueden ser útiles para comparar el modelo con otras alternativas.\n",
    "\n",
    "**Diagnóstico de los Residuales**\n",
    "   - **Omnibus, Prob(Omnibus), Skew, Kurtosis**: Estos valores indican posibles problemas con los residuales. Idealmente, los residuales deberían distribuirse normalmente. Los valores p significativos (0.000 para Omnibus y Jarque-Bera) y los valores de sesgo (skew) y curtosis distintos de cero sugieren que los residuales no son perfectamente normales, lo cual podría afectar la validez de las pruebas estadísticas en los coeficientes.\n",
    "   - **Durbin-Watson**: El estadístico de Durbin-Watson es 0.885, menor que 2, lo que indica algo de autocorrelación positiva en los residuales. Esto es importante, especialmente si los datos tienen una estructura temporal o espacial.\n"
   ]
  },
  {
   "cell_type": "code",
   "execution_count": null,
   "id": "209ece50",
   "metadata": {},
   "outputs": [],
   "source": []
  }
 ],
 "metadata": {
  "kernelspec": {
   "display_name": "Python 3 (ipykernel)",
   "language": "python",
   "name": "python3"
  },
  "language_info": {
   "codemirror_mode": {
    "name": "ipython",
    "version": 3
   },
   "file_extension": ".py",
   "mimetype": "text/x-python",
   "name": "python",
   "nbconvert_exporter": "python",
   "pygments_lexer": "ipython3",
   "version": "3.11.3"
  }
 },
 "nbformat": 4,
 "nbformat_minor": 5
}

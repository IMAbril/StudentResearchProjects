{
 "cells": [
  {
   "cell_type": "markdown",
   "id": "3764451a-4727-4e28-8e6a-b32ab9712f4c",
   "metadata": {},
   "source": [
    "# Guía 4: Autovalores y autovectores"
   ]
  },
  {
   "cell_type": "code",
   "execution_count": 2,
   "id": "9f68dc69-65c7-4e2f-8b9b-2e75bc717176",
   "metadata": {},
   "outputs": [],
   "source": [
    "import numpy as np\n",
    "import sympy as sp\n",
    "from sympy import *\n"
   ]
  },
  {
   "cell_type": "markdown",
   "id": "a3f75c28-7b43-4fd8-9aec-96f4ea3498a6",
   "metadata": {},
   "source": [
    "## Ejercicio 1"
   ]
  },
  {
   "cell_type": "markdown",
   "id": "f2ec7a0d-6080-4c23-abee-d43574d081f2",
   "metadata": {},
   "source": [
    "Calcular el polinomio caracterı́stico, los autovalores y los autovectores de la matriz $A$ en cada uno de los siguientes casos (analizar por separado los casos $\\mathbb{K} = \\mathbb{R}$ y $\\mathbb{K} = \\mathbb{C}$)"
   ]
  },
  {
   "cell_type": "code",
   "execution_count": 5,
   "id": "b6785500-9b22-40b9-8b25-8f5eda6be348",
   "metadata": {},
   "outputs": [
    {
     "data": {
      "text/latex": [
       "$\\displaystyle \\left[\\begin{matrix}0 & a\\\\- a & 0\\end{matrix}\\right]$"
      ],
      "text/plain": [
       "Matrix([\n",
       "[ 0, a],\n",
       "[-a, 0]])"
      ]
     },
     "metadata": {},
     "output_type": "display_data"
    },
    {
     "data": {
      "text/latex": [
       "$\\displaystyle \\operatorname{PurePoly}{\\left( \\lambda^{2} + a^{2}, \\lambda, domain=\\mathbb{Z}\\left[a\\right] \\right)}$"
      ],
      "text/plain": [
       "PurePoly(lambda**2 + a**2, lambda, domain='ZZ[a]')"
      ]
     },
     "metadata": {},
     "output_type": "display_data"
    },
    {
     "data": {
      "text/plain": [
       "[(-I*a,\n",
       "  1,\n",
       "  [Matrix([\n",
       "   [I],\n",
       "   [1]])]),\n",
       " (I*a,\n",
       "  1,\n",
       "  [Matrix([\n",
       "   [-I],\n",
       "   [ 1]])])]"
      ]
     },
     "metadata": {},
     "output_type": "display_data"
    }
   ],
   "source": [
    "#a)\n",
    "a, lamda = symbols('a lambda')\n",
    "\n",
    "A= Matrix([[0,a],[-a,0]])\n",
    "caracteristico = A.charpoly(lamda)\n",
    "autovectores = A.eigenvects()\n",
    "\n",
    "display(A)\n",
    "display(caracteristico)\n",
    "display(autovectores)"
   ]
  },
  {
   "cell_type": "code",
   "execution_count": 6,
   "id": "787b3ae2-e5e3-45cd-9359-c4690cbe905e",
   "metadata": {},
   "outputs": [
    {
     "data": {
      "text/latex": [
       "$\\displaystyle \\left[\\begin{matrix}0 & 2 & 1\\\\-2 & 0 & 2\\\\-1 & -2 & 0\\end{matrix}\\right]$"
      ],
      "text/plain": [
       "Matrix([\n",
       "[ 0,  2, 1],\n",
       "[-2,  0, 2],\n",
       "[-1, -2, 0]])"
      ]
     },
     "metadata": {},
     "output_type": "display_data"
    },
    {
     "data": {
      "text/latex": [
       "$\\displaystyle \\operatorname{PurePoly}{\\left( \\lambda^{3} + 9 \\lambda, \\lambda, domain=\\mathbb{Z} \\right)}$"
      ],
      "text/plain": [
       "PurePoly(lambda**3 + 9*lambda, lambda, domain='ZZ')"
      ]
     },
     "metadata": {},
     "output_type": "display_data"
    },
    {
     "data": {
      "text/plain": [
       "[(0,\n",
       "  1,\n",
       "  [Matrix([\n",
       "   [   1],\n",
       "   [-1/2],\n",
       "   [   1]])]),\n",
       " (-3*I,\n",
       "  1,\n",
       "  [Matrix([\n",
       "   [-4/5 + 3*I/5],\n",
       "   [ 2/5 + 6*I/5],\n",
       "   [           1]])]),\n",
       " (3*I,\n",
       "  1,\n",
       "  [Matrix([\n",
       "   [-4/5 - 3*I/5],\n",
       "   [ 2/5 - 6*I/5],\n",
       "   [           1]])])]"
      ]
     },
     "metadata": {},
     "output_type": "display_data"
    }
   ],
   "source": [
    "#b)\n",
    "A= Matrix([[0,2,1],[-2,0,2],[-1,-2,0]])\n",
    "caracteristico = A.charpoly(lamda)\n",
    "autovectores = A.eigenvects()\n",
    "\n",
    "display(A)\n",
    "display(caracteristico)\n",
    "display(autovectores)"
   ]
  },
  {
   "cell_type": "code",
   "execution_count": 7,
   "id": "36da94c8-13b0-4505-81e1-9f246c187bf4",
   "metadata": {},
   "outputs": [
    {
     "data": {
      "text/latex": [
       "$\\displaystyle \\left[\\begin{matrix}3 & 1 & 0\\\\-4 & -1 & 0\\\\4 & -8 & -2\\end{matrix}\\right]$"
      ],
      "text/plain": [
       "Matrix([\n",
       "[ 3,  1,  0],\n",
       "[-4, -1,  0],\n",
       "[ 4, -8, -2]])"
      ]
     },
     "metadata": {},
     "output_type": "display_data"
    },
    {
     "data": {
      "text/latex": [
       "$\\displaystyle \\operatorname{PurePoly}{\\left( \\lambda^{3} - 3 \\lambda + 2, \\lambda, domain=\\mathbb{Z} \\right)}$"
      ],
      "text/plain": [
       "PurePoly(lambda**3 - 3*lambda + 2, lambda, domain='ZZ')"
      ]
     },
     "metadata": {},
     "output_type": "display_data"
    },
    {
     "data": {
      "text/plain": [
       "[(-2,\n",
       "  1,\n",
       "  [Matrix([\n",
       "   [0],\n",
       "   [0],\n",
       "   [1]])]),\n",
       " (1,\n",
       "  2,\n",
       "  [Matrix([\n",
       "   [ 3/20],\n",
       "   [-3/10],\n",
       "   [    1]])])]"
      ]
     },
     "metadata": {},
     "output_type": "display_data"
    }
   ],
   "source": [
    "#c)\n",
    "A= Matrix([[3,1,0],[-4,-1,0],[4,-8,-2]])\n",
    "caracteristico = A.charpoly(lamda)\n",
    "autovectores = A.eigenvects()\n",
    "\n",
    "display(A)\n",
    "display(caracteristico)\n",
    "display(autovectores)"
   ]
  },
  {
   "cell_type": "code",
   "execution_count": 8,
   "id": "23315961-1f53-4114-baf7-a458901e5024",
   "metadata": {},
   "outputs": [
    {
     "data": {
      "text/latex": [
       "$\\displaystyle \\left[\\begin{matrix}a & 1 & 1\\\\1 & a & 1\\\\1 & 1 & a\\end{matrix}\\right]$"
      ],
      "text/plain": [
       "Matrix([\n",
       "[a, 1, 1],\n",
       "[1, a, 1],\n",
       "[1, 1, a]])"
      ]
     },
     "metadata": {},
     "output_type": "display_data"
    },
    {
     "data": {
      "text/latex": [
       "$\\displaystyle \\operatorname{PurePoly}{\\left( \\lambda^{3} -  3 a \\lambda^{2} + \\left(3 a^{2} - 3\\right) \\lambda -  a^{3} + 3 a - 2, \\lambda, domain=\\mathbb{Z}\\left[a\\right] \\right)}$"
      ],
      "text/plain": [
       "PurePoly(lambda**3 - 3*a*lambda**2 + (3*a**2 - 3)*lambda - a**3 + 3*a - 2, lambda, domain='ZZ[a]')"
      ]
     },
     "metadata": {},
     "output_type": "display_data"
    },
    {
     "data": {
      "text/plain": [
       "[(a - 1,\n",
       "  2,\n",
       "  [Matrix([\n",
       "   [-1],\n",
       "   [ 1],\n",
       "   [ 0]]),\n",
       "   Matrix([\n",
       "   [-1],\n",
       "   [ 0],\n",
       "   [ 1]])]),\n",
       " (a + 2,\n",
       "  1,\n",
       "  [Matrix([\n",
       "   [1],\n",
       "   [1],\n",
       "   [1]])])]"
      ]
     },
     "metadata": {},
     "output_type": "display_data"
    }
   ],
   "source": [
    "#d)\n",
    "A= Matrix([[a,1,1],[1,a,1],[1,1,a]])\n",
    "caracteristico = A.charpoly(lamda)\n",
    "autovectores = A.eigenvects()\n",
    "\n",
    "display(A)\n",
    "display(caracteristico)\n",
    "display(autovectores)"
   ]
  },
  {
   "cell_type": "code",
   "execution_count": 9,
   "id": "5648e9c2-d4c1-4862-b5f4-31fcce59b162",
   "metadata": {},
   "outputs": [
    {
     "data": {
      "text/latex": [
       "$\\displaystyle \\left[\\begin{matrix}0 & 1 & 0 & 1\\\\1 & 0 & 1 & 0\\\\0 & 1 & 0 & 1\\\\1 & 0 & 1 & 0\\end{matrix}\\right]$"
      ],
      "text/plain": [
       "Matrix([\n",
       "[0, 1, 0, 1],\n",
       "[1, 0, 1, 0],\n",
       "[0, 1, 0, 1],\n",
       "[1, 0, 1, 0]])"
      ]
     },
     "metadata": {},
     "output_type": "display_data"
    },
    {
     "data": {
      "text/latex": [
       "$\\displaystyle \\operatorname{PurePoly}{\\left( \\lambda^{4} - 4 \\lambda^{2}, \\lambda, domain=\\mathbb{Z} \\right)}$"
      ],
      "text/plain": [
       "PurePoly(lambda**4 - 4*lambda**2, lambda, domain='ZZ')"
      ]
     },
     "metadata": {},
     "output_type": "display_data"
    },
    {
     "data": {
      "text/plain": [
       "[(-2,\n",
       "  1,\n",
       "  [Matrix([\n",
       "   [-1],\n",
       "   [ 1],\n",
       "   [-1],\n",
       "   [ 1]])]),\n",
       " (0,\n",
       "  2,\n",
       "  [Matrix([\n",
       "   [-1],\n",
       "   [ 0],\n",
       "   [ 1],\n",
       "   [ 0]]),\n",
       "   Matrix([\n",
       "   [ 0],\n",
       "   [-1],\n",
       "   [ 0],\n",
       "   [ 1]])]),\n",
       " (2,\n",
       "  1,\n",
       "  [Matrix([\n",
       "   [1],\n",
       "   [1],\n",
       "   [1],\n",
       "   [1]])])]"
      ]
     },
     "metadata": {},
     "output_type": "display_data"
    }
   ],
   "source": [
    "#e)\n",
    "A= Matrix([[0,1,0,1],[1,0,1,0],[0,1,0,1],[1,0,1,0]])\n",
    "caracteristico = A.charpoly(lamda)\n",
    "autovectores = A.eigenvects()\n",
    "\n",
    "display(A)\n",
    "display(caracteristico)\n",
    "display(autovectores)"
   ]
  },
  {
   "cell_type": "code",
   "execution_count": 10,
   "id": "6b857c29-4cdb-4ae1-9413-ca2ce46b68ba",
   "metadata": {},
   "outputs": [
    {
     "data": {
      "text/latex": [
       "$\\displaystyle \\left[\\begin{matrix}0 & 0 & 0 & 0\\\\1 & 0 & 0 & 0\\\\0 & 1 & 0 & 0\\\\0 & 0 & 0 & 1\\end{matrix}\\right]$"
      ],
      "text/plain": [
       "Matrix([\n",
       "[0, 0, 0, 0],\n",
       "[1, 0, 0, 0],\n",
       "[0, 1, 0, 0],\n",
       "[0, 0, 0, 1]])"
      ]
     },
     "metadata": {},
     "output_type": "display_data"
    },
    {
     "data": {
      "text/latex": [
       "$\\displaystyle \\operatorname{PurePoly}{\\left( \\lambda^{4} - \\lambda^{3}, \\lambda, domain=\\mathbb{Z} \\right)}$"
      ],
      "text/plain": [
       "PurePoly(lambda**4 - lambda**3, lambda, domain='ZZ')"
      ]
     },
     "metadata": {},
     "output_type": "display_data"
    },
    {
     "data": {
      "text/plain": [
       "[(0,\n",
       "  3,\n",
       "  [Matrix([\n",
       "   [0],\n",
       "   [0],\n",
       "   [1],\n",
       "   [0]])]),\n",
       " (1,\n",
       "  1,\n",
       "  [Matrix([\n",
       "   [0],\n",
       "   [0],\n",
       "   [0],\n",
       "   [1]])])]"
      ]
     },
     "metadata": {},
     "output_type": "display_data"
    }
   ],
   "source": [
    "#f)\n",
    "A= Matrix([[0,0,0,0],[1,0,0,0],[0,1,0,0],[0,0,0,1]])\n",
    "caracteristico = A.charpoly(lamda)\n",
    "autovectores = A.eigenvects()\n",
    "\n",
    "display(A)\n",
    "display(caracteristico)\n",
    "display(autovectores)"
   ]
  },
  {
   "cell_type": "markdown",
   "id": "178463fe-7b00-4816-8022-118afd3cb39e",
   "metadata": {},
   "source": [
    "## Ejercicio 2"
   ]
  },
  {
   "cell_type": "markdown",
   "id": "594dd0c9-c3c7-4a22-9c61-a9793f370e77",
   "metadata": {},
   "source": [
    "Para cada una de las matrices $A$ del ejercicio anterior, sea $f : \\mathbb{K}^n \\rightarrow \\mathbb{K}^n$ la tranformación lineal tal que $[f]_{\\mathcal{EE}} = A$. Decidir si es posible encontrar una base $\\mathcal{B}$ de $\\mathbb{K}^n$ tal que $[f]_{\\mathcal{BB}}$ sea diagonal. En caso afirmativo, calcular $C_{\\mathcal{BE}}$.\n",
    "\n",
    "Si $f$ es una transformación lineal dada en coordenadas de la base canónica $\\mathcal{E}$ por una matriz $A$, podemos obtener la matriz de la transformación lineal en una base $\\mathcal{B}$ (es decir que tanto el vector a transformar como el transformado estén expresados en coordenadas de la base $\\mathcal{B}$) aplicando el siguiente cambio de base a la matriz $A$: $A_{\\mathcal{B}}= C_{\\mathcal{EB}}AC_{\\mathcal{EB}}^{-1} = C_{\\mathcal{EB}}AC_{\\mathcal{BE}}$.\n",
    "\n",
    "Llamamos $C_{\\mathcal{BE}}$ a la matriz que nos permite pasar un vector en coordenadas de una base $\\mathcal{B}$ a la base canónica $\\mathcal{E}$. Esta matriz posee a los vectores de $\\mathcal{B}$ como columnas.\n",
    "\n",
    "Tanto $A$ como $A_{\\mathcal{B}}$ representan la misma transformación lineal pero expresada en distintas bases. En este caso decimos que las matrices son *semejantes*.\n",
    "\n",
    "Si $A$ es diagonalizable sabemos que es semejante a una matriz diagonal la cual es la matriz de la transformación lineal asociada a $A$ en la base de autovectores $\\mathcal{B}$: \n",
    "\n",
    "$A = [f]_{\\mathcal{EE}} = C_{\\mathcal{BE}}[f]_{\\mathcal{BB}}C_{\\mathcal{EB}} = C_{\\mathcal{BE}}DC_{\\mathcal{EB}}$."
   ]
  },
  {
   "cell_type": "code",
   "execution_count": 13,
   "id": "242078c4-4120-4269-83c2-690e8bcc88a7",
   "metadata": {
    "scrolled": true
   },
   "outputs": [
    {
     "name": "stdout",
     "output_type": "stream",
     "text": [
      "Matriz :\n"
     ]
    },
    {
     "data": {
      "text/latex": [
       "$\\displaystyle \\left[\\begin{matrix}0 & a\\\\- a & 0\\end{matrix}\\right]$"
      ],
      "text/plain": [
       "Matrix([\n",
       "[ 0, a],\n",
       "[-a, 0]])"
      ]
     },
     "metadata": {},
     "output_type": "display_data"
    },
    {
     "name": "stdout",
     "output_type": "stream",
     "text": [
      "Autovalores, multiplicidad y autovectores:\n"
     ]
    },
    {
     "data": {
      "text/plain": [
       "[(-I*a,\n",
       "  1,\n",
       "  [Matrix([\n",
       "   [I],\n",
       "   [1]])]),\n",
       " (I*a,\n",
       "  1,\n",
       "  [Matrix([\n",
       "   [-I],\n",
       "   [ 1]])])]"
      ]
     },
     "metadata": {},
     "output_type": "display_data"
    },
    {
     "name": "stdout",
     "output_type": "stream",
     "text": [
      "Matriz de cambio de base:\n"
     ]
    },
    {
     "data": {
      "text/latex": [
       "$\\displaystyle \\left[\\begin{matrix}i & - i\\\\1 & 1\\end{matrix}\\right]$"
      ],
      "text/plain": [
       "Matrix([\n",
       "[I, -I],\n",
       "[1,  1]])"
      ]
     },
     "metadata": {},
     "output_type": "display_data"
    },
    {
     "data": {
      "text/latex": [
       "$\\displaystyle \\left[\\begin{matrix}0 & a\\\\- a & 0\\end{matrix}\\right]$"
      ],
      "text/plain": [
       "Matrix([\n",
       "[ 0, a],\n",
       "[-a, 0]])"
      ]
     },
     "execution_count": 13,
     "metadata": {},
     "output_type": "execute_result"
    }
   ],
   "source": [
    "#a) \n",
    "A= Matrix([[0,a],[-a,0]])\n",
    "autovectores = A.eigenvects()\n",
    "print(\"Matriz :\")\n",
    "display(A)\n",
    "print(\"Autovalores, multiplicidad y autovectores:\")\n",
    "display(autovectores) \n",
    "\n",
    "#Los autovalores y autovectores son complejos y no tengo una base de autovectores en los reales-> no es diagonalizable en los reales.\n",
    "#Los autovalores y autovectores son complejos y tengo una base de autovectores en los complejos-> es diagonalizable en los complejos.\n",
    "autovectores = [autovectores[0][2][0],autovectores[1][2][0]]\n",
    "C_be = autovectores[0].row_join(autovectores[1])\n",
    "print(\"Matriz de cambio de base:\")\n",
    "display(C_be)\n",
    "\n",
    "\n",
    "#Verificación:\n",
    "C_eb = C_be.inv()\n",
    "\n",
    "(P,D) = A.diagonalize()\n",
    "\n",
    "C_be@D@C_eb"
   ]
  },
  {
   "cell_type": "code",
   "execution_count": 14,
   "id": "a490eef9-bd73-4803-a521-abd5cfdfbf44",
   "metadata": {},
   "outputs": [
    {
     "name": "stdout",
     "output_type": "stream",
     "text": [
      "Matriz :\n"
     ]
    },
    {
     "data": {
      "text/latex": [
       "$\\displaystyle \\left[\\begin{matrix}0 & 2 & 1\\\\-2 & 0 & 2\\\\-1 & -2 & 0\\end{matrix}\\right]$"
      ],
      "text/plain": [
       "Matrix([\n",
       "[ 0,  2, 1],\n",
       "[-2,  0, 2],\n",
       "[-1, -2, 0]])"
      ]
     },
     "metadata": {},
     "output_type": "display_data"
    },
    {
     "name": "stdout",
     "output_type": "stream",
     "text": [
      "Autovalores, multiplicidad y autovectores:\n"
     ]
    },
    {
     "data": {
      "text/plain": [
       "[(0,\n",
       "  1,\n",
       "  [Matrix([\n",
       "   [   1],\n",
       "   [-1/2],\n",
       "   [   1]])]),\n",
       " (-3*I,\n",
       "  1,\n",
       "  [Matrix([\n",
       "   [-4/5 + 3*I/5],\n",
       "   [ 2/5 + 6*I/5],\n",
       "   [           1]])]),\n",
       " (3*I,\n",
       "  1,\n",
       "  [Matrix([\n",
       "   [-4/5 - 3*I/5],\n",
       "   [ 2/5 - 6*I/5],\n",
       "   [           1]])])]"
      ]
     },
     "metadata": {},
     "output_type": "display_data"
    },
    {
     "name": "stdout",
     "output_type": "stream",
     "text": [
      "Matriz de cambio de base:\n"
     ]
    },
    {
     "data": {
      "text/latex": [
       "$\\displaystyle \\left[\\begin{matrix}1 & - \\frac{4}{5} + \\frac{3 i}{5} & - \\frac{4}{5} - \\frac{3 i}{5}\\\\- \\frac{1}{2} & \\frac{2}{5} + \\frac{6 i}{5} & \\frac{2}{5} - \\frac{6 i}{5}\\\\1 & 1 & 1\\end{matrix}\\right]$"
      ],
      "text/plain": [
       "Matrix([\n",
       "[   1, -4/5 + 3*I/5, -4/5 - 3*I/5],\n",
       "[-1/2,  2/5 + 6*I/5,  2/5 - 6*I/5],\n",
       "[   1,            1,            1]])"
      ]
     },
     "metadata": {},
     "output_type": "display_data"
    }
   ],
   "source": [
    "#b) \n",
    "A= Matrix([[0,2,1],[-2,0,2],[-1,-2,0]])\n",
    "autovectores = A.eigenvects()\n",
    "print(\"Matriz :\")\n",
    "display(A)\n",
    "print(\"Autovalores, multiplicidad y autovectores:\")\n",
    "display(autovectores) \n",
    "\n",
    "#Los autovalores y autovectores son complejos y no tengo una base de autovectores en los reales-> no es diagonalizable en los reales.\n",
    "#Los autovalores y autovectores son complejos y tengo una base de autovectores en los complejos-> es diagonalizable en los complejos.\n",
    "\n",
    "autovectores = [autovectores[0][2][0],autovectores[1][2][0],autovectores[2][2][0]]\n",
    "C_be = autovectores[0].row_join(autovectores[1]).row_join(autovectores[2])\n",
    "print(\"Matriz de cambio de base:\")\n",
    "display(C_be)\n"
   ]
  },
  {
   "cell_type": "code",
   "execution_count": 15,
   "id": "9a2af44a-6f78-462a-8fb5-259bbf5c2c6e",
   "metadata": {},
   "outputs": [
    {
     "name": "stdout",
     "output_type": "stream",
     "text": [
      "Matriz :\n"
     ]
    },
    {
     "data": {
      "text/latex": [
       "$\\displaystyle \\left[\\begin{matrix}3 & 1 & 0\\\\-4 & -1 & 0\\\\4 & -8 & -2\\end{matrix}\\right]$"
      ],
      "text/plain": [
       "Matrix([\n",
       "[ 3,  1,  0],\n",
       "[-4, -1,  0],\n",
       "[ 4, -8, -2]])"
      ]
     },
     "metadata": {},
     "output_type": "display_data"
    },
    {
     "name": "stdout",
     "output_type": "stream",
     "text": [
      "Autovalores, multiplicidad y autovectores:\n"
     ]
    },
    {
     "data": {
      "text/plain": [
       "[(-2,\n",
       "  1,\n",
       "  [Matrix([\n",
       "   [0],\n",
       "   [0],\n",
       "   [1]])]),\n",
       " (1,\n",
       "  2,\n",
       "  [Matrix([\n",
       "   [ 3/20],\n",
       "   [-3/10],\n",
       "   [    1]])])]"
      ]
     },
     "metadata": {},
     "output_type": "display_data"
    }
   ],
   "source": [
    "#c) \n",
    "A= Matrix([[3,1,0],[-4,-1,0],[4,-8,-2]])\n",
    "autovectores = A.eigenvects()\n",
    "print(\"Matriz :\")\n",
    "display(A)\n",
    "print(\"Autovalores, multiplicidad y autovectores:\")\n",
    "display(autovectores) \n",
    "\n",
    "#Los autovalores y autovectores son reales y no tengo una base de autovectores en los reales-> no es diagonalizable en los reales.\n",
    "#Los autovalores y autovectores son reales y no tengo una base de autovectores en los complejos-> no es diagonalizable en los complejos.\n",
    "\n",
    "#Nota: En este caso la multiplicidad geométrica del autovalor 1 es menor a la multiplicidad aritmética. \n"
   ]
  },
  {
   "cell_type": "code",
   "execution_count": 16,
   "id": "fc9c455d-f97e-4537-9d63-d6c6271e708a",
   "metadata": {},
   "outputs": [
    {
     "name": "stdout",
     "output_type": "stream",
     "text": [
      "Matriz :\n"
     ]
    },
    {
     "data": {
      "text/latex": [
       "$\\displaystyle \\left[\\begin{matrix}a & 1 & 1\\\\1 & a & 1\\\\1 & 1 & a\\end{matrix}\\right]$"
      ],
      "text/plain": [
       "Matrix([\n",
       "[a, 1, 1],\n",
       "[1, a, 1],\n",
       "[1, 1, a]])"
      ]
     },
     "metadata": {},
     "output_type": "display_data"
    },
    {
     "name": "stdout",
     "output_type": "stream",
     "text": [
      "Autovalores, multiplicidad y autovectores:\n"
     ]
    },
    {
     "data": {
      "text/plain": [
       "[(a - 1,\n",
       "  2,\n",
       "  [Matrix([\n",
       "   [-1],\n",
       "   [ 1],\n",
       "   [ 0]]),\n",
       "   Matrix([\n",
       "   [-1],\n",
       "   [ 0],\n",
       "   [ 1]])]),\n",
       " (a + 2,\n",
       "  1,\n",
       "  [Matrix([\n",
       "   [1],\n",
       "   [1],\n",
       "   [1]])])]"
      ]
     },
     "metadata": {},
     "output_type": "display_data"
    },
    {
     "name": "stdout",
     "output_type": "stream",
     "text": [
      "Matriz de cambio de base:\n"
     ]
    },
    {
     "data": {
      "text/latex": [
       "$\\displaystyle \\left[\\begin{matrix}-1 & -1 & 1\\\\1 & 0 & 1\\\\0 & 1 & 1\\end{matrix}\\right]$"
      ],
      "text/plain": [
       "Matrix([\n",
       "[-1, -1, 1],\n",
       "[ 1,  0, 1],\n",
       "[ 0,  1, 1]])"
      ]
     },
     "metadata": {},
     "output_type": "display_data"
    }
   ],
   "source": [
    "#d) \n",
    "A= Matrix([[a,1,1],[1,a,1],[1,1,a]])\n",
    "autovectores = A.eigenvects()\n",
    "print(\"Matriz :\")\n",
    "display(A)\n",
    "print(\"Autovalores, multiplicidad y autovectores:\")\n",
    "display(autovectores) \n",
    "\n",
    "#Los autovalores y autovectores son reales y tengo una base de autovectores en los reales-> es diagonalizable en los reales y por ende en los complejos.\n",
    "\n",
    "autovectores = [autovectores[0][2][0],autovectores[0][2][1],autovectores[1][2][0]]\n",
    "C_be = autovectores[0].row_join(autovectores[1]).row_join(autovectores[2])\n",
    "print(\"Matriz de cambio de base:\")\n",
    "display(C_be)\n"
   ]
  },
  {
   "cell_type": "code",
   "execution_count": 17,
   "id": "a636c2d6-b897-44f4-88d9-b49989708369",
   "metadata": {},
   "outputs": [
    {
     "name": "stdout",
     "output_type": "stream",
     "text": [
      "Matriz :\n"
     ]
    },
    {
     "data": {
      "text/latex": [
       "$\\displaystyle \\left[\\begin{matrix}0 & 1 & 0 & 1\\\\1 & 0 & 1 & 0\\\\0 & 1 & 0 & 1\\\\1 & 0 & 1 & 0\\end{matrix}\\right]$"
      ],
      "text/plain": [
       "Matrix([\n",
       "[0, 1, 0, 1],\n",
       "[1, 0, 1, 0],\n",
       "[0, 1, 0, 1],\n",
       "[1, 0, 1, 0]])"
      ]
     },
     "metadata": {},
     "output_type": "display_data"
    },
    {
     "name": "stdout",
     "output_type": "stream",
     "text": [
      "Autovalores, multiplicidad y autovectores:\n"
     ]
    },
    {
     "data": {
      "text/plain": [
       "[(-2,\n",
       "  1,\n",
       "  [Matrix([\n",
       "   [-1],\n",
       "   [ 1],\n",
       "   [-1],\n",
       "   [ 1]])]),\n",
       " (0,\n",
       "  2,\n",
       "  [Matrix([\n",
       "   [-1],\n",
       "   [ 0],\n",
       "   [ 1],\n",
       "   [ 0]]),\n",
       "   Matrix([\n",
       "   [ 0],\n",
       "   [-1],\n",
       "   [ 0],\n",
       "   [ 1]])]),\n",
       " (2,\n",
       "  1,\n",
       "  [Matrix([\n",
       "   [1],\n",
       "   [1],\n",
       "   [1],\n",
       "   [1]])])]"
      ]
     },
     "metadata": {},
     "output_type": "display_data"
    },
    {
     "name": "stdout",
     "output_type": "stream",
     "text": [
      "Matriz de cambio de base:\n"
     ]
    },
    {
     "data": {
      "text/latex": [
       "$\\displaystyle \\left[\\begin{matrix}-1 & -1 & 0 & 1\\\\1 & 0 & -1 & 1\\\\-1 & 1 & 0 & 1\\\\1 & 0 & 1 & 1\\end{matrix}\\right]$"
      ],
      "text/plain": [
       "Matrix([\n",
       "[-1, -1,  0, 1],\n",
       "[ 1,  0, -1, 1],\n",
       "[-1,  1,  0, 1],\n",
       "[ 1,  0,  1, 1]])"
      ]
     },
     "metadata": {},
     "output_type": "display_data"
    }
   ],
   "source": [
    "#e) \n",
    "A= Matrix([[0,1,0,1],[1,0,1,0],[0,1,0,1],[1,0,1,0]])\n",
    "autovectores = A.eigenvects()\n",
    "print(\"Matriz :\")\n",
    "display(A)\n",
    "print(\"Autovalores, multiplicidad y autovectores:\")\n",
    "display(autovectores) \n",
    "\n",
    "#Los autovalores y autovectores son reales y tengo una base de autovectores en los reales-> es diagonalizable en los reales y por ende en los complejos.\n",
    "\n",
    "autovectores = [autovectores[0][2][0],autovectores[1][2][0],autovectores[1][2][1], autovectores[2][2][0]]\n",
    "C_be = autovectores[0].row_join(autovectores[1]).row_join(autovectores[2]).row_join(autovectores[3])\n",
    "print(\"Matriz de cambio de base:\")\n",
    "display(C_be)\n"
   ]
  },
  {
   "cell_type": "code",
   "execution_count": 18,
   "id": "ff9b3373-c134-45a6-9316-a51564c85625",
   "metadata": {},
   "outputs": [
    {
     "name": "stdout",
     "output_type": "stream",
     "text": [
      "Matriz :\n"
     ]
    },
    {
     "data": {
      "text/latex": [
       "$\\displaystyle \\left[\\begin{matrix}0 & 0 & 0 & 0\\\\1 & 0 & 0 & 0\\\\0 & 1 & 0 & 0\\\\0 & 0 & 0 & 1\\end{matrix}\\right]$"
      ],
      "text/plain": [
       "Matrix([\n",
       "[0, 0, 0, 0],\n",
       "[1, 0, 0, 0],\n",
       "[0, 1, 0, 0],\n",
       "[0, 0, 0, 1]])"
      ]
     },
     "metadata": {},
     "output_type": "display_data"
    },
    {
     "name": "stdout",
     "output_type": "stream",
     "text": [
      "Autovalores, multiplicidad y autovectores:\n"
     ]
    },
    {
     "data": {
      "text/plain": [
       "[(0,\n",
       "  3,\n",
       "  [Matrix([\n",
       "   [0],\n",
       "   [0],\n",
       "   [1],\n",
       "   [0]])]),\n",
       " (1,\n",
       "  1,\n",
       "  [Matrix([\n",
       "   [0],\n",
       "   [0],\n",
       "   [0],\n",
       "   [1]])])]"
      ]
     },
     "metadata": {},
     "output_type": "display_data"
    }
   ],
   "source": [
    "#f) \n",
    "A= Matrix([[0,0,0,0],[1,0,0,0],[0,1,0,0],[0,0,0,1]])\n",
    "autovectores = A.eigenvects()\n",
    "print(\"Matriz :\")\n",
    "display(A)\n",
    "print(\"Autovalores, multiplicidad y autovectores:\")\n",
    "display(autovectores) \n",
    "\n",
    "#Los autovalores y autovectores son reales y no tengo una base de autovectores en los reales-> no es diagonalizable.\n"
   ]
  },
  {
   "cell_type": "markdown",
   "id": "27a23307-48b1-41d5-952d-5ed80adfcde3",
   "metadata": {},
   "source": [
    "## Ejercicio 3"
   ]
  },
  {
   "cell_type": "markdown",
   "id": "456f9bc2-c213-4f67-982f-5f2512cbd79f",
   "metadata": {},
   "source": [
    "Considerar la sucesión de Fibonacci, dada por la recursión: $F_0 = 0, F_1=1, F_{n+1}=F_n +F_{n-1}$.\n",
    "\n"
   ]
  },
  {
   "cell_type": "markdown",
   "id": "6abf37e4-8752-4d76-93e1-fd5f8ea59a49",
   "metadata": {},
   "source": [
    "a) Hallar una matriz $A$ tal que $\\begin{pmatrix} F_n \\\\ F_{n+1} \\end{pmatrix} = A \\begin{pmatrix}F_{n-1} \\\\ F_n \\end{pmatrix}$. Mostrar que $\\begin{pmatrix} F_n \\\\ F_{n+1} \\end{pmatrix} = A^n \\begin{pmatrix}F_0 \\\\ F_1 \\end{pmatrix}$.\n",
    "\n",
    "$\\begin{cases} F_n = F_n \\\\ F_{n+1} = F_{n-1} + F_n \\end{cases} \\iff \\begin{pmatrix} F_n \\\\ F_{n+1} \\end{pmatrix} = \\begin{pmatrix}  0 & 1 \\\\ 1 & 1\\end{pmatrix} \\begin{pmatrix}F_{n-1} \\\\ F_n \\end{pmatrix} \\iff A = \\begin{pmatrix}  0 & 1 \\\\ 1 & 1\\end{pmatrix}$ \n",
    "\n",
    "$\\begin{pmatrix} F_n \\\\ F_{n+1} \\end{pmatrix} = A \\begin{pmatrix}F_{n-1} \\\\ F_{n} \\end{pmatrix} = A^2 \\begin{pmatrix}F_{n-2} \\\\ F_{n-1} \\end{pmatrix} = \\cdots= A^n \\begin{pmatrix}F_0 \\\\ F_1 \\end{pmatrix}$."
   ]
  },
  {
   "cell_type": "markdown",
   "id": "1255dfe0-d1cb-424f-bbeb-9b0a82702c1e",
   "metadata": {},
   "source": [
    "b) Diagonalizar A."
   ]
  },
  {
   "cell_type": "code",
   "execution_count": 23,
   "id": "88c97917-303f-4f37-bddf-435f4c6b73b7",
   "metadata": {},
   "outputs": [
    {
     "data": {
      "text/latex": [
       "$\\displaystyle \\left[\\begin{matrix}- \\frac{\\sqrt{5}}{2} - \\frac{1}{2} & - \\frac{1}{2} + \\frac{\\sqrt{5}}{2}\\\\1 & 1\\end{matrix}\\right]$"
      ],
      "text/plain": [
       "Matrix([\n",
       "[-sqrt(5)/2 - 1/2, -1/2 + sqrt(5)/2],\n",
       "[               1,                1]])"
      ]
     },
     "metadata": {},
     "output_type": "display_data"
    },
    {
     "data": {
      "text/latex": [
       "$\\displaystyle \\left[\\begin{matrix}\\frac{1}{2} - \\frac{\\sqrt{5}}{2} & 0\\\\0 & \\frac{1}{2} + \\frac{\\sqrt{5}}{2}\\end{matrix}\\right]$"
      ],
      "text/plain": [
       "Matrix([\n",
       "[1/2 - sqrt(5)/2,               0],\n",
       "[              0, 1/2 + sqrt(5)/2]])"
      ]
     },
     "metadata": {},
     "output_type": "display_data"
    },
    {
     "data": {
      "text/latex": [
       "$\\displaystyle \\left[\\begin{matrix}- \\frac{\\sqrt{5}}{5} & \\frac{1}{2} - \\frac{\\sqrt{5}}{10}\\\\\\frac{\\sqrt{5}}{5} & \\frac{\\sqrt{5}}{10} + \\frac{1}{2}\\end{matrix}\\right]$"
      ],
      "text/plain": [
       "Matrix([\n",
       "[-sqrt(5)/5, 1/2 - sqrt(5)/10],\n",
       "[ sqrt(5)/5, sqrt(5)/10 + 1/2]])"
      ]
     },
     "metadata": {},
     "output_type": "display_data"
    }
   ],
   "source": [
    "A = Matrix([[0,1],[1,1]])\n",
    "\n",
    "C_be,D = A.diagonalize()\n",
    "#Verifico:\n",
    "simplify(C_be@D@C_be.inv())\n",
    "display(simplify(C_be))\n",
    "display(simplify(D))\n",
    "display(simplify(C_be.inv()))"
   ]
  },
  {
   "cell_type": "markdown",
   "id": "c376d101-ebec-48db-9d3e-9aa5e2e25b3c",
   "metadata": {},
   "source": [
    "c) Dar una fórmula cerrada para $F_n$.\n",
    "\n",
    "Por el ítem anterior podemos calcular $A^n$: $A = C_{\\mathcal{BE}}DC_{\\mathcal{BE}}^{-1} \\implies A^n = C_{\\mathcal{BE}}DC_{\\mathcal{BE}}^{-1}C_{\\mathcal{BE}}DC_{\\mathcal{BE}}^{-1} \\cdots C_{\\mathcal{BE}}DC_{\\mathcal{BE}}^{-1} C_{\\mathcal{BE}}DC_{\\mathcal{BE}}^{-1} = C_{\\mathcal{BE}}D^nC_{\\mathcal{BE}}^{-1} $.\n",
    "\n",
    "Por el ítem (a) sabemos que $\\begin{pmatrix} F_n \\\\ F_{n+1} \\end{pmatrix} = A^n \\begin{pmatrix}F_0 \\\\ F_1 \\end{pmatrix}$.\n",
    "\n",
    "Luego, una fórmula cerrada es $F_n = (A^n)_{11}F_0 + (A^n)_{12}F_1 = (A^n)_{12}$."
   ]
  },
  {
   "cell_type": "markdown",
   "id": "105f780c-f638-4425-8036-5e3905e35463",
   "metadata": {},
   "source": [
    "## Ejercicio 4"
   ]
  },
  {
   "cell_type": "markdown",
   "id": "07c6af10-6930-4381-be40-86dc775071c6",
   "metadata": {},
   "source": [
    "Recordando que la solución de la ecuación diferencial \n",
    "\n",
    "$x'(t)=ax(t), \\ a \\in \\mathbb{R}$\n",
    "\n",
    "con condición inicial $x(0)=c_0 $ es $x(t)=c_0e^{at}$, resolver el siguiente sistema de ecuaciones diferenciales:\n",
    "\n",
    "$\\begin{cases}x'(t)= 6x(t)+2y(t) \\\\ y'(t)=2x(t)+3y(t) \\end{cases}$\n",
    "\n",
    "con condiciones iniciales $x(0)=3, y(0)=-1$.\n",
    "\n",
    "Sugerencia: Hallar una matriz $C$ tal que $C^{-1}\\begin{pmatrix}6 & 2 \\\\ 2 & 3 \\end{pmatrix}C$ sea diagonal y hacer el cambio de variables $\\begin{pmatrix} u(t) \\\\ v(t)\\end{pmatrix}=C^{-1}\\begin{pmatrix}x(t) \\\\ y(t)\\end{pmatrix}$.\n",
    "\n",
    "\n",
    "$\\begin{cases}x'(t)= 6x(t)+2y(t) \\\\ y'(t)=2x(t)+3y(t) \\end{cases} \\iff \\begin{pmatrix}x'(t) \\\\ y'(t) \\end{pmatrix} = \\begin{pmatrix} 6 & 2 \\\\ 2 & 3 \\end{pmatrix}\\begin{pmatrix}x(t) \\\\ y(t) \\end{pmatrix}$\n",
    "\n",
    "La transformación lineal está en la base canónica pero podemos diagonalizar la matriz asociada a la transformación lineal y usar la base de autovectores.\n",
    "\n"
   ]
  },
  {
   "cell_type": "code",
   "execution_count": 27,
   "id": "df23fdde-4901-4552-9589-47dda822583f",
   "metadata": {},
   "outputs": [
    {
     "data": {
      "text/latex": [
       "$\\displaystyle \\left[\\begin{matrix}-1 & 2\\\\2 & 1\\end{matrix}\\right]$"
      ],
      "text/plain": [
       "Matrix([\n",
       "[-1, 2],\n",
       "[ 2, 1]])"
      ]
     },
     "metadata": {},
     "output_type": "display_data"
    },
    {
     "data": {
      "text/latex": [
       "$\\displaystyle \\left[\\begin{matrix}2 & 0\\\\0 & 7\\end{matrix}\\right]$"
      ],
      "text/plain": [
       "Matrix([\n",
       "[2, 0],\n",
       "[0, 7]])"
      ]
     },
     "metadata": {},
     "output_type": "display_data"
    },
    {
     "data": {
      "text/latex": [
       "$\\displaystyle \\left[\\begin{matrix}- \\frac{1}{5} & \\frac{2}{5}\\\\\\frac{2}{5} & \\frac{1}{5}\\end{matrix}\\right]$"
      ],
      "text/plain": [
       "Matrix([\n",
       "[-1/5, 2/5],\n",
       "[ 2/5, 1/5]])"
      ]
     },
     "metadata": {},
     "output_type": "display_data"
    },
    {
     "data": {
      "text/latex": [
       "$\\displaystyle \\left[\\begin{matrix}6 & 2\\\\2 & 3\\end{matrix}\\right]$"
      ],
      "text/plain": [
       "Matrix([\n",
       "[6, 2],\n",
       "[2, 3]])"
      ]
     },
     "execution_count": 27,
     "metadata": {},
     "output_type": "execute_result"
    }
   ],
   "source": [
    "A = Matrix([[6,2],[2,3]])\n",
    "C,D = A.diagonalize()\n",
    "display(C)\n",
    "display(D)\n",
    "display(C.inv())\n",
    "C@D@C.inv()"
   ]
  },
  {
   "cell_type": "markdown",
   "id": "d4855ad6-b59d-4c8f-ad73-9c26e6678cd6",
   "metadata": {},
   "source": [
    "$\\begin{cases}x'(t)= 6x(t)+2y(t) \\\\ y'(t)=2x(t)+3y(t) \\end{cases} \\iff \\begin{pmatrix}x'(t) \\\\ y'(t) \\end{pmatrix} = \\begin{pmatrix} 6 & 2 \\\\ 2 & 3 \\end{pmatrix}\\begin{pmatrix}x(t) \\\\ y(t) \\end{pmatrix} \\iff C^{-1}\\begin{pmatrix}x'(t) \\\\ y'(t) \\end{pmatrix} = \\begin{pmatrix} 2 & 0 \\\\ 0 & 7 \\end{pmatrix}C^{-1}\\begin{pmatrix}x(t) \\\\ y(t) \\end{pmatrix}$\n",
    "\n",
    "Hacemos el cambio de variables $\\begin{pmatrix} u(t) \\\\ v(t)\\end{pmatrix}=C^{-1}\\begin{pmatrix}x(t) \\\\ y(t)\\end{pmatrix}=\\frac{1}{5} \\begin{pmatrix}-1 & 2 \\\\ 2 & 1 \\end{pmatrix}\\begin{pmatrix}x(t) \\\\ y(t) \\end{pmatrix} = \\frac{1}{5}\\begin{pmatrix} -x(t)+2y(t) \\\\ 2x(t) + y(t) \\end{pmatrix}$\n",
    "\n",
    "$\\implies \\begin{pmatrix} u'(t) \\\\ v'(t)\\end{pmatrix} = \\frac{1}{5} \\begin{pmatrix} -x'(t)+2y'(t) \\\\  2x'(t)+y'(t)\\end{pmatrix} = C^{-1} \\begin{pmatrix} x'(t) \\\\ y'(t)\\end{pmatrix}$\n",
    "\n",
    "$\\implies \\begin{cases}x'(t)= 6x(t)+2y(t) \\\\ y'(t)=2x(t)+3y(t) \\end{cases} \\iff \\begin{cases} u'(t) = 2 u(t)\\\\ v'(t)= 7v(t) \\end{cases}$\n",
    "\n",
    "Usamos que $x(0)=3 \\land y(0)=-1 \\implies u(0)= \\frac{1}{5}(-x(0)+2y(0))= -1 \\land v(0)= \\frac{1}{5}(2x(0)+y(0))=1$\n",
    "y que la solución de la EDO: $x'(t)=ax(t), \\ a \\in \\mathbb{R}$ con condición inicial $x(0)=c_0 $ es $x(t)=c_0e^{at}$.\n",
    "\n",
    "$\\implies \\begin{cases} u(t)=-e^{2t} \\\\ v(t)=e^{7t}\\end{cases}$\n",
    "\n",
    "$\\implies \\begin{cases} x(t)= -u(t)+2v(t) = -e^{2t}+2e^{7t} \\\\ y(t) = 2u(t)+v(t) = -2e^{2t} + e^{7t}\\end{cases}$"
   ]
  },
  {
   "cell_type": "markdown",
   "id": "3f8e41b1-93fc-407a-ab0b-dc24e1ddc2b6",
   "metadata": {},
   "source": [
    "## Ejercicio 5"
   ]
  },
  {
   "cell_type": "markdown",
   "id": "f0ec06d4-dcc1-4054-a3a3-ea938a901d6c",
   "metadata": {},
   "source": [
    "Sea $A \\in \\mathbb{K}^{n\\times n}$ . Probar que $A$ y $A^t$ tienen los mismos autovalores. Dar un ejemplo en el que los autovectores sean distintos.\n",
    "\n",
    "**Demostración**\n",
    "\n",
    "Queremos probar que $A$ y $A^t$ tienen los mismos autovalores. Supongamos que $\\lambda$ es un autovalor de $A$. Entonces, por definición, existe un vector no nulo $v\\in \\mathbb{K}^n$ tal que: $Av=\\lambda v$.\n",
    "\n",
    "Reescribimos esta ecuación como: $(\\lambda I−A)v=0$, donde $\\lambda I−A$ es singular (no invertible) porque tiene un núcleo no trivial. Por lo tanto: $det⁡(\\lambda I−A)=0.\\ \\ (1)$\n",
    "\n",
    "Ahora consideremos la matriz transpuesta $A^t$. Notemos que: $det⁡(\\lambda I−A^t)=det⁡((\\lambda I−A)^t)$.\n",
    "\n",
    "Como la operación de transposición no afecta el determinante, tenemos: $det(\\lambda I−A^t)=det(\\lambda I−A). \\ \\ (2)$\n",
    "\n",
    "De $(1)$ y $(2)$ concluimos que: $det⁡(\\lambda I−A^t)=0  \\iff  det⁡(\\lambda I−A)=0$.\n",
    "\n",
    "Esto implica que $\\lambda$ es un autovalor de $A^t$ si y solo si es un autovalor de $A$.\n",
    "\n",
    "**Ejemplo de autovectores distintos**\n",
    "\n",
    "$A= \\begin{pmatrix} 1 & 3 \\\\ 2 & 6 \\end{pmatrix} \\implies A\\begin{pmatrix}-3 \\\\ 1 \\end{pmatrix} = 0\\begin{pmatrix}-3 \\\\ 1 \\end{pmatrix} \\land A\\begin{pmatrix}\\frac{1}{2} \\\\ 1 \\end{pmatrix} = 7\\begin{pmatrix}\\frac{1}{2} \\\\ 1 \\end{pmatrix}$\n",
    "\n",
    "$A^t = \\begin{pmatrix} 1 & 2 \\\\ 3 & 6 \\end{pmatrix} \\implies A\\begin{pmatrix}-2 \\\\ 1 \\end{pmatrix}=0\\begin{pmatrix}-2 \\\\ 1 \\end{pmatrix} \\land A\\begin{pmatrix}\\frac{1}{3} \\\\ 1 \\end{pmatrix}= 7\\begin{pmatrix}\\frac{1}{3} \\\\ 1 \\end{pmatrix}$ "
   ]
  },
  {
   "cell_type": "code",
   "execution_count": 31,
   "id": "8a43145b-d4f0-4cdc-b5a0-6706077d3fa6",
   "metadata": {},
   "outputs": [
    {
     "data": {
      "text/plain": [
       "[(0,\n",
       "  1,\n",
       "  [Matrix([\n",
       "   [-3],\n",
       "   [ 1]])]),\n",
       " (7,\n",
       "  1,\n",
       "  [Matrix([\n",
       "   [1/2],\n",
       "   [  1]])])]"
      ]
     },
     "metadata": {},
     "output_type": "display_data"
    },
    {
     "data": {
      "text/plain": [
       "[(0,\n",
       "  1,\n",
       "  [Matrix([\n",
       "   [-2],\n",
       "   [ 1]])]),\n",
       " (7,\n",
       "  1,\n",
       "  [Matrix([\n",
       "   [1/3],\n",
       "   [  1]])])]"
      ]
     },
     "execution_count": 31,
     "metadata": {},
     "output_type": "execute_result"
    }
   ],
   "source": [
    "A= Matrix([[1,3],[2,6]])\n",
    "display(A.eigenvects())\n",
    "A.T.eigenvects()"
   ]
  },
  {
   "cell_type": "markdown",
   "id": "7be0eb14-8d81-4922-b804-cd3a8d2265a7",
   "metadata": {},
   "source": [
    "## Ejercicio 6"
   ]
  },
  {
   "cell_type": "markdown",
   "id": "4cf47533-02cc-48fc-a154-0f8070701896",
   "metadata": {},
   "source": [
    "Sea $A \\in \\mathbb{C}^{n\\times n}$ y $\\lambda$ un autovalor de $A$. Probar que:\n",
    "\n"
   ]
  },
  {
   "cell_type": "markdown",
   "id": "154e3c70-0b64-4aa7-89a7-faf65c462311",
   "metadata": {},
   "source": [
    "### a) Si A es triangular sus autovalores son los elementos de la diagonal."
   ]
  },
  {
   "cell_type": "markdown",
   "id": "3f97390e-ceae-438a-9193-a5b2d5341860",
   "metadata": {},
   "source": [
    "$A$ triangular $\\implies det(\\lambda I-A)= (\\lambda - a_{11})det((\\lambda I - A)[1:,1:])=(\\lambda - a_{11})(\\lambda - a_{22})det((\\lambda I - A)[2:,2:])= \\prod_{i=1}^n (\\lambda - a_{ii}) $"
   ]
  },
  {
   "cell_type": "markdown",
   "id": "b75e6826-120b-4e4d-9faa-040aca302e7d",
   "metadata": {},
   "source": [
    "### b) $\\lambda ^k$ es autovalor de $A^k$, con el mismo autovector."
   ]
  },
  {
   "cell_type": "markdown",
   "id": "4f3f7c19-3fb8-474a-b272-23fdcf478c7f",
   "metadata": {},
   "source": [
    "$Av = \\lambda v \\implies A^2v=A(Av)=\\lambda(\\lambda v)= \\lambda^2v \\implies A^kv= \\lambda^kv$"
   ]
  },
  {
   "cell_type": "markdown",
   "id": "764208ab-1c7e-41f1-9fd9-af1abd360ec4",
   "metadata": {},
   "source": [
    "### c) $\\lambda + \\mu$ es autovalor de $A + \\mu I$, con el mismo autovector."
   ]
  },
  {
   "cell_type": "markdown",
   "id": "1ab6336d-a7f0-4761-a236-c3ea48fcd612",
   "metadata": {},
   "source": [
    "$Av = \\lambda v \\implies Av + \\mu v = \\lambda v + \\mu v \\implies (A + \\mu I)v = (\\lambda + \\mu)v $"
   ]
  },
  {
   "cell_type": "markdown",
   "id": "7b2d8b05-919c-4208-9546-c3f31c920a37",
   "metadata": {},
   "source": [
    "### d) Si $p$ es un polinomio, $p(\\lambda)$ es autovalor de $p(A)$."
   ]
  },
  {
   "cell_type": "markdown",
   "id": "72360417-686e-4631-9724-c0b1e1f91549",
   "metadata": {},
   "source": [
    "$p(x) = \\alpha_0 + \\alpha_1x + \\cdots + \\alpha_nx^n \\implies p(A)v = (\\alpha_0 + \\alpha_1A + \\cdots + \\alpha_nA^n)v = (\\alpha_0 + \\alpha_1 \\lambda + \\cdots + \\alpha_n \\lambda^n )v = p(\\lambda)v$"
   ]
  },
  {
   "cell_type": "markdown",
   "id": "fb11e1eb-6afb-4598-b901-bda3df07c52c",
   "metadata": {},
   "source": [
    "## Ejercicio 7"
   ]
  },
  {
   "cell_type": "markdown",
   "id": "e6114772-5491-43da-bcec-c60e2ab722ac",
   "metadata": {},
   "source": [
    "### a) Sea $A \\in \\mathbb{R}^{3\\times 3}$ diagonalizable con $tr(A) = −4$. Calcular los autovalores de $A$ sabiendo que los autovalores de $A^2 + 2A$ son $−1, 3$ y $8$."
   ]
  },
  {
   "cell_type": "markdown",
   "id": "4e91e414-e0f4-4739-9a7c-dd8c459fe237",
   "metadata": {},
   "source": [
    "Por el ejercicio anterior, sé que $p(A)=A^2 +2A \\implies p(A)v=(A^2 +2A)v= p(\\lambda)v = (\\lambda^2 +2\\lambda)v$.\n",
    "\n",
    "Luego, tengo $\\begin{cases} p(\\lambda_1) = -1 \\implies \\lambda_1^2 +2\\lambda_1 = -1 \\implies \\lambda_1 = -1 \\\\ p(\\lambda_2) = 3 \\implies \\lambda_2^2 +2\\lambda_2 = 3 \\implies \\lambda_2 = -3 \\lor \\lambda_2=1 \\\\ p(\\lambda_3) = 8 \\implies \\lambda_3^2 +2\\lambda_3 = 8 \\implies \\lambda_3 = -4 \\lor \\lambda_3=2\\end{cases}$ \n",
    "\n",
    "Supongamos que $A$ es diagonal, como $tr(A)=-4$, debe ser $\\lambda_2 =1$ y $\\lambda_3 = -4$"
   ]
  },
  {
   "cell_type": "code",
   "execution_count": 45,
   "id": "3d9c86a9-77a4-4b39-a52d-2e4d38146c7f",
   "metadata": {},
   "outputs": [
    {
     "name": "stdout",
     "output_type": "stream",
     "text": [
      "Las raíces de la ecuación son: [-4, 2]\n"
     ]
    }
   ],
   "source": [
    "x = symbols('x')\n",
    "\n",
    "a, b, c = 1, 2, -8  \n",
    "ecuacion = Eq(a * x**2 + b * x + c, 0)\n",
    "\n",
    "# Resolvemos la ecuación\n",
    "raices = solve(ecuacion, x)\n",
    "\n",
    "# Mostramos las raíces\n",
    "print(f\"Las raíces de la ecuación son: {raices}\")\n"
   ]
  },
  {
   "cell_type": "markdown",
   "id": "6854de63-30fd-4b85-9ce6-8501b192e94d",
   "metadata": {},
   "source": [
    "### b) Sea $A \\in \\mathbb{R}^{4\\times 4}$ tal que $det(A) = 6 ; 1$ y $−2$ son autovalores de $A$ y $−4$ es autovalor de la matriz $A − 3I$. Hallar los restantes autovalores de $A$. "
   ]
  },
  {
   "cell_type": "markdown",
   "id": "f6538b72-918f-4c9f-9e96-ac8fbfa73cf8",
   "metadata": {},
   "source": [
    "$(A-3I)v =-4v \\implies Av = (-4+3)v= -v \\implies -1$ es autovalor de A.\n",
    "\n",
    "Para hallar el cuarto autovalor, que sabemos que es no nulo pues $det(A) \\neq 0$, supogamos que $A$ es diagonalizable.\n",
    "$\\implies A = CDC^{-1} \\implies det(A)=det(D)= 6 = 1\\cdot(-2)\\cdot(-1)\\cdot \\lambda \\implies \\lambda = 3$"
   ]
  },
  {
   "cell_type": "markdown",
   "id": "7842e9df-b0d4-4f45-a178-835d21115baf",
   "metadata": {},
   "source": [
    "## Ejercicio 8"
   ]
  },
  {
   "cell_type": "markdown",
   "id": "1f1e66ef-6a4b-44c4-b268-12ffba440f52",
   "metadata": {},
   "source": [
    "Sea $A \\in \\mathbb{R}^{n \\times n}$. Probar:"
   ]
  },
  {
   "cell_type": "markdown",
   "id": "e744b4e2-3d86-4ead-81d1-b9218b4dd9da",
   "metadata": {},
   "source": [
    "### a) Si los autovalores de A son todos reales, sus autovectores pueden tomarse con coordenadas reales. "
   ]
  },
  {
   "cell_type": "markdown",
   "id": "082c62bd-1775-4a10-8e61-90933f3ab61f",
   "metadata": {},
   "source": [
    "Sea $\\lambda \\in \\mathbb{R}$ autovalor de $A$,\n",
    "\n",
    "$\\exists v \\neq 0, v \\in \\mathbb{C}^{n \\times n} : Av = \\lambda v \\implies \\overline{Av} = \\overline{\\lambda v} \\implies A\\overline{v} = \\lambda \\overline{v}$.\n",
    "\n",
    "Es decir que el conjugado del autovector también es autovector y está en el mismo autosubespacio asociado a $\\lambda$, luego se puede tomar $v' = v+\\overline{v} \\in \\mathbb{R}^n$ autovector de autovalor $\\lambda$."
   ]
  },
  {
   "cell_type": "markdown",
   "id": "8830ed63-24e6-4687-b772-adc35a610a2d",
   "metadata": {},
   "source": [
    "### b) Si $A$ es simétrica, entonces sus autovalores son reales."
   ]
  },
  {
   "cell_type": "markdown",
   "id": "4cd35a54-ab1f-4002-91f6-8c255ee68a85",
   "metadata": {},
   "source": [
    "Sea $\\lambda$ autovalor de $A$,\n",
    "\n",
    "$\\exists v \\neq 0 : Av = \\lambda v \\implies v^*Av= \\lambda v^*v = \\lambda ||v||_2^2$\n",
    "\n",
    "Como $A=A^t \\implies (v^*Av)^* = v^*A^*v = v^*Av \\implies v^*Av \\in \\mathbb{R}$, debe ser que $\\lambda ||v||_2^2 \\in \\mathbb{R} \\implies \\lambda \\in \\mathbb{R}$"
   ]
  },
  {
   "cell_type": "markdown",
   "id": "2bd9e78a-1cda-4dd3-97c8-739d2edab120",
   "metadata": {},
   "source": [
    "### c) Si $A$ es simétrica y definida positiva (negativa), entonces todos sus autovalores son positivos (negativos).\n",
    "\n",
    "$A$ simétrica y definida positiva $\\iff A=A^t \\land \\forall v \\neq 0, v^*Av>0$.\n",
    "\n",
    "Sea $\\lambda$ autovalor de $A \\implies \\exists v\\neq 0: Av= \\lambda v$.\n",
    "\n",
    "Como $A$ es definida positiva, $v^*Av = \\lambda v^*v >0$. Dado que $v^*v>0$ pues $v\\neq 0$, se tiene que $\\lambda v^*v > 0 \\implies \\lambda > 0$. \n",
    "\n",
    "$A$ simétrica y definida negativa $\\iff A=A^t \\land \\forall v \\neq 0, v^*Av<0$.\n",
    "\n",
    "Sea $\\lambda$ autovalor de $A \\implies \\exists v\\neq 0: Av= \\lambda v$.\n",
    "\n",
    "Como $A$ es definida negativa, $v^*Av = \\lambda v^*v <0$. Dado que $v^*v>0$ pues $v\\neq 0$, se tiene que $\\lambda v^*v < 0 \\implies \\lambda < 0$. "
   ]
  },
  {
   "cell_type": "markdown",
   "id": "5313b191-e4f7-4cad-b91e-88a4376a8477",
   "metadata": {},
   "source": [
    "### d) Si $A$ es simétrica y $\\lambda_1$ y $\\lambda_2$ son autovalores distintos, entonces sus correspondientes autovectores son ortogonales entre sı́."
   ]
  },
  {
   "cell_type": "markdown",
   "id": "6c49b97b-4efb-491d-80dc-ea696ee4e0a5",
   "metadata": {},
   "source": [
    "$Av_1 = \\lambda_1 v_1 \\land Av_2=\\lambda_2v_2 \\implies  <v_2,Av_1>= (Av_1)^*v_2 =v_1^*A^*v_2 =v_1^*Av_2$\n",
    "\n",
    "Como $(Av_1)^*v_2 = \\lambda_1v_1^*v_2$ y $v_1^*Av_2 = \\lambda_2 v_1^*v_2$, se tiene que $\\lambda_1 v_1^*v_2 = \\lambda_2 v_1^*v_2 \\implies (\\lambda_1 - \\lambda_2)v_1^*v_2 = 0 \\implies v_1^*v_2= 0 \\implies v_1 \\perp v_2$ pues $\\lambda_1 \\neq \\lambda_2$"
   ]
  },
  {
   "cell_type": "markdown",
   "id": "4497ae6d-a5aa-4fbe-8d60-4c2973a2bba0",
   "metadata": {},
   "source": [
    "## Ejercicio 9"
   ]
  },
  {
   "cell_type": "markdown",
   "id": "7cc428fa-baa6-43de-acf1-d1f6821bd709",
   "metadata": {},
   "source": [
    "Una transformación lineal $f:\\mathbb{K}^n \\rightarrow \\mathbb{K}^n$ se llama *proyector* si verifica $f(f(x))=f(x) \\ \\ \\forall x\\in \\mathbb{K}^n$. Probar que los únicos autovalores de un proyector son $1$ y $0$."
   ]
  },
  {
   "cell_type": "markdown",
   "id": "880bcf32-fc86-4771-a705-bbaa893cdfd8",
   "metadata": {},
   "source": [
    "Consideremos $A$ a la matriz asociada a la transformación lineal $f$. \n",
    "\n",
    "Sea $\\lambda$ autovalor de $A$, tenemos que $\\exists v\\neq 0: Av= \\lambda v \\implies A(Av) = \\lambda^2v = \\lambda v = Av$.\n",
    "\n",
    "$\\implies (\\lambda^2 - \\lambda)v = 0 \\iff \\lambda^2 - \\lambda = 0 \\iff \\lambda = 1 \\lor \\lambda = 0$"
   ]
  },
  {
   "cell_type": "markdown",
   "id": "3b374e80-f79b-44a0-8622-298b6e2d0b64",
   "metadata": {},
   "source": [
    "## Ejercicio 10"
   ]
  },
  {
   "cell_type": "markdown",
   "id": "03499f21-3274-42b0-a345-91d4a4153567",
   "metadata": {},
   "source": [
    "Sea $f:\\mathbb{R}^3 \\rightarrow \\mathbb{R}^3$ la transformación lineal dada por:\n",
    "\n",
    "$[f] = \\begin{pmatrix} -3 & 2 & 0 \\\\ -6 & 4 & 0 \\\\ -9 & 6 & 0\\end{pmatrix}$\n",
    "\n",
    "Probar que $f$ es un proyector y hallar una base $\\mathcal{B}$ tal que $[f]_{\\mathcal{BB}}$ sea diagonal."
   ]
  },
  {
   "cell_type": "code",
   "execution_count": 62,
   "id": "0f439f41-cdd5-47a6-9dc9-b1e011ad2896",
   "metadata": {},
   "outputs": [
    {
     "data": {
      "text/latex": [
       "$\\displaystyle \\left[\\begin{matrix}-3 & 2 & 0\\\\-6 & 4 & 0\\\\-9 & 6 & 0\\end{matrix}\\right]$"
      ],
      "text/plain": [
       "Matrix([\n",
       "[-3, 2, 0],\n",
       "[-6, 4, 0],\n",
       "[-9, 6, 0]])"
      ]
     },
     "metadata": {},
     "output_type": "display_data"
    },
    {
     "data": {
      "text/latex": [
       "$\\displaystyle \\left[\\begin{matrix}0 & 0 & 0\\\\0 & 0 & 0\\\\0 & 0 & 1\\end{matrix}\\right]$"
      ],
      "text/plain": [
       "Matrix([\n",
       "[0, 0, 0],\n",
       "[0, 0, 0],\n",
       "[0, 0, 1]])"
      ]
     },
     "metadata": {},
     "output_type": "display_data"
    },
    {
     "data": {
      "text/latex": [
       "$\\displaystyle \\left[\\begin{matrix}2 & 0 & 1\\\\3 & 0 & 2\\\\0 & 1 & 3\\end{matrix}\\right]$"
      ],
      "text/plain": [
       "Matrix([\n",
       "[2, 0, 1],\n",
       "[3, 0, 2],\n",
       "[0, 1, 3]])"
      ]
     },
     "execution_count": 62,
     "metadata": {},
     "output_type": "execute_result"
    }
   ],
   "source": [
    "A = Matrix([[-3,2,0],[-6,4,0],[-9,6,0]])\n",
    "display(A@A) #Como A²=A, f es un proyector\n",
    "\n",
    "#[f]=C_eb [f]_bb C_be -> [f]_bb es diagonal si [f]=A es diagonalizable\n",
    "\n",
    "C_be, f_bb = A.diagonalize()\n",
    "display(f_bb) #Vemos que efectivamente los autovalores son 1 y/o 0 \n",
    "C_be #Las columnas forman una base tal que [f]_bb es diagonal"
   ]
  },
  {
   "cell_type": "markdown",
   "id": "99150eca-b048-4edc-8dd2-0f60b4e8c9b1",
   "metadata": {},
   "source": [
    "## Ejercicio 11"
   ]
  },
  {
   "cell_type": "markdown",
   "id": "ecfd4c5b-8d96-4afa-8971-4eb49dcbf82e",
   "metadata": {},
   "source": [
    "Considerar las matrices\n",
    "\n",
    "$A=\\begin{pmatrix} 1 & \\frac{1}{\\varepsilon} \\\\ \\varepsilon & 1 \\end{pmatrix}$,\n",
    "\n",
    "$B=\\begin{pmatrix} 1 & \\frac{1}{\\varepsilon} \\\\ 0 & 1 \\end{pmatrix}$\n",
    "\n",
    "donde $\\varepsilon<<1$ es arbitrario. Calcular los polinomios característicos y los autovalores de $A$ y de $B$. Concluir que pequeñas perturbaciones en los coeficientes de un polinomio pueden conducir a grandes variaciones en sus raíces (el problema está mal condicionado). En particular, esto afecta el cómputo de autovalores como raíces del polinomio característico.\n"
   ]
  },
  {
   "cell_type": "code",
   "execution_count": 65,
   "id": "a4c31b18-3a84-45f3-848a-bc92aee7daf8",
   "metadata": {},
   "outputs": [
    {
     "data": {
      "text/latex": [
       "$\\displaystyle \\operatorname{PurePoly}{\\left( \\lambda^{2} - 2 \\lambda, \\lambda, domain=\\mathbb{Z} \\right)}$"
      ],
      "text/plain": [
       "PurePoly(lambda**2 - 2*lambda, lambda, domain='ZZ')"
      ]
     },
     "metadata": {},
     "output_type": "display_data"
    },
    {
     "data": {
      "text/latex": [
       "$\\displaystyle \\operatorname{PurePoly}{\\left( \\lambda^{2} - 2 \\lambda + 1, \\lambda, domain=\\mathbb{Z} \\right)}$"
      ],
      "text/plain": [
       "PurePoly(lambda**2 - 2*lambda + 1, lambda, domain='ZZ')"
      ]
     },
     "metadata": {},
     "output_type": "display_data"
    },
    {
     "data": {
      "text/plain": [
       "{2: 1, 0: 1}"
      ]
     },
     "metadata": {},
     "output_type": "display_data"
    },
    {
     "data": {
      "text/plain": [
       "{1: 2}"
      ]
     },
     "metadata": {},
     "output_type": "display_data"
    }
   ],
   "source": [
    "eps = symbols('varepsilon')\n",
    "lamda = symbols('lambda')\n",
    "A = Matrix([[1, 1/eps],[eps, 1]])\n",
    "B = Matrix([[1, 1/eps],[0, 1]])\n",
    "\n",
    "display(A.charpoly(lamda))\n",
    "display(B.charpoly(lamda))\n",
    "\n",
    "display(A.eigenvals())\n",
    "display(B.eigenvals())\n",
    "\n",
    "#Si se toma eps lo suficientemente pequeño, los autovalores cambian totalmente pues la matriz  A se asemeja a la matriz B."
   ]
  },
  {
   "cell_type": "markdown",
   "id": "335e43ac-f9c0-47c2-af8b-066dc54a7daf",
   "metadata": {},
   "source": [
    "## Procesos de Markov\n",
    "---\n",
    "\n",
    "Una matriz $P = (p_{ij})_{1\\leq i,j\\leq n}$ se dice *estocástica* (o de *Markov*) si sus elementos son todos no negativos y sus columnas suman uno. Los elementos $p_{ij}$ representan la proporción de individuos que pasan del estado $j$ al estado $i$ en cada iteración (también pueden interpretarse como la probabilidad de pasar de $j$ a $i$).\n",
    "\n",
    "**Conjunto de estados**\n",
    "\n",
    "Definimos el conjunto $\\mathcal{P_n}$ de estados, $\\mathcal{P_n}$={$\\pi \\in \\mathbb{R}_+^n: \\pi_1 + \\pi_2 + \\cdots + \\pi_n = 1$} que podemos pensar como vectores de probabilidades.\n",
    "\n",
    "- Si $\\pi \\in \\mathcal{P_n}$ y $M \\in \\mathbb{R}^{n \\times n}$ es una matriz de Markov, $M\\pi \\in \\mathcal{P_n}$\n",
    "- Si $M \\in \\mathbb{R}^{n\\times n}, \\exists \\pi \\in \\mathcal{P_n} : M\\pi = \\pi$\n",
    "  \n",
    "**Estados de equilibrio**\n",
    "Un estado $\\pi \\in \\mathcal{P_n}$ se dice *estado de equilibrio* de una matriz de Markov $M$ si es un autovector de autovalor 1.\n",
    "\n",
    "- Toda matriz de Markov tiene al menos un estado de equilibrio.\n",
    "- Una matriz de Markov puede tener varios estados de equilibrio.\n",
    "- Para el autovalor $\\lambda = 1$, la multiplicidad algebraica coincide con la multiplicidad geométrica, y podemos hallar una base de autovectores de $E_1$ formada por vectores de estado.\n",
    "\n",
    "**Estados límite**\n",
    "Nos preguntamos si dado un estado inicial $\\pi^{(0)}, \\exists \\ \\ \\pi^{(\\infty)}= \\lim_{k \\rightarrow \\infty} \\pi^{(k)}$.\n",
    "\n",
    "En tal caso, $\\pi^{(\\infty)} = \\lim_{k \\rightarrow \\infty} \\pi^{(k+1)}= \\lim_{k \\rightarrow \\infty} M\\pi^{(k)} = M\\pi^{(\\infty)}$, es decir $\\pi^{(\\infty)}$ es un estado de equilibrio.\n",
    "\n",
    "**Preguntas:**\n",
    "\n",
    "- Dado un estado inicial $\\pi^{(0)}$ , el sistema evoluciona siempre hacia un estado límite?\n",
    "- Si el estado de equilibrio no es único, ¿cómo determinamos a qué estado converge?\n",
    "\n",
    "**Distingamos dos casos:**\n",
    "\n",
    "- Si $M$ es diagonalizable:\n",
    "  - Si el único autovalor de módulo 1 es 1 $\\rightarrow \\exists v^{(\\infty)} \\forall v^{(0)}$.\n",
    "  - Si tiene autovalor -1 $\\rightarrow$ la existencia de estado límite depende de la combinación lineal de $v^{(0)}$ en la base de autovectores (si la coordenada para el autovector de autovalor -1 es 0 entonces sí existe límite, sino no existe).\n",
    "\n",
    "- Si $M$ no es diagonalizable:\n",
    "  - Vemos si podemos escribir a $v^{(0)}$ en la base del subespacio generado por los autovectores.\n",
    "\n",
    "Proposición: Sea $P$ una matriz de Markov diagonalizable, si $\\lambda = 1$ es el único autovalor de $P$ de módulo $1$ y $dim(E_1)=1$, entonces $P^{(\\infty)}= \\begin{pmatrix} w & w & \\cdots & w\\end{pmatrix}$ donde $w \\in E_1$ es vector de probabilidad (coordenadas no negativas que suman 1). Además $P^{(\\infty)}$ es de Markov."
   ]
  },
  {
   "cell_type": "markdown",
   "id": "dedebdad-3870-4364-b3ae-8a9ee73e24d0",
   "metadata": {},
   "source": [
    "## Ejercicio 12"
   ]
  },
  {
   "cell_type": "markdown",
   "id": "bf9ac9bd-adef-42d6-a410-3bed0de2cc16",
   "metadata": {},
   "source": [
    "### a) Probar que si $\\lambda$ es autovalor de $P$, entonces $|\\lambda|\\leq 1$"
   ]
  },
  {
   "cell_type": "markdown",
   "id": "f9f94f71-2ced-4cd2-aa11-23066da4aee2",
   "metadata": {},
   "source": [
    "Sea $\\lambda$ autovalor de $P$,\n",
    "\n",
    "$\\implies \\exists v\\neq 0 : Pv = \\lambda v \\implies ||Pv||_2^2=|\\lambda|||v||_2^2$\n",
    "\n",
    "$\\forall i, 1\\leq i \\leq n, (Pv)_i = \\sum_{j=1}^n p_{ij}v_j$\n",
    "\n",
    "$\\implies (Pv)_i = \\lambda v_i = \\sum_{j=1}^n p_{ij}v_j \\implies |\\lambda| |v_i| = |\\sum_{j=1}^n p_{ij}v_j| \\leq \\sum_{j=1}^n |p_{ij}||v_j|$\n",
    "\n",
    "$\\implies |\\lambda|\\sum_{i=1}^n |v_i| \\leq \\sum_{i=1}^n \\sum_{j=1}^n |p_{ij}||v_j| = \\sum_{j=1}^n |v_j| \\sum_{i=1}^n |p_{ij}| = \\sum_{j=1}^n |v_j|$\n",
    "\n",
    "$\\implies |\\lambda| \\leq \\frac{\\sum_{j=1}^n |v_j|}{\\sum_{i=1}^n |v_i|} = \\frac{\\sum_{j=1}^n |v_j|}{\\sum_{j=1}^n |v_j|} = 1$"
   ]
  },
  {
   "cell_type": "markdown",
   "id": "4cb15daa-6e76-4745-b4fb-1ec1433d0cbc",
   "metadata": {},
   "source": [
    "### b) Sea $\\mathbf{1}$ el vector con todas sus coordenadas iguales a $1$. Mostrar que $\\mathbf{1}^tP = 1$. De hecho: $P$ es estocástica si y sólo si sus elementos son no negativos y $\\mathbf{1}^tP = 1$. "
   ]
  },
  {
   "cell_type": "markdown",
   "id": "3420ac45-1d06-41e0-8d4b-6ce2b026de37",
   "metadata": {},
   "source": [
    "$\\forall i, 1\\leq i \\leq n,(\\mathbf{1}^tP)_i = \\sum_{j=1}^n p_{ji} = 1 \\iff 1^tP=1^t$."
   ]
  },
  {
   "cell_type": "markdown",
   "id": "780ed8c8-5178-4935-908c-1ddd947d7d40",
   "metadata": {},
   "source": [
    "### c) Probar que toda matriz estocástica tiene a 1 por autovalor."
   ]
  },
  {
   "cell_type": "markdown",
   "id": "1bd9f2ec-209e-4cac-940f-89db12f9c80f",
   "metadata": {},
   "source": [
    "Por el ítem anterior sabemos que $P$ es estocástica si y solo si $1^tP=1^t$.\n",
    "\n",
    "$1^tP=1^t \\iff P^t1=1 \\iff 1$ es autovalor de $P^t \\iff det(I-P^t)=0 \\iff det((I-P^t)^t)=det(I-P)=0 \\iff 1$ es autovalor de $P$. "
   ]
  },
  {
   "cell_type": "markdown",
   "id": "d26c0f0f-ed8d-40df-a118-3b8af5f3d06f",
   "metadata": {},
   "source": [
    "## Ejercicio 13"
   ]
  },
  {
   "cell_type": "markdown",
   "id": "85594f4e-d5a2-4fbe-9983-415ef8ba4304",
   "metadata": {},
   "source": [
    "Probar que $P$ y $Q$ son matrices estocásticas, entonces:"
   ]
  },
  {
   "cell_type": "markdown",
   "id": "21f9ce0c-98d3-4529-a15f-0e5d603808bb",
   "metadata": {},
   "source": [
    "### a) $PQ$ es estocástica."
   ]
  },
  {
   "cell_type": "markdown",
   "id": "3a66693d-6e10-493e-ba8c-594c0d95839b",
   "metadata": {},
   "source": [
    "$1^tP=1^t \\land 1^tQ=1^t \\implies 1^tPQ = 1^tQ= 1^t$."
   ]
  },
  {
   "cell_type": "markdown",
   "id": "f23a6c89-bd68-4f99-8dc6-78681a8b8c11",
   "metadata": {},
   "source": [
    "### b) $P^n$ es estocástica ($n\\in \\mathbb{N}$) "
   ]
  },
  {
   "cell_type": "markdown",
   "id": "feb7b8f8-33fe-4b68-97f4-eb8b2beba10a",
   "metadata": {},
   "source": [
    "Es consecuencia del ítem a)."
   ]
  },
  {
   "cell_type": "markdown",
   "id": "28e95720-ac66-4373-be48-24ad817e42ed",
   "metadata": {},
   "source": [
    "### c) $P^nQ^m$ es estocástica ($n,m \\in \\mathbb{N}$)"
   ]
  },
  {
   "cell_type": "markdown",
   "id": "e857aa4d-564b-4727-a5d0-ebded5483cbc",
   "metadata": {},
   "source": [
    "Es consecuencia de los ítems anteriores."
   ]
  },
  {
   "cell_type": "markdown",
   "id": "d7c865fe-8ba3-4c38-815c-e2603e7274e5",
   "metadata": {},
   "source": [
    "## Ejercicio 14"
   ]
  },
  {
   "cell_type": "markdown",
   "id": "d396cc7f-64be-43ed-921a-043db5f2eea5",
   "metadata": {},
   "source": [
    "En el instante inicial 20 ratones se encuentran en el compartimiento I (verFigura 1). Las puertas que separan los compartimientos permanecen cerradas salvo durante un breve lapso cada hora, donde los ratones pueden pasar a un comportamiento adyacente o permanecer en el mismo. Se supone que nada distingue un compartimento de otro, es decir que es igualmente probable que un ratón pase a cualquiera de los adyacentes o se quede en el compartimiento en el que está. Se realizan observaciones cada hora y se registra el número de ratones en cada compartimiento."
   ]
  },
  {
   "cell_type": "markdown",
   "id": "4225d945-2c4b-4acc-9d87-0171c14308b2",
   "metadata": {},
   "source": [
    "### a) Determinar la matriz de transición del proceso P."
   ]
  },
  {
   "cell_type": "markdown",
   "id": "214a5850-cf48-4e48-86c2-f2250e8e08ab",
   "metadata": {},
   "source": [
    "El compartimento 1 tiene 3 adyacentes(2, 3 y 4), luego la probabilidad de pasar de 1 a $j \\ \\ (1\\leq j \\leq 4)$ es de $1/4$.\n",
    "El compartimento 2 tiene 1 adyacente (1), luego la probabilidad de pasar de 2 a 1 o de quedarse en 2 es de $1/2$, mientras que de pasar de 2 a 3 o a 4 es de 0.\n",
    "El compartimento 3 tiene 1 adyacente (1), luego la probabilidad de pasar de 3 a 1 o de quedarse en 3 es de $1/2$, mientras que de pasar de 3 a 2 o a 4 es de 0.\n",
    "El compartimento 4 tiene 1 adyacente (1), luego la probabilidad de pasar de 4 a 1 o de quedarse en 4 es de $1/2$, mientras que de pasar de 4 a 2 o a 3 es de 0.\n",
    "\n",
    "$\\implies P= \\begin{pmatrix} 1/4 & 1/2 & 1/2 & 1/2 \\\\ 1/4 & 1/2 & 0 & 0 \\\\ 1/4 & 0 & 1/2 & 0 \\\\ 1/4 & 0 & 0 & 1/2 \\end{pmatrix}$"
   ]
  },
  {
   "cell_type": "markdown",
   "id": "9ce92a8b-1472-4bc2-9999-f28357b0f3ec",
   "metadata": {},
   "source": [
    "### b) Determinar cuántos ratones habrá en cada celda al cabo de 4 horas."
   ]
  },
  {
   "cell_type": "code",
   "execution_count": 87,
   "id": "b47e61b4-b8d0-4744-91fc-f7e6c9aec58e",
   "metadata": {},
   "outputs": [
    {
     "data": {
      "text/latex": [
       "$\\displaystyle \\left[\\begin{matrix}5.0\\\\5.0\\\\5.0\\\\5.0\\end{matrix}\\right]$"
      ],
      "text/plain": [
       "Matrix([\n",
       "[5.0],\n",
       "[5.0],\n",
       "[5.0],\n",
       "[5.0]])"
      ]
     },
     "metadata": {},
     "output_type": "display_data"
    },
    {
     "data": {
      "text/latex": [
       "$\\displaystyle \\left[\\begin{matrix}8.75\\\\3.75\\\\3.75\\\\3.75\\end{matrix}\\right]$"
      ],
      "text/plain": [
       "Matrix([\n",
       "[8.75],\n",
       "[3.75],\n",
       "[3.75],\n",
       "[3.75]])"
      ]
     },
     "metadata": {},
     "output_type": "display_data"
    },
    {
     "data": {
      "text/latex": [
       "$\\displaystyle \\left[\\begin{matrix}7.8125\\\\4.0625\\\\4.0625\\\\4.0625\\end{matrix}\\right]$"
      ],
      "text/plain": [
       "Matrix([\n",
       "[7.8125],\n",
       "[4.0625],\n",
       "[4.0625],\n",
       "[4.0625]])"
      ]
     },
     "metadata": {},
     "output_type": "display_data"
    },
    {
     "data": {
      "text/latex": [
       "$\\displaystyle \\left[\\begin{matrix}8.046875\\\\3.984375\\\\3.984375\\\\3.984375\\end{matrix}\\right]$"
      ],
      "text/plain": [
       "Matrix([\n",
       "[8.046875],\n",
       "[3.984375],\n",
       "[3.984375],\n",
       "[3.984375]])"
      ]
     },
     "metadata": {},
     "output_type": "display_data"
    }
   ],
   "source": [
    "P = Matrix([[1/4,1/2,1/2,1/2], [1/4,1/2,0,0],[1/4,0,1/2,0],[1/4,0,0,1/2]])\n",
    "v0 = Matrix([[20],[0],[0],[0]])\n",
    "display(P@v0) #después de una hora \n",
    "display(P@P@v0) #después de dos horas\n",
    "display(P@P@P@v0) #después de tres horas\n",
    "display(P@P@P@P@v0) #después de cuatro horas"
   ]
  },
  {
   "cell_type": "markdown",
   "id": "ebf20afe-352a-48b8-b54d-bad6b53e25a8",
   "metadata": {},
   "source": [
    "### c) Decidir si existe o no un estado de equilibrio."
   ]
  },
  {
   "cell_type": "code",
   "execution_count": 89,
   "id": "ee9df2cb-ae31-4df2-8020-fab3439a9d15",
   "metadata": {},
   "outputs": [
    {
     "data": {
      "text/latex": [
       "$\\displaystyle \\left[\\begin{matrix}-0.25 & 0 & 0 & 0\\\\0 & 1.0 & 0 & 0\\\\0 & 0 & 0.5 & 0\\\\0 & 0 & 0 & 0.5\\end{matrix}\\right]$"
      ],
      "text/plain": [
       "Matrix([\n",
       "[-0.25,   0,   0,   0],\n",
       "[    0, 1.0,   0,   0],\n",
       "[    0,   0, 0.5,   0],\n",
       "[    0,   0,   0, 0.5]])"
      ]
     },
     "execution_count": 89,
     "metadata": {},
     "output_type": "execute_result"
    }
   ],
   "source": [
    "P.eigenvects()\n",
    "C,D = P.diagonalize()\n",
    "D"
   ]
  },
  {
   "cell_type": "markdown",
   "id": "7a96dd97-1fe9-4ba8-9ccd-3162662022ce",
   "metadata": {},
   "source": [
    "Como P es diagonalizable y el único autovalor de módulo 1 es 1, $\\exists v^{(\\infty)}$ estado de equilibrio para todo $v^{(0)}$."
   ]
  },
  {
   "cell_type": "markdown",
   "id": "729e369b-53a2-4b3e-a47c-fa803156ea72",
   "metadata": {},
   "source": [
    "### d) Decidir si existe $P^{(\\infty)}$ y en tal caso calcularla. ¿Qué aspecto tiene? ¿Por qué? "
   ]
  },
  {
   "cell_type": "markdown",
   "id": "c7af12b4-663f-4175-b5b0-9b4337099293",
   "metadata": {},
   "source": [
    "Como $P$ es diagonalizable, su único autovalor de módulo 1 es 1 y $dim(E_1)=1$, por la proposición existe $P^{(\\infty)}$"
   ]
  },
  {
   "cell_type": "markdown",
   "id": "6c46e073-7644-4d31-a9ad-12735ae5879d",
   "metadata": {},
   "source": [
    "$P^{(\\infty)} = \\lim_{k \\rightarrow \\infty} P^k = \\lim_{k \\rightarrow \\infty} CD^kC^{-1}= C\\begin{pmatrix} 0 & 0 & 0 & 0 \\\\ 0 & 1 & 0 & 0 \\\\ 0 & 0 & 0 & 0 \\\\ 0 & 0 & 0 & 0\\end{pmatrix}C^{-1} $\n",
    "\n",
    "Vemos abajo que las columnas de $P^{(\\infty)}$ son el vector de probabilidad asociado a $E_1$. Tiene este aspecto porque $D^{(\\infty)}$  anula todas las contribuciones excepto las del autovector asociado al autovalor 1.  "
   ]
  },
  {
   "cell_type": "code",
   "execution_count": 94,
   "id": "06db6314-d764-4080-86fb-7ad04f71f2e0",
   "metadata": {},
   "outputs": [
    {
     "data": {
      "text/plain": [
       "array([[0.4],\n",
       "       [0.2],\n",
       "       [0.2],\n",
       "       [0.2]])"
      ]
     },
     "metadata": {},
     "output_type": "display_data"
    },
    {
     "data": {
      "text/latex": [
       "$\\displaystyle \\left[\\begin{matrix}0.4 & 0.4 & 0.4 & 0.4\\\\0.2 & 0.2 & 0.2 & 0.2\\\\0.2 & 0.2 & 0.2 & 0.2\\\\0.2 & 0.2 & 0.2 & 0.2\\end{matrix}\\right]$"
      ],
      "text/plain": [
       "Matrix([\n",
       "[0.4, 0.4, 0.4, 0.4],\n",
       "[0.2, 0.2, 0.2, 0.2],\n",
       "[0.2, 0.2, 0.2, 0.2],\n",
       "[0.2, 0.2, 0.2, 0.2]])"
      ]
     },
     "execution_count": 94,
     "metadata": {},
     "output_type": "execute_result"
    }
   ],
   "source": [
    "D_inf = zeros(4)\n",
    "D_inf[1,1] = 1\n",
    "v =P.eigenvects()[1][2][0]\n",
    "v_prob =  np.array(v, dtype=float)\n",
    "v_prob = v_prob / np.linalg.norm(v_prob, ord=1)\n",
    "display(v_prob) #Autovector de autovalor 1, coordenadas positivas y normalizado (vector de probabilidad)\n",
    "C@D_inf@C.inv() #P_inf"
   ]
  },
  {
   "cell_type": "markdown",
   "id": "347e49ee-285f-4212-8b2f-b4ac9ca22bcc",
   "metadata": {},
   "source": [
    "## Ejercicio 15"
   ]
  },
  {
   "cell_type": "markdown",
   "id": "a14b7fd4-206c-454a-b111-dd2471a8b04d",
   "metadata": {},
   "source": [
    "Un sujeto en evidente estado de ebriedad oscila entre su casa y el bar, separados por $n$ pasos. En cada instante de tiempo da un paso hacia adelante (acercándose a su casa), con probabilidad $p$ o hacia atrás (acercándose nuevamente al bar), con probabilidad $1 − p$. Si llega a alguno de los dos extremos, se queda allı́ y no vuelve a moverse."
   ]
  },
  {
   "cell_type": "markdown",
   "id": "0ec4eea8-d768-4cae-bf1f-d2a9d044f119",
   "metadata": {},
   "source": [
    "### a) Sin hacer ninguna cuenta, mostrar que el proceso admite al menos dos estados límite linealmente independientes entre sı́. Implementar un programa que reciba como input la distancia entre la casa y el bar ($n$) y la probabilidad $p$ y devuelva la matriz de transición del proceso. Verificar que el resultado sea correcto corriéndolo para $n = 5$ y $p = 0.5$.\n",
    "\n"
   ]
  },
  {
   "cell_type": "markdown",
   "id": "eaad7355-e765-40bc-82e2-b40ddbc77df5",
   "metadata": {},
   "source": [
    "Como en los extremos no vuelve a moverse, los estados que representan estas situaciones son estados de equilibrio. Si comenzamos en el bar, el estado límite es el estado que representa esa situación inicial, de manera similar ocurre si comienza en la casa. Sabemos que son linealmente independientes porque estos vectores son de la pinta de los canónicos $e_i, e_j$ con $i \\neq j$ ya que hay 100% de probabilidad que se quede en el estado $i$(casa) o $j$(bar) respectivamente."
   ]
  },
  {
   "cell_type": "code",
   "execution_count": 99,
   "id": "c470f960-a4c9-4070-a18b-ac5bf6fbcd64",
   "metadata": {},
   "outputs": [],
   "source": [
    "def matriz_transicion(n,p):\n",
    "    M = np.zeros((n,n))\n",
    "    M[0,0]= 1\n",
    "    M[n-1,n-1] = 1\n",
    "    for i in range(1,n-1):\n",
    "        M[i+1,i] = p #Probabilidad de ir de i a i+1\n",
    "        M[i-1, i] = 1-p #Probabilidad de ir de i a i-1\n",
    "    return M\n",
    "\n",
    "M = matriz_transicion(5,0.5)\n"
   ]
  },
  {
   "cell_type": "markdown",
   "id": "40d6783f-57a3-4add-bd73-ec53304056c3",
   "metadata": {},
   "source": [
    "### b) Para $n = 20$, tomar $p = 0.5$ y $v^{(0)}$ el vector que corresponde a ubicar al sujeto en cualquiera de los puntos intermedios del trayecto con igual probabilidad. Realizar una simulación del proceso hasta que se estabilice. ¿Cuál es el estado lı́mite? ¿Cómo se interpreta?\n",
    "\n",
    "En este caso, debido a la simetría del problema y a que se parte de una distribución uniforme, el estado límite será también uniforme si el proceso de Markov es ergódico, es decir, si todas las posiciones pueden alcanzarse eventualmente a partir de cualquier otra."
   ]
  },
  {
   "cell_type": "code",
   "execution_count": 101,
   "id": "918f82b1-1fd6-465e-8e91-0cf1de912a28",
   "metadata": {},
   "outputs": [
    {
     "name": "stdout",
     "output_type": "stream",
     "text": [
      "Estabilizado en 427\n",
      "[4.98926206e-01 2.92902918e-05 5.77816208e-05 8.46968179e-05\n",
      " 1.09301706e-04 1.30925129e-04 1.48977256e-04 1.62965672e-04\n",
      " 1.72508809e-04 1.77346355e-04 1.77346355e-04 1.72508809e-04\n",
      " 1.62965672e-04 1.48977256e-04 1.30925129e-04 1.09301706e-04\n",
      " 8.46968179e-05 5.77816208e-05 2.92902918e-05 4.98926206e-01]\n"
     ]
    }
   ],
   "source": [
    "n = 20\n",
    "p = 0.5 \n",
    "v0 = np.ones(20)/n\n",
    "\n",
    "M = matriz_transicion(n,p)\n",
    "max_it = 1000\n",
    "vk = v0\n",
    "i=0\n",
    "while i < max_it:\n",
    "    new_vk = M @ vk  # Aplicamos la matriz de transición\n",
    "    if np.allclose(new_vk, vk, atol=1e-5):  # Verificamos si ya se estabilizó\n",
    "        vk = new_vk\n",
    "        break\n",
    "    vk = new_vk\n",
    "    i += 1\n",
    "if (np.allclose(vk, M@vk, atol=1e-5)):\n",
    "    print(f\"Estabilizado en {i}\")\n",
    "    print(vk)\n",
    "    "
   ]
  },
  {
   "cell_type": "markdown",
   "id": "20087f0a-e861-4d84-8121-fd4c4666b705",
   "metadata": {},
   "source": [
    "### c) Repetir la simulación tomando como vector inicial $v^{(0)}= e_2$ (el segundo canónico). Interpretar el resultado.\n",
    "\n",
    "El valor de la primera coordenada es muy cercano a 1 por lo que es muy probable que se quede en el bar. En este caso tenemos una distribución asimétrica."
   ]
  },
  {
   "cell_type": "code",
   "execution_count": 103,
   "id": "c548d17e-a47b-4897-8235-875c6c06f5ec",
   "metadata": {},
   "outputs": [
    {
     "name": "stdout",
     "output_type": "stream",
     "text": [
      "Estabilizado en 594\n",
      "[9.47339062e-01 0.00000000e+00 3.18155102e-06 0.00000000e+00\n",
      " 6.01833163e-06 0.00000000e+00 8.20293262e-06 0.00000000e+00\n",
      " 9.49861857e-06 0.00000000e+00 9.76498182e-06 0.00000000e+00\n",
      " 8.97315777e-06 0.00000000e+00 7.20895284e-06 0.00000000e+00\n",
      " 4.66354601e-06 0.00000000e+00 1.61277161e-06 5.26018135e-02]\n"
     ]
    }
   ],
   "source": [
    "vk = np.zeros(n)\n",
    "vk[1]=1\n",
    "i=0\n",
    "while i < max_it:\n",
    "    new_vk = M @ vk  # Aplicamos la matriz de transición\n",
    "    if np.allclose(new_vk, vk, atol=1e-5):  # Verificamos si ya se estabilizó\n",
    "        vk = new_vk\n",
    "        break\n",
    "    vk = new_vk\n",
    "    i += 1\n",
    "if (np.allclose(vk, M@vk, atol=1e-5)):\n",
    "    print(f\"Estabilizado en {i}\")\n",
    "    print(vk)\n",
    "    "
   ]
  },
  {
   "cell_type": "markdown",
   "id": "f019e10e-0507-4e4c-b457-809dde53cee3",
   "metadata": {},
   "source": [
    "### d) Repetir las simulaciones con $p = 0.8$. ¿Qué se observa?"
   ]
  },
  {
   "cell_type": "code",
   "execution_count": 105,
   "id": "5c1c4c3a-d490-4190-a4ff-1b6c20e4633d",
   "metadata": {},
   "outputs": [
    {
     "name": "stdout",
     "output_type": "stream",
     "text": [
      "Estabilizado en 62\n",
      "[6.66666665e-02 1.95114906e-10 9.75574006e-10 2.20853026e-09\n",
      " 7.14034895e-09 1.30952062e-08 3.69145933e-08 6.14365182e-08\n",
      " 1.59523991e-07 2.48723723e-07 6.05521565e-07 8.94056985e-07\n",
      " 2.04819404e-06 2.85794765e-06 6.09694480e-06 7.85101964e-06\n",
      " 1.48672652e-05 1.58750865e-05 1.99062534e-05 9.33261801e-01]\n",
      "Estabilizado en 76\n",
      "[2.50000000e-01 0.00000000e+00 3.09767723e-10 0.00000000e+00\n",
      " 2.29312167e-09 0.00000000e+00 1.20761508e-08 0.00000000e+00\n",
      " 5.34935216e-08 0.00000000e+00 2.09124851e-07 0.00000000e+00\n",
      " 7.30149539e-07 0.00000000e+00 2.24017407e-06 0.00000000e+00\n",
      " 5.59618686e-06 0.00000000e+00 7.59502964e-06 7.49983561e-01]\n"
     ]
    }
   ],
   "source": [
    "n = 20\n",
    "p = 0.8\n",
    "M = matriz_transicion(n,p)\n",
    "max_it = 1000\n",
    "\n",
    "#Distribución uniforme\n",
    "vk = np.ones(20)/n\n",
    "i=0\n",
    "while i < max_it:\n",
    "    new_vk = M @ vk  # Aplicamos la matriz de transición\n",
    "    if np.allclose(new_vk, vk, atol=1e-5):  # Verificamos si ya se estabilizó\n",
    "        vk = new_vk\n",
    "        break\n",
    "    vk = new_vk\n",
    "    i += 1\n",
    "if (np.allclose(vk, M@vk, atol=1e-5)):\n",
    "    print(f\"Estabilizado en {i}\")\n",
    "    print(vk)\n",
    "\n",
    "#Distribución asimétrica\n",
    "vk = np.zeros(n)\n",
    "vk[1]=1\n",
    "i=0\n",
    "while i < max_it:\n",
    "    new_vk = M @ vk  # Aplicamos la matriz de transición\n",
    "    if np.allclose(new_vk, vk, atol=1e-5):  # Verificamos si ya se estabilizó\n",
    "        vk = new_vk\n",
    "        break\n",
    "    vk = new_vk\n",
    "    i += 1\n",
    "if (np.allclose(vk, M@vk, atol=1e-5)):\n",
    "    print(f\"Estabilizado en {i}\")\n",
    "    print(vk)"
   ]
  },
  {
   "cell_type": "markdown",
   "id": "4a293bca-b3e7-404e-af89-bc1ed7e0b0a5",
   "metadata": {},
   "source": [
    "### e) Explicar los resultados de todas las simulaciones a partir del análisis de los autovalores y autovectores de la matriz."
   ]
  },
  {
   "cell_type": "markdown",
   "id": "a6eb7a0e-b57c-4fd1-b830-daff3b31cd2e",
   "metadata": {},
   "source": [
    "## Ejercicio 16"
   ]
  },
  {
   "cell_type": "markdown",
   "id": "0dcebdbd-4fbe-41c9-a7a6-76f7a88642e3",
   "metadata": {},
   "source": [
    "### a) Hallar la matriz de transición P sabiendo que $v= \\begin{pmatrix} 0 \\\\ 0 \\\\ 1/2 \\\\ 1/2 \\end{pmatrix}$ es un estado de equilibrio."
   ]
  },
  {
   "cell_type": "code",
   "execution_count": 211,
   "id": "1e05e94b-81e8-462c-a38a-c2cb9d6205a3",
   "metadata": {},
   "outputs": [
    {
     "data": {
      "text/latex": [
       "$\\displaystyle \\left[\\begin{matrix}0.5 a\\\\0.5 d\\\\0.5 b + 0.5 e\\\\0.5 c\\end{matrix}\\right]$"
      ],
      "text/plain": [
       "Matrix([\n",
       "[        0.5*a],\n",
       "[        0.5*d],\n",
       "[0.5*b + 0.5*e],\n",
       "[        0.5*c]])"
      ]
     },
     "metadata": {},
     "output_type": "display_data"
    },
    {
     "data": {
      "text/latex": [
       "$\\displaystyle \\left[\\begin{matrix}\\frac{1}{2} & \\frac{1}{2} & 0 & 0\\\\\\frac{1}{2} & 0 & 0 & 0\\\\0 & \\frac{1}{2} & 0 & 1\\\\0 & 0 & 1 & 0\\end{matrix}\\right]$"
      ],
      "text/plain": [
       "Matrix([\n",
       "[1/2, 1/2, 0, 0],\n",
       "[1/2,   0, 0, 0],\n",
       "[  0, 1/2, 0, 1],\n",
       "[  0,   0, 1, 0]])"
      ]
     },
     "execution_count": 211,
     "metadata": {},
     "output_type": "execute_result"
    }
   ],
   "source": [
    "a,b,c,d,e = symbols('a b c d e')\n",
    "P = Matrix([[1/2,1/2,a,0],[1/2, 0, 0, d],[0, 1/2, b, e], [0, 0, c, 0]])\n",
    "v = Matrix([[0],[0],[1/2],[1/2]])\n",
    "# Como v es estado de equilibrio, Pv=v\n",
    "display(P@v) #-> a= 0, d=0, c=1, b+e = 1. Para que P sea de Markov debe ser b=0 y e=1\n",
    "P = Matrix([[Rational(1,2),Rational(1,2),0,0],[Rational(1,2), 0, 0, 0],[0, Rational(1,2), 0, 1], [0, 0, 1, 0]])\n",
    "P"
   ]
  },
  {
   "cell_type": "markdown",
   "id": "88fef073-a033-40a5-82d5-9797f98ee20d",
   "metadata": {},
   "source": [
    "### b) Determinar la distribución de población después de 10 años, si la distribución inicial es $v_0 = (1/2, 0, 1/2, 0)^t$"
   ]
  },
  {
   "cell_type": "code",
   "execution_count": 223,
   "id": "ab40f146-6de9-4f8a-954b-ab634c219c3f",
   "metadata": {},
   "outputs": [
    {
     "data": {
      "text/latex": [
       "$\\displaystyle \\left[\\begin{matrix}0.25 \\sqrt{5} \\left(- \\frac{1}{5} + \\frac{\\sqrt{5}}{5}\\right) \\left(\\frac{1}{4} - \\frac{\\sqrt{5}}{4}\\right)^{10} - 0.25 \\sqrt{5} \\left(\\frac{1}{4} + \\frac{\\sqrt{5}}{4}\\right)^{10} \\left(- \\frac{\\sqrt{5}}{5} - \\frac{1}{5}\\right)\\\\0.5 \\left(- \\frac{5}{4} - \\frac{\\sqrt{5}}{4}\\right) \\left(- \\frac{1}{5} + \\frac{\\sqrt{5}}{5}\\right) \\left(\\frac{1}{4} - \\frac{\\sqrt{5}}{4}\\right)^{10} + 0.5 \\left(- \\frac{5}{4} + \\frac{\\sqrt{5}}{4}\\right) \\left(\\frac{1}{4} + \\frac{\\sqrt{5}}{4}\\right)^{10} \\left(- \\frac{\\sqrt{5}}{5} - \\frac{1}{5}\\right)\\\\0.5 \\left(\\frac{1}{4} + \\frac{\\sqrt{5}}{4}\\right)^{11} \\left(- \\frac{\\sqrt{5}}{5} - \\frac{1}{5}\\right) + 0.5 \\left(- \\frac{1}{5} + \\frac{\\sqrt{5}}{5}\\right) \\left(\\frac{1}{4} - \\frac{\\sqrt{5}}{4}\\right)^{11} + 0.8\\\\0.5 \\left(\\frac{1}{4} + \\frac{\\sqrt{5}}{4}\\right)^{10} \\left(- \\frac{\\sqrt{5}}{5} - \\frac{1}{5}\\right) + 0.5 \\left(- \\frac{1}{5} + \\frac{\\sqrt{5}}{5}\\right) \\left(\\frac{1}{4} - \\frac{\\sqrt{5}}{4}\\right)^{10} + 0.2\\end{matrix}\\right]$"
      ],
      "text/plain": [
       "Matrix([\n",
       "[                    0.25*sqrt(5)*(-1/5 + sqrt(5)/5)*(1/4 - sqrt(5)/4)**10 - 0.25*sqrt(5)*(1/4 + sqrt(5)/4)**10*(-sqrt(5)/5 - 1/5)],\n",
       "[0.5*(-5/4 - sqrt(5)/4)*(-1/5 + sqrt(5)/5)*(1/4 - sqrt(5)/4)**10 + 0.5*(-5/4 + sqrt(5)/4)*(1/4 + sqrt(5)/4)**10*(-sqrt(5)/5 - 1/5)],\n",
       "[                                0.5*(1/4 + sqrt(5)/4)**11*(-sqrt(5)/5 - 1/5) + 0.5*(-1/5 + sqrt(5)/5)*(1/4 - sqrt(5)/4)**11 + 0.8],\n",
       "[                                0.5*(1/4 + sqrt(5)/4)**10*(-sqrt(5)/5 - 1/5) + 0.5*(-1/5 + sqrt(5)/5)*(1/4 - sqrt(5)/4)**10 + 0.2]])"
      ]
     },
     "execution_count": 223,
     "metadata": {},
     "output_type": "execute_result"
    }
   ],
   "source": [
    "v0 = Matrix([[1/2],[0],[1/2],[0]])\n",
    "C,D = P.diagonalize()    \n",
    "P_10 = C@(D**10)@C.inv()\n",
    "P_10@v0"
   ]
  },
  {
   "cell_type": "markdown",
   "id": "cf5ad3b4-6b67-4748-84a5-c55fc291a1d8",
   "metadata": {},
   "source": [
    "### c) ¿Existe un estado límite cualquiera sea el estado inicial? ¿Existe $P^{(\\infty)}$ ?\n"
   ]
  },
  {
   "cell_type": "markdown",
   "id": "445cfa37-02d2-4dfe-928b-6f810da769db",
   "metadata": {},
   "source": [
    "Como P es diagonalizable y tiene a -1 como autovalor, no existe un estado límite cualquiera sea el estado inicial. Tampoco existe $P^{(\\infty)}$ pues la entrada de la diagonal -1 oscila entre 1 y -1. "
   ]
  },
  {
   "cell_type": "markdown",
   "id": "2f806806-e943-45ac-b13f-03ebf7b70956",
   "metadata": {},
   "source": [
    "### d) ¿Existe estado límite para $v_0 = (0, 0, 1/3 , 2/3 )^t$ ?"
   ]
  },
  {
   "cell_type": "markdown",
   "id": "1bc5a401-629b-45fe-949b-513c11c49136",
   "metadata": {},
   "source": [
    "Existe si la coordenada del autovector asociado al autovalor -1 en la combinación lineal de $v_0$ en la base de autovectores es 0.\n"
   ]
  },
  {
   "cell_type": "code",
   "execution_count": 239,
   "id": "a5a30faf-7d74-405d-af0a-f7317149c8e7",
   "metadata": {},
   "outputs": [],
   "source": [
    "v0 = Matrix([[0],[0],[Rational(1,3)],[Rational(2,3)]])\n",
    "\n",
    "#Uso la matriz de cambio de base Cinv que toma un vector de la base canonica y lo transforma en la base de autovectores.\n",
    "\n",
    "C.inv()@v0 #La primer coordenada es la asociada al autovector de autovalor -1, como no es 0 no existe estado límite para v0\n",
    "v = Rational(1,6)*C[:,0] + Rational(1,2)*C[:,1] #Verificamos que la combinacion lineal da v0 "
   ]
  },
  {
   "cell_type": "markdown",
   "id": "ae53ff7e-0d47-49de-a1f2-4c27c2d9d9dc",
   "metadata": {},
   "source": [
    "## Método de la potencia\n",
    "---"
   ]
  },
  {
   "cell_type": "markdown",
   "id": "cdc32a3d-bb1a-4ff7-ba36-89dde64ac628",
   "metadata": {},
   "source": [
    "## Ejercicio 17"
   ]
  },
  {
   "cell_type": "markdown",
   "id": "b6a0b77e-57ad-44fd-8623-07f1df384312",
   "metadata": {},
   "source": [
    "Sea $A \\in \\mathbb{R}^{n \\times n}$ tal que admite una base de autovectores $\\mathcal{B} = \\{v_1, \\cdots, v_n \\}$ (que supondremos normalizados) y, además, tiene un único autovalor de máximo módulo (digamos $\\lambda_1$). Es decir, sus autovalores satisfacen: $|\\lambda_1|> |\\lambda_2| \\geq |\\lambda_3| \\geq \\cdots \\geq |\\lambda_n|$.\n",
    "\n",
    "Dado $v^{(0)}$ un vector cualquiera tal que sus coordenadas en base $\\mathcal{B}$ son $(a_1, \\cdots, a_n)$, con $a_1 \\neq 0$. Definimos $v^{(k+1)}=Av^{(k)}=A^kv^{(0)}$."
   ]
  },
  {
   "cell_type": "markdown",
   "id": "33d3fd98-407a-4bd8-b021-adcdb880d93e",
   "metadata": {},
   "source": [
    "### a) Probar que $Av^{(k)}=a_1\\lambda_1^kv_1 + \\cdots + a_n\\lambda_n^kv_n$"
   ]
  },
  {
   "cell_type": "markdown",
   "id": "5338f431-d25b-4bd2-ab7f-38d824ac60ae",
   "metadata": {},
   "source": [
    "$(a_1, \\cdots, a_n)$ coordenadas de $v^{(0)}$ en la base $\\mathcal{B} \\iff v^{(0)} = a_1v_1 + \\cdots + a_nv_n$\n",
    "\n",
    "Como $Av^{(k)}=A^kv^{(0)}$ y $A$ es la matriz asociada a una transformación lineal y $\\lambda$ autovalor de $A \\implies \\lambda^k$ autovalor de $A^k$ de mismo autovector:\n",
    "\n",
    "$Av^{(k)} = a_1A^kv_1 + \\cdots + a_nA^kv_n = a_1\\lambda_1^kv_1 + \\cdots + a_n\\lambda_n^kv_n $"
   ]
  },
  {
   "cell_type": "markdown",
   "id": "883a4fd8-940f-4088-86eb-bad5a666ba19",
   "metadata": {},
   "source": [
    "### b) Deducir que $Av^{(k)}= \\lambda_1^k(a_1v_1+ \\varepsilon_k)$, donde $\\varepsilon_k \\rightarrow 0$ cuando $k \\rightarrow \\infty$"
   ]
  },
  {
   "cell_type": "markdown",
   "id": "63ed541b-6103-4e18-adaf-6b432ed4123a",
   "metadata": {},
   "source": [
    "$|\\lambda_1 | > |\\lambda_2| \\leq \\cdots \\leq |\\lambda_n| \\implies \\lambda_1 \\neq 0 \\implies Av^{(k)} = a_1\\lambda_1^kv_1 + \\cdots + a_n\\lambda_n^kv_n = \\lambda_1^k (a_1v_1 + a_2\\frac{\\lambda_2^k}{\\lambda_1^k}v_2 + \\cdots + a_n\\frac{\\lambda_n^k}{\\lambda_1^k}v_n ) $\n",
    "\n",
    "Llamando $\\varepsilon_k = \\sum_{i=2}^n a_i\\frac{\\lambda_i^k}{\\lambda_1^k}v_i$ tenemos que $\\varepsilon_k \\rightarrow 0$ cuando $k \\rightarrow \\infty$"
   ]
  },
  {
   "cell_type": "markdown",
   "id": "efffd90e-106c-4be5-bc1f-6c52c9a61a63",
   "metadata": {},
   "source": [
    "### c) Sea $\\varphi: \\mathbb{C}^n \\rightarrow \\mathbb{C}$ una función lineal tal que $\\varphi(v_1)\\neq 0$. Probar que: $\\frac{\\varphi(Av^{(k)})}{\\varphi(v^{(k)})} \\rightarrow \\lambda_1$"
   ]
  },
  {
   "cell_type": "markdown",
   "id": "64b3d0a8-4ab3-4eaf-b167-6e2613ab52e4",
   "metadata": {},
   "source": [
    "$\\varphi(Av^{(k)}) = \\varphi(\\lambda_1^k(a_1v_1+ \\varepsilon_k))= \\lambda_1^k (a_1\\varphi(v_1) + \\varphi(\\varepsilon_k))$\n",
    "\n",
    "$\\varphi(v^{k}) = \\varphi(Av^{(k-1)})= \\lambda_1^{k-1} (a_1\\varphi(v_1) + \\varphi(\\varepsilon_{k-1}))$\n",
    "\n",
    "Como $\\varepsilon_k \\rightarrow 0 $ cuando $k\\rightarrow \\infty$ tengo que $\\varphi(\\varepsilon_{k-1}) \\rightarrow \\varphi(0) \\land \\varphi(\\varepsilon_{k}) \\rightarrow \\varphi(0)$\n",
    "\n",
    "$\\implies \\frac{\\varphi(Av^{(k)})}{\\varphi(v^{(k)})} \\rightarrow \\frac{\\lambda_1^{k} (a_1\\varphi(v_1) + \\varphi(0))}{\\lambda_1^{k-1} (a_1\\varphi(v_1) + \\varphi(0))} \\rightarrow \\lambda_1$"
   ]
  },
  {
   "cell_type": "markdown",
   "id": "7ab3e51c-d81d-48e7-a5da-0d859aec90d0",
   "metadata": {},
   "source": [
    "### d) Para evitar que $||v^{(k)}||$ tienda a $0$ o a $\\infty$ es usual normalizar $v^{(k)}$ al cabo de cada iteración. Probar que en tal caso, si $\\lambda_1$ es real positivo, se tiene que $v^{(k)} \\rightarrow v_1$."
   ]
  },
  {
   "cell_type": "markdown",
   "id": "87b326e0-723c-4eb6-a3eb-23c01af5fd52",
   "metadata": {},
   "source": [
    "$v^{(k)}= Av^{(k-1)} = \\lambda_1^k(a_1v_1+ \\varepsilon_k) \\rightarrow \\lambda_1^ka_1v_1$\n",
    "\n",
    "Como $v_1$ era un vector normalizado y $v^{(k)}$ también, se tiene que $v^{(k)} \\rightarrow v_1$."
   ]
  },
  {
   "cell_type": "markdown",
   "id": "96e31d69-d76b-4791-baa7-4cc3feecd18e",
   "metadata": {},
   "source": [
    "## Ejercicio 18"
   ]
  },
  {
   "cell_type": "markdown",
   "id": "7f591604-0307-4f62-8897-e50b1af15cb1",
   "metadata": {},
   "source": [
    "Implementar el método de la potencia tal como está descripto en el ejercicio anterior, para calcular el autovalor de máximo módulo, con $v^{(0)}$ aleatorio y $\\varphi$ una funcional lineal cualquiera. Aplicarlo para calcular el autovalor de máximo módulo de\n",
    "\n",
    "$A = \\begin{pmatrix} 1 &2& 1 \\\\ 1 &−1 &1 \\\\ 1& 5 &1\\end{pmatrix}$\n",
    "\n",
    "Comparar con el resultado arrojado por **np.linalg.eig**."
   ]
  },
  {
   "cell_type": "code",
   "execution_count": 343,
   "id": "9dc8cb70-ecf6-40f1-9f9d-b6715f1d6a3b",
   "metadata": {},
   "outputs": [
    {
     "name": "stdout",
     "output_type": "stream",
     "text": [
      "3.5413790573171537\n",
      "[0.54068583 0.29271758 0.78865408]\n"
     ]
    },
    {
     "data": {
      "text/plain": [
       "EigResult(eigenvalues=array([ 3.54138127e+00, -6.00214323e-16, -2.54138127e+00]), eigenvectors=array([[-0.54068572, -0.70710678,  0.10625119],\n",
       "       [-0.29271712,  0.        , -0.58877833],\n",
       "       [-0.78865432,  0.70710678,  0.8012807 ]]))"
      ]
     },
     "execution_count": 343,
     "metadata": {},
     "output_type": "execute_result"
    }
   ],
   "source": [
    "A = np.array([[1, 2, 1],\n",
    "              [1, -1, 1],\n",
    "              [1, 5, 1]])\n",
    "v0 = np.random.rand(A.shape[0])\n",
    "def f(v):\n",
    "    return v[0]+v[1]\n",
    "def metodo_potencia(A, v0, f, tol=1e-6, max_it=2000):\n",
    "    v = v0 / np.linalg.norm(v0)  # Normalización inicial\n",
    "    for _ in range(max_it):\n",
    "        Av = A @ v\n",
    "        v_next = Av / np.linalg.norm(Av)\n",
    "        if np.linalg.norm(v_next - v) < tol:\n",
    "            break\n",
    "        v = v_next\n",
    "    f_Av = f(Av)\n",
    "    f_v = f(v)\n",
    "    lambda_1 = f_Av/f_v\n",
    "    return v, lambda_1\n",
    "\n",
    "v1, lambda_1 = metodo_potencia(A,v0, f)\n",
    "\n",
    "print(lambda_1)\n",
    "print(v1)\n",
    "np.linalg.eig(A)"
   ]
  },
  {
   "cell_type": "markdown",
   "id": "9c6e7a6b-5f25-411b-8057-91cf626a4612",
   "metadata": {},
   "source": [
    "## Ejercicio 19"
   ]
  },
  {
   "cell_type": "markdown",
   "id": "37e8d688-94b4-4d9d-a544-05927fefa504",
   "metadata": {},
   "source": [
    "Mostrar que si en el Ejercicio 17 se toma una funcional lineal $\\phi_k$ distinta en cada paso, el método converge igualmente a $\\lambda_1$. Concluir que los cocientes de Raleigh: $r_k = \\frac{v^{(k)t}Av^{(k)}}{v^{(k)t}v^{(k)}}$ convergen a $\\lambda_1$. Observar que si $v^{(0)}$ es tal que $a_1 \\neq 0$, las aplicaciones $\\varphi_k$ correspondientes a los cocientes de Raleigh nunca se anulan en $v_1$. Modificar el programa del ejercicio anterior de modo de utilizar el cociente de Raleigh como aproximación de $\\lambda_1$."
   ]
  },
  {
   "cell_type": "code",
   "execution_count": 339,
   "id": "61904b59-c815-4ea2-be58-7392e825a638",
   "metadata": {},
   "outputs": [
    {
     "name": "stdout",
     "output_type": "stream",
     "text": [
      "3.541379346317218\n",
      "[0.54068561 0.29271667 0.78865456]\n"
     ]
    }
   ],
   "source": [
    "def metodo_potencia(A, v0, tol=1e-6, max_it=2000):\n",
    "    v = v0 / np.linalg.norm(v0)  # Normalización inicial\n",
    "    for _ in range(max_it):\n",
    "        Av = A @ v\n",
    "        v_next = Av / np.linalg.norm(Av)\n",
    "        if np.linalg.norm(v_next - v) < tol:\n",
    "            break\n",
    "        v = v_next\n",
    "    lambda_1 = (v.T @ A @ v) / (v.T @ v)\n",
    "    return v, lambda_1\n",
    "\n",
    "v1, lambda_1 = metodo_potencia(A,v0)\n",
    "print(lambda_1)\n",
    "print(v1)"
   ]
  },
  {
   "cell_type": "markdown",
   "id": "5a948491-078b-41da-b15e-a8ad2ed0406b",
   "metadata": {},
   "source": [
    "## Ejercicio 20"
   ]
  },
  {
   "cell_type": "markdown",
   "id": "1218a1db-a1dd-4e95-a9ed-2a93f22a43ab",
   "metadata": {},
   "source": [
    "Considerar las matrices:\n",
    "\n",
    "$A= \\begin{pmatrix} -6 & 9 & 3 \\\\ 0 & 8 & -2 \\\\ 0 & -1 & 7\\end{pmatrix}$\n",
    "\n",
    "$B= \\begin{pmatrix} 5 & 9 & 6 \\\\ -3 & -7 & -6 \\\\ 0 & 0 & -1\\end{pmatrix}$\n",
    "\n",
    "y, en cada caso, el Método de la Potencia dado por la siguiente iteración:\n",
    "\n",
    "$\\begin{cases} v^{(k)}= \\frac{Av^{(k-1)}}{||Av^{(k-1)}||}  \\\\ r_k = \\frac{(v^{(k)})^tAv^{(k)}}{(v^{(k)})^tv^{(k)}} \\end{cases}$\n",
    "\n",
    "$\\begin{cases} v^{(k)}= \\frac{Bv^{(k-1)}}{||Bv^{(k-1)}||}  \\\\ r_k = \\frac{(v^{(k)})^tBv^{(k)}}{(v^{(k)})^tv^{(k)}} \\end{cases}$\n",
    "\n",
    "para $k\\geq 1$."
   ]
  },
  {
   "cell_type": "markdown",
   "id": "a898c34b-40cf-4639-ad81-302363ca2215",
   "metadata": {},
   "source": [
    "### a) Calcular los autovalores y los autovectores de A y B. Determinar si las matrices cumplen las hipótesis del Método de la Potencia."
   ]
  },
  {
   "cell_type": "code",
   "execution_count": 363,
   "id": "6fc62f53-9323-49b3-b03c-01469062d4e4",
   "metadata": {},
   "outputs": [
    {
     "data": {
      "text/plain": [
       "{9: 1, 6: 1, -6: 1}"
      ]
     },
     "metadata": {},
     "output_type": "display_data"
    },
    {
     "data": {
      "text/plain": [
       "{-1: 1, 2: 1, -4: 1}"
      ]
     },
     "metadata": {},
     "output_type": "display_data"
    }
   ],
   "source": [
    "A = Matrix([[-6, 9, 3],[0,8,-2],[0,-1,7]])\n",
    "B = Matrix([[5, 9, 6],[-3,-7,-6],[0,0,-1]])\n",
    "\n",
    "display(A.eigenvals()) #-> A es diagonalizable y tiene un único autovalor de modulo maximo \n",
    "display(B.eigenvals()) #-> B es diagonalizable y tiene un autovalor dominante"
   ]
  },
  {
   "cell_type": "markdown",
   "id": "c7ccf8a4-5cfe-4a21-b157-e32bca3191bf",
   "metadata": {},
   "source": [
    "### b) Para la matriz A, definir un subespacio S tal que $r_k$ converja al autovalor de módulo máximo para cualquier $v^{(0)} \\in \\mathbb{R}^3 − S$. "
   ]
  },
  {
   "cell_type": "markdown",
   "id": "f668f9d8-9a0f-4565-8a96-5f5cfab07cb9",
   "metadata": {},
   "source": [
    "Dado que el método de la potencia requiere que la componente en la dirección del autovector de autovalor de módulo máximo sea no nula, tomamos $S$ igual al subespacio ortogonal al subespacio propio del autovalor de módulo máximo.\n",
    "\n",
    "Si $v^{(0)}$ es ortogonal al subespacio generado por $v_1$​, no habrá proyección en la dirección del autovector dominante, y el método no convergerá al autovalor de módulo máximo. \n",
    "\n"
   ]
  },
  {
   "cell_type": "markdown",
   "id": "0ea0e8ae-abab-4f78-aae0-1ceaa8d07f2d",
   "metadata": {},
   "source": [
    "### c) Para la matriz B, hallar un $\\alpha \\in \\mathbb{R}$ tal que el Método de la Potencia con $v^{(0)} = (−1, \\alpha, −2)$ encuentre el segundo autovalor de mayor módulo."
   ]
  },
  {
   "cell_type": "markdown",
   "id": "b7d08147-b243-4485-baa9-53d3736360e5",
   "metadata": {},
   "source": []
  }
 ],
 "metadata": {
  "kernelspec": {
   "display_name": "Python 3 (ipykernel)",
   "language": "python",
   "name": "python3"
  },
  "language_info": {
   "codemirror_mode": {
    "name": "ipython",
    "version": 3
   },
   "file_extension": ".py",
   "mimetype": "text/x-python",
   "name": "python",
   "nbconvert_exporter": "python",
   "pygments_lexer": "ipython3",
   "version": "3.12.4"
  }
 },
 "nbformat": 4,
 "nbformat_minor": 5
}























































def generar_permutacion_ciclica(S_r, N):
    """
    Implementación clásica de g sobre todo el dominio.
    
    Genera una permutación cíclica que actúa como ciclo sobre los elementos de S_r,
    y fija los restantes elementos del dominio {0, ..., N-1}.
    """
    permutacion = {s: s for s in range(N)}  # Inicialmente identidad
    r = len(S_r)
    for i in range(r):
        permutacion[S_r[i]] = S_r[(i + 1) % r]
    return permutacion

def aplicar_g_iterado(s, permutacion, x):
    """
    Implementación clásica de f sobre un elemento del dominio.
    
    Aplica la permutación 'permutacion' x veces sobre el valor s.
    """
    for _ in range(x):
        s = permutacion[s]
    return s







import random #Para generar S_r

# TEST 1 de la implementación clásica de f
n = 6 # Así obtenemos una probabilidad de recuperación de r alta
r = 7 #Tomamos un período interesante, no par

N = 2**n #Tamaño del registro de entrada y salida.

S_r = random.sample(range(0, N-1), r)
s = random.choice(S_r) #Elegimos el elemento inicial para aplicar g

Y = generar_permutacion_ciclica(S_r, N) # Imagen de g sobre el registro de entrada 
for x in range(0, N-1):
    print(f"f({x}) = g^{x}({s}) = {aplicar_g_iterado(s, Y, x)}")
























